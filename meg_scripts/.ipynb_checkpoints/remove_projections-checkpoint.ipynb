{
 "cells": [
  {
   "cell_type": "code",
   "execution_count": 56,
   "metadata": {},
   "outputs": [],
   "source": [
    "import mne\n",
    "from glob import glob\n",
    "import os"
   ]
  },
  {
   "cell_type": "code",
   "execution_count": 73,
   "metadata": {
    "scrolled": true
   },
   "outputs": [
    {
     "name": "stdout",
     "output_type": "stream",
     "text": [
      "sub02\n",
      "Opening raw data file B:\\Data\\sub02\\PROJ0076_SUBJ0002_SER001_FILESNO001.fif...\n",
      "    Read a total of 8 projection items:\n",
      "        grad3v_ssp_upr.fif : PCA-v1 (1 x 306)  idle\n",
      "        grad3v_ssp_upr.fif : PCA-v2 (1 x 306)  idle\n",
      "        grad3v_ssp_upr.fif : PCA-v3 (1 x 306)  idle\n",
      "        mag5v_ssp_upr.fif : PCA-v1 (1 x 306)  idle\n",
      "        mag5v_ssp_upr.fif : PCA-v2 (1 x 306)  idle\n",
      "        mag5v_ssp_upr.fif : PCA-v3 (1 x 306)  idle\n",
      "        mag5v_ssp_upr.fif : PCA-v4 (1 x 306)  idle\n",
      "        mag5v_ssp_upr.fif : PCA-v5 (1 x 306)  idle\n",
      "    Range : 888000 ... 2444999 =    888.000 ...  2444.999 secs\n",
      "Ready.\n",
      "Reading 0 ... 1556999  =      0.000 ...  1556.999 secs...\n"
     ]
    },
    {
     "name": "stderr",
     "output_type": "stream",
     "text": [
      "<ipython-input-73-967f35f85865>:17: RuntimeWarning: This filename (B:\\Data\\sub02\\PROJ0076_SUBJ0002_SER001_FILESNO001.fif) does not conform to MNE naming conventions. All raw files should end with raw.fif, raw_sss.fif, raw_tsss.fif, raw.fif.gz, raw_sss.fif.gz, raw_tsss.fif.gz or _meg.fif\n",
      "  raw = mne.io.read_raw_fif(f,preload=True)\n",
      "<ipython-input-73-967f35f85865>:17: DeprecationWarning: The default for on_split_missing is \"warn\" in 0.22 but will change to \"raise\" in 0.23, set it explicitly to avoid this message\n",
      "  raw = mne.io.read_raw_fif(f,preload=True)\n",
      "<ipython-input-73-967f35f85865>:17: RuntimeWarning: Split raw file detected but next file \\\\blur\\ECOABS\\Data\\sub02\\PROJ0076_SUBJ0002_SER001_FILESNO001-1.fif does not exist. Ensure all files were transferred properly and that split and original files were not manually renamed on disk (split files should be renamed by loading and re-saving with MNE-Python to preserve proper filename linkage).\n",
      "  raw = mne.io.read_raw_fif(f,preload=True)\n"
     ]
    },
    {
     "name": "stdout",
     "output_type": "stream",
     "text": [
      "Created an SSP operator (subspace dimension = 3)\n",
      "3 projection items activated\n",
      "SSP projectors applied...\n",
      "Writing \\\\blur\\ECOABS\\Data\\sub02\\proj\\PROJ0076_SUBJ0002_SER001_FILESNO001.fif\n"
     ]
    },
    {
     "name": "stderr",
     "output_type": "stream",
     "text": [
      "<ipython-input-73-967f35f85865>:29: RuntimeWarning: This filename (\\\\blur\\ECOABS\\Data\\sub02\\proj\\PROJ0076_SUBJ0002_SER001_FILESNO001.fif) does not conform to MNE naming conventions. All raw files should end with raw.fif, raw_sss.fif, raw_tsss.fif, raw.fif.gz, raw_sss.fif.gz, raw_tsss.fif.gz or _meg.fif\n",
      "  raw.save(fname)\n"
     ]
    },
    {
     "name": "stdout",
     "output_type": "stream",
     "text": [
      "Closing \\\\blur\\ECOABS\\Data\\sub02\\proj\\PROJ0076_SUBJ0002_SER001_FILESNO001.fif\n",
      "[done]\n",
      "Opening raw data file B:\\Data\\sub02\\PROJ0076_SUBJ0002_SER001_FILESNO002.fif...\n",
      "    Read a total of 8 projection items:\n",
      "        grad3v_ssp_upr.fif : PCA-v1 (1 x 306)  idle\n",
      "        grad3v_ssp_upr.fif : PCA-v2 (1 x 306)  idle\n",
      "        grad3v_ssp_upr.fif : PCA-v3 (1 x 306)  idle\n",
      "        mag5v_ssp_upr.fif : PCA-v1 (1 x 306)  idle\n",
      "        mag5v_ssp_upr.fif : PCA-v2 (1 x 306)  idle\n",
      "        mag5v_ssp_upr.fif : PCA-v3 (1 x 306)  idle\n",
      "        mag5v_ssp_upr.fif : PCA-v4 (1 x 306)  idle\n",
      "        mag5v_ssp_upr.fif : PCA-v5 (1 x 306)  idle\n",
      "    Range : 2445000 ... 2664999 =   2445.000 ...  2664.999 secs\n",
      "Ready.\n",
      "Reading 0 ... 219999  =      0.000 ...   219.999 secs...\n"
     ]
    },
    {
     "name": "stderr",
     "output_type": "stream",
     "text": [
      "<ipython-input-73-967f35f85865>:17: RuntimeWarning: This filename (B:\\Data\\sub02\\PROJ0076_SUBJ0002_SER001_FILESNO002.fif) does not conform to MNE naming conventions. All raw files should end with raw.fif, raw_sss.fif, raw_tsss.fif, raw.fif.gz, raw_sss.fif.gz, raw_tsss.fif.gz or _meg.fif\n",
      "  raw = mne.io.read_raw_fif(f,preload=True)\n"
     ]
    },
    {
     "name": "stdout",
     "output_type": "stream",
     "text": [
      "Created an SSP operator (subspace dimension = 3)\n",
      "3 projection items activated\n",
      "SSP projectors applied...\n",
      "Writing \\\\blur\\ECOABS\\Data\\sub02\\proj\\PROJ0076_SUBJ0002_SER001_FILESNO002.fif\n"
     ]
    },
    {
     "name": "stderr",
     "output_type": "stream",
     "text": [
      "<ipython-input-73-967f35f85865>:29: RuntimeWarning: This filename (\\\\blur\\ECOABS\\Data\\sub02\\proj\\PROJ0076_SUBJ0002_SER001_FILESNO002.fif) does not conform to MNE naming conventions. All raw files should end with raw.fif, raw_sss.fif, raw_tsss.fif, raw.fif.gz, raw_sss.fif.gz, raw_tsss.fif.gz or _meg.fif\n",
      "  raw.save(fname)\n"
     ]
    },
    {
     "name": "stdout",
     "output_type": "stream",
     "text": [
      "Closing \\\\blur\\ECOABS\\Data\\sub02\\proj\\PROJ0076_SUBJ0002_SER001_FILESNO002.fif\n",
      "[done]\n",
      "Opening raw data file B:\\Data\\sub02\\PROJ0076_SUBJ0002_SER002_FILESNO001.fif...\n",
      "    Read a total of 8 projection items:\n",
      "        grad3v_ssp_upr.fif : PCA-v1 (1 x 306)  idle\n",
      "        grad3v_ssp_upr.fif : PCA-v2 (1 x 306)  idle\n",
      "        grad3v_ssp_upr.fif : PCA-v3 (1 x 306)  idle\n",
      "        mag5v_ssp_upr.fif : PCA-v1 (1 x 306)  idle\n",
      "        mag5v_ssp_upr.fif : PCA-v2 (1 x 306)  idle\n",
      "        mag5v_ssp_upr.fif : PCA-v3 (1 x 306)  idle\n",
      "        mag5v_ssp_upr.fif : PCA-v4 (1 x 306)  idle\n",
      "        mag5v_ssp_upr.fif : PCA-v5 (1 x 306)  idle\n",
      "    Range : 94000 ... 787999 =     94.000 ...   787.999 secs\n",
      "Ready.\n",
      "Reading 0 ... 693999  =      0.000 ...   693.999 secs...\n"
     ]
    },
    {
     "name": "stderr",
     "output_type": "stream",
     "text": [
      "<ipython-input-73-967f35f85865>:17: RuntimeWarning: This filename (B:\\Data\\sub02\\PROJ0076_SUBJ0002_SER002_FILESNO001.fif) does not conform to MNE naming conventions. All raw files should end with raw.fif, raw_sss.fif, raw_tsss.fif, raw.fif.gz, raw_sss.fif.gz, raw_tsss.fif.gz or _meg.fif\n",
      "  raw = mne.io.read_raw_fif(f,preload=True)\n"
     ]
    },
    {
     "name": "stdout",
     "output_type": "stream",
     "text": [
      "Created an SSP operator (subspace dimension = 3)\n",
      "3 projection items activated\n",
      "SSP projectors applied...\n",
      "Writing \\\\blur\\ECOABS\\Data\\sub02\\proj\\PROJ0076_SUBJ0002_SER002_FILESNO001.fif\n"
     ]
    },
    {
     "name": "stderr",
     "output_type": "stream",
     "text": [
      "<ipython-input-73-967f35f85865>:29: RuntimeWarning: This filename (\\\\blur\\ECOABS\\Data\\sub02\\proj\\PROJ0076_SUBJ0002_SER002_FILESNO001.fif) does not conform to MNE naming conventions. All raw files should end with raw.fif, raw_sss.fif, raw_tsss.fif, raw.fif.gz, raw_sss.fif.gz, raw_tsss.fif.gz or _meg.fif\n",
      "  raw.save(fname)\n"
     ]
    },
    {
     "name": "stdout",
     "output_type": "stream",
     "text": [
      "Closing \\\\blur\\ECOABS\\Data\\sub02\\proj\\PROJ0076_SUBJ0002_SER002_FILESNO001.fif\n",
      "[done]\n",
      "Opening raw data file B:\\Data\\sub02\\PROJ0076_SUBJ0002_SER003_FILESNO001.fif...\n",
      "    Read a total of 8 projection items:\n",
      "        grad3v_ssp_upr.fif : PCA-v1 (1 x 306)  idle\n",
      "        grad3v_ssp_upr.fif : PCA-v2 (1 x 306)  idle\n",
      "        grad3v_ssp_upr.fif : PCA-v3 (1 x 306)  idle\n",
      "        mag5v_ssp_upr.fif : PCA-v1 (1 x 306)  idle\n",
      "        mag5v_ssp_upr.fif : PCA-v2 (1 x 306)  idle\n",
      "        mag5v_ssp_upr.fif : PCA-v3 (1 x 306)  idle\n",
      "        mag5v_ssp_upr.fif : PCA-v4 (1 x 306)  idle\n",
      "        mag5v_ssp_upr.fif : PCA-v5 (1 x 306)  idle\n",
      "    Range : 142000 ... 801999 =    142.000 ...   801.999 secs\n",
      "Ready.\n",
      "Reading 0 ... 659999  =      0.000 ...   659.999 secs...\n"
     ]
    },
    {
     "name": "stderr",
     "output_type": "stream",
     "text": [
      "<ipython-input-73-967f35f85865>:17: RuntimeWarning: This filename (B:\\Data\\sub02\\PROJ0076_SUBJ0002_SER003_FILESNO001.fif) does not conform to MNE naming conventions. All raw files should end with raw.fif, raw_sss.fif, raw_tsss.fif, raw.fif.gz, raw_sss.fif.gz, raw_tsss.fif.gz or _meg.fif\n",
      "  raw = mne.io.read_raw_fif(f,preload=True)\n"
     ]
    },
    {
     "name": "stdout",
     "output_type": "stream",
     "text": [
      "Created an SSP operator (subspace dimension = 3)\n",
      "3 projection items activated\n",
      "SSP projectors applied...\n",
      "Writing \\\\blur\\ECOABS\\Data\\sub02\\proj\\PROJ0076_SUBJ0002_SER003_FILESNO001.fif\n"
     ]
    },
    {
     "name": "stderr",
     "output_type": "stream",
     "text": [
      "<ipython-input-73-967f35f85865>:29: RuntimeWarning: This filename (\\\\blur\\ECOABS\\Data\\sub02\\proj\\PROJ0076_SUBJ0002_SER003_FILESNO001.fif) does not conform to MNE naming conventions. All raw files should end with raw.fif, raw_sss.fif, raw_tsss.fif, raw.fif.gz, raw_sss.fif.gz, raw_tsss.fif.gz or _meg.fif\n",
      "  raw.save(fname)\n"
     ]
    },
    {
     "name": "stdout",
     "output_type": "stream",
     "text": [
      "Closing \\\\blur\\ECOABS\\Data\\sub02\\proj\\PROJ0076_SUBJ0002_SER003_FILESNO001.fif\n",
      "[done]\n",
      "Opening raw data file B:\\Data\\sub02\\PROJ0076_SUBJ0002_SER004_FILESNO001.fif...\n",
      "    Read a total of 8 projection items:\n",
      "        grad3v_ssp_upr.fif : PCA-v1 (1 x 306)  idle\n",
      "        grad3v_ssp_upr.fif : PCA-v2 (1 x 306)  idle\n",
      "        grad3v_ssp_upr.fif : PCA-v3 (1 x 306)  idle\n",
      "        mag5v_ssp_upr.fif : PCA-v1 (1 x 306)  idle\n",
      "        mag5v_ssp_upr.fif : PCA-v2 (1 x 306)  idle\n",
      "        mag5v_ssp_upr.fif : PCA-v3 (1 x 306)  idle\n",
      "        mag5v_ssp_upr.fif : PCA-v4 (1 x 306)  idle\n",
      "        mag5v_ssp_upr.fif : PCA-v5 (1 x 306)  idle\n",
      "    Range : 85000 ... 719999 =     85.000 ...   719.999 secs\n",
      "Ready.\n",
      "Reading 0 ... 634999  =      0.000 ...   634.999 secs...\n"
     ]
    },
    {
     "name": "stderr",
     "output_type": "stream",
     "text": [
      "<ipython-input-73-967f35f85865>:17: RuntimeWarning: This filename (B:\\Data\\sub02\\PROJ0076_SUBJ0002_SER004_FILESNO001.fif) does not conform to MNE naming conventions. All raw files should end with raw.fif, raw_sss.fif, raw_tsss.fif, raw.fif.gz, raw_sss.fif.gz, raw_tsss.fif.gz or _meg.fif\n",
      "  raw = mne.io.read_raw_fif(f,preload=True)\n"
     ]
    },
    {
     "name": "stdout",
     "output_type": "stream",
     "text": [
      "Created an SSP operator (subspace dimension = 3)\n",
      "3 projection items activated\n",
      "SSP projectors applied...\n",
      "Writing \\\\blur\\ECOABS\\Data\\sub02\\proj\\PROJ0076_SUBJ0002_SER004_FILESNO001.fif\n"
     ]
    },
    {
     "name": "stderr",
     "output_type": "stream",
     "text": [
      "<ipython-input-73-967f35f85865>:29: RuntimeWarning: This filename (\\\\blur\\ECOABS\\Data\\sub02\\proj\\PROJ0076_SUBJ0002_SER004_FILESNO001.fif) does not conform to MNE naming conventions. All raw files should end with raw.fif, raw_sss.fif, raw_tsss.fif, raw.fif.gz, raw_sss.fif.gz, raw_tsss.fif.gz or _meg.fif\n",
      "  raw.save(fname)\n"
     ]
    },
    {
     "name": "stdout",
     "output_type": "stream",
     "text": [
      "Closing \\\\blur\\ECOABS\\Data\\sub02\\proj\\PROJ0076_SUBJ0002_SER004_FILESNO001.fif\n",
      "[done]\n",
      "Opening raw data file B:\\Data\\sub02\\PROJ0076_SUBJ0002_SER005_FILESNO001.fif...\n",
      "    Read a total of 8 projection items:\n",
      "        grad3v_ssp_upr.fif : PCA-v1 (1 x 306)  idle\n",
      "        grad3v_ssp_upr.fif : PCA-v2 (1 x 306)  idle\n",
      "        grad3v_ssp_upr.fif : PCA-v3 (1 x 306)  idle\n",
      "        mag5v_ssp_upr.fif : PCA-v1 (1 x 306)  idle\n",
      "        mag5v_ssp_upr.fif : PCA-v2 (1 x 306)  idle\n",
      "        mag5v_ssp_upr.fif : PCA-v3 (1 x 306)  idle\n",
      "        mag5v_ssp_upr.fif : PCA-v4 (1 x 306)  idle\n",
      "        mag5v_ssp_upr.fif : PCA-v5 (1 x 306)  idle\n",
      "    Range : 43000 ... 689999 =     43.000 ...   689.999 secs\n",
      "Ready.\n",
      "Reading 0 ... 646999  =      0.000 ...   646.999 secs...\n"
     ]
    },
    {
     "name": "stderr",
     "output_type": "stream",
     "text": [
      "<ipython-input-73-967f35f85865>:17: RuntimeWarning: This filename (B:\\Data\\sub02\\PROJ0076_SUBJ0002_SER005_FILESNO001.fif) does not conform to MNE naming conventions. All raw files should end with raw.fif, raw_sss.fif, raw_tsss.fif, raw.fif.gz, raw_sss.fif.gz, raw_tsss.fif.gz or _meg.fif\n",
      "  raw = mne.io.read_raw_fif(f,preload=True)\n"
     ]
    },
    {
     "name": "stdout",
     "output_type": "stream",
     "text": [
      "Created an SSP operator (subspace dimension = 3)\n",
      "3 projection items activated\n",
      "SSP projectors applied...\n",
      "Writing \\\\blur\\ECOABS\\Data\\sub02\\proj\\PROJ0076_SUBJ0002_SER005_FILESNO001.fif\n"
     ]
    },
    {
     "name": "stderr",
     "output_type": "stream",
     "text": [
      "<ipython-input-73-967f35f85865>:29: RuntimeWarning: This filename (\\\\blur\\ECOABS\\Data\\sub02\\proj\\PROJ0076_SUBJ0002_SER005_FILESNO001.fif) does not conform to MNE naming conventions. All raw files should end with raw.fif, raw_sss.fif, raw_tsss.fif, raw.fif.gz, raw_sss.fif.gz, raw_tsss.fif.gz or _meg.fif\n",
      "  raw.save(fname)\n"
     ]
    },
    {
     "name": "stdout",
     "output_type": "stream",
     "text": [
      "Closing \\\\blur\\ECOABS\\Data\\sub02\\proj\\PROJ0076_SUBJ0002_SER005_FILESNO001.fif\n",
      "[done]\n",
      "sub03\n",
      "Opening raw data file B:\\Data\\sub03\\PROJ0076_SUBJ0003_SER001_FILESNO001.fif...\n",
      "    Read a total of 8 projection items:\n",
      "        grad3v_ssp_upr.fif : PCA-v1 (1 x 306)  idle\n",
      "        grad3v_ssp_upr.fif : PCA-v2 (1 x 306)  idle\n",
      "        grad3v_ssp_upr.fif : PCA-v3 (1 x 306)  idle\n",
      "        mag5v_ssp_upr.fif : PCA-v1 (1 x 306)  idle\n",
      "        mag5v_ssp_upr.fif : PCA-v2 (1 x 306)  idle\n",
      "        mag5v_ssp_upr.fif : PCA-v3 (1 x 306)  idle\n",
      "        mag5v_ssp_upr.fif : PCA-v4 (1 x 306)  idle\n",
      "        mag5v_ssp_upr.fif : PCA-v5 (1 x 306)  idle\n"
     ]
    },
    {
     "name": "stderr",
     "output_type": "stream",
     "text": [
      "<ipython-input-73-967f35f85865>:17: RuntimeWarning: This filename (B:\\Data\\sub03\\PROJ0076_SUBJ0003_SER001_FILESNO001.fif) does not conform to MNE naming conventions. All raw files should end with raw.fif, raw_sss.fif, raw_tsss.fif, raw.fif.gz, raw_sss.fif.gz, raw_tsss.fif.gz or _meg.fif\n",
      "  raw = mne.io.read_raw_fif(f,preload=True)\n"
     ]
    },
    {
     "name": "stdout",
     "output_type": "stream",
     "text": [
      "    Range : 34000 ... 1555999 =     34.000 ...  1555.999 secs\n",
      "Ready.\n",
      "Reading 0 ... 1521999  =      0.000 ...  1521.999 secs...\n",
      "Created an SSP operator (subspace dimension = 3)\n",
      "3 projection items activated\n",
      "SSP projectors applied...\n",
      "Writing \\\\blur\\ECOABS\\Data\\sub03\\proj\\PROJ0076_SUBJ0003_SER001_FILESNO001.fif\n"
     ]
    },
    {
     "name": "stderr",
     "output_type": "stream",
     "text": [
      "<ipython-input-73-967f35f85865>:29: RuntimeWarning: This filename (\\\\blur\\ECOABS\\Data\\sub03\\proj\\PROJ0076_SUBJ0003_SER001_FILESNO001.fif) does not conform to MNE naming conventions. All raw files should end with raw.fif, raw_sss.fif, raw_tsss.fif, raw.fif.gz, raw_sss.fif.gz, raw_tsss.fif.gz or _meg.fif\n",
      "  raw.save(fname)\n"
     ]
    },
    {
     "name": "stdout",
     "output_type": "stream",
     "text": [
      "Closing \\\\blur\\ECOABS\\Data\\sub03\\proj\\PROJ0076_SUBJ0003_SER001_FILESNO001.fif\n",
      "[done]\n",
      "Opening raw data file B:\\Data\\sub03\\PROJ0076_SUBJ0003_SER002_FILESNO001.fif...\n",
      "    Read a total of 8 projection items:\n",
      "        grad3v_ssp_upr.fif : PCA-v1 (1 x 306)  idle\n",
      "        grad3v_ssp_upr.fif : PCA-v2 (1 x 306)  idle\n",
      "        grad3v_ssp_upr.fif : PCA-v3 (1 x 306)  idle\n",
      "        mag5v_ssp_upr.fif : PCA-v1 (1 x 306)  idle\n",
      "        mag5v_ssp_upr.fif : PCA-v2 (1 x 306)  idle\n",
      "        mag5v_ssp_upr.fif : PCA-v3 (1 x 306)  idle\n",
      "        mag5v_ssp_upr.fif : PCA-v4 (1 x 306)  idle\n",
      "        mag5v_ssp_upr.fif : PCA-v5 (1 x 306)  idle\n",
      "    Range : 71000 ... 727999 =     71.000 ...   727.999 secs\n"
     ]
    },
    {
     "name": "stderr",
     "output_type": "stream",
     "text": [
      "<ipython-input-73-967f35f85865>:17: RuntimeWarning: This filename (B:\\Data\\sub03\\PROJ0076_SUBJ0003_SER002_FILESNO001.fif) does not conform to MNE naming conventions. All raw files should end with raw.fif, raw_sss.fif, raw_tsss.fif, raw.fif.gz, raw_sss.fif.gz, raw_tsss.fif.gz or _meg.fif\n",
      "  raw = mne.io.read_raw_fif(f,preload=True)\n"
     ]
    },
    {
     "name": "stdout",
     "output_type": "stream",
     "text": [
      "Ready.\n",
      "Reading 0 ... 656999  =      0.000 ...   656.999 secs...\n",
      "Created an SSP operator (subspace dimension = 3)\n",
      "3 projection items activated\n",
      "SSP projectors applied...\n",
      "Writing \\\\blur\\ECOABS\\Data\\sub03\\proj\\PROJ0076_SUBJ0003_SER002_FILESNO001.fif\n"
     ]
    },
    {
     "name": "stderr",
     "output_type": "stream",
     "text": [
      "<ipython-input-73-967f35f85865>:29: RuntimeWarning: This filename (\\\\blur\\ECOABS\\Data\\sub03\\proj\\PROJ0076_SUBJ0003_SER002_FILESNO001.fif) does not conform to MNE naming conventions. All raw files should end with raw.fif, raw_sss.fif, raw_tsss.fif, raw.fif.gz, raw_sss.fif.gz, raw_tsss.fif.gz or _meg.fif\n",
      "  raw.save(fname)\n"
     ]
    },
    {
     "name": "stdout",
     "output_type": "stream",
     "text": [
      "Closing \\\\blur\\ECOABS\\Data\\sub03\\proj\\PROJ0076_SUBJ0003_SER002_FILESNO001.fif\n",
      "[done]\n",
      "Opening raw data file B:\\Data\\sub03\\PROJ0076_SUBJ0003_SER003_FILESNO001.fif...\n"
     ]
    },
    {
     "name": "stderr",
     "output_type": "stream",
     "text": [
      "<ipython-input-73-967f35f85865>:17: RuntimeWarning: This filename (B:\\Data\\sub03\\PROJ0076_SUBJ0003_SER003_FILESNO001.fif) does not conform to MNE naming conventions. All raw files should end with raw.fif, raw_sss.fif, raw_tsss.fif, raw.fif.gz, raw_sss.fif.gz, raw_tsss.fif.gz or _meg.fif\n",
      "  raw = mne.io.read_raw_fif(f,preload=True)\n"
     ]
    },
    {
     "name": "stdout",
     "output_type": "stream",
     "text": [
      "    Read a total of 8 projection items:\n",
      "        grad3v_ssp_upr.fif : PCA-v1 (1 x 306)  idle\n",
      "        grad3v_ssp_upr.fif : PCA-v2 (1 x 306)  idle\n",
      "        grad3v_ssp_upr.fif : PCA-v3 (1 x 306)  idle\n",
      "        mag5v_ssp_upr.fif : PCA-v1 (1 x 306)  idle\n",
      "        mag5v_ssp_upr.fif : PCA-v2 (1 x 306)  idle\n",
      "        mag5v_ssp_upr.fif : PCA-v3 (1 x 306)  idle\n",
      "        mag5v_ssp_upr.fif : PCA-v4 (1 x 306)  idle\n",
      "        mag5v_ssp_upr.fif : PCA-v5 (1 x 306)  idle\n",
      "    Range : 69000 ... 724999 =     69.000 ...   724.999 secs\n",
      "Ready.\n",
      "Reading 0 ... 655999  =      0.000 ...   655.999 secs...\n",
      "Created an SSP operator (subspace dimension = 3)\n",
      "3 projection items activated\n",
      "SSP projectors applied...\n",
      "Writing \\\\blur\\ECOABS\\Data\\sub03\\proj\\PROJ0076_SUBJ0003_SER003_FILESNO001.fif\n"
     ]
    },
    {
     "name": "stderr",
     "output_type": "stream",
     "text": [
      "<ipython-input-73-967f35f85865>:29: RuntimeWarning: This filename (\\\\blur\\ECOABS\\Data\\sub03\\proj\\PROJ0076_SUBJ0003_SER003_FILESNO001.fif) does not conform to MNE naming conventions. All raw files should end with raw.fif, raw_sss.fif, raw_tsss.fif, raw.fif.gz, raw_sss.fif.gz, raw_tsss.fif.gz or _meg.fif\n",
      "  raw.save(fname)\n"
     ]
    },
    {
     "name": "stdout",
     "output_type": "stream",
     "text": [
      "Closing \\\\blur\\ECOABS\\Data\\sub03\\proj\\PROJ0076_SUBJ0003_SER003_FILESNO001.fif\n",
      "[done]\n",
      "Opening raw data file B:\\Data\\sub03\\PROJ0076_SUBJ0003_SER004_FILESNO001.fif...\n",
      "    Read a total of 8 projection items:\n",
      "        grad3v_ssp_upr.fif : PCA-v1 (1 x 306)  idle\n",
      "        grad3v_ssp_upr.fif : PCA-v2 (1 x 306)  idle\n",
      "        grad3v_ssp_upr.fif : PCA-v3 (1 x 306)  idle\n",
      "        mag5v_ssp_upr.fif : PCA-v1 (1 x 306)  idle\n",
      "        mag5v_ssp_upr.fif : PCA-v2 (1 x 306)  idle\n",
      "        mag5v_ssp_upr.fif : PCA-v3 (1 x 306)  idle\n",
      "        mag5v_ssp_upr.fif : PCA-v4 (1 x 306)  idle\n",
      "        mag5v_ssp_upr.fif : PCA-v5 (1 x 306)  idle\n"
     ]
    },
    {
     "name": "stderr",
     "output_type": "stream",
     "text": [
      "<ipython-input-73-967f35f85865>:17: RuntimeWarning: This filename (B:\\Data\\sub03\\PROJ0076_SUBJ0003_SER004_FILESNO001.fif) does not conform to MNE naming conventions. All raw files should end with raw.fif, raw_sss.fif, raw_tsss.fif, raw.fif.gz, raw_sss.fif.gz, raw_tsss.fif.gz or _meg.fif\n",
      "  raw = mne.io.read_raw_fif(f,preload=True)\n"
     ]
    },
    {
     "name": "stdout",
     "output_type": "stream",
     "text": [
      "    Range : 65000 ... 710999 =     65.000 ...   710.999 secs\n",
      "Ready.\n",
      "Reading 0 ... 645999  =      0.000 ...   645.999 secs...\n",
      "Created an SSP operator (subspace dimension = 3)\n",
      "3 projection items activated\n",
      "SSP projectors applied...\n",
      "Writing \\\\blur\\ECOABS\\Data\\sub03\\proj\\PROJ0076_SUBJ0003_SER004_FILESNO001.fif\n"
     ]
    },
    {
     "name": "stderr",
     "output_type": "stream",
     "text": [
      "<ipython-input-73-967f35f85865>:29: RuntimeWarning: This filename (\\\\blur\\ECOABS\\Data\\sub03\\proj\\PROJ0076_SUBJ0003_SER004_FILESNO001.fif) does not conform to MNE naming conventions. All raw files should end with raw.fif, raw_sss.fif, raw_tsss.fif, raw.fif.gz, raw_sss.fif.gz, raw_tsss.fif.gz or _meg.fif\n",
      "  raw.save(fname)\n"
     ]
    },
    {
     "name": "stdout",
     "output_type": "stream",
     "text": [
      "Closing \\\\blur\\ECOABS\\Data\\sub03\\proj\\PROJ0076_SUBJ0003_SER004_FILESNO001.fif\n",
      "[done]\n",
      "Opening raw data file B:\\Data\\sub03\\PROJ0076_SUBJ0003_SER005_FILESNO001.fif...\n",
      "    Read a total of 8 projection items:\n",
      "        grad3v_ssp_upr.fif : PCA-v1 (1 x 306)  idle\n",
      "        grad3v_ssp_upr.fif : PCA-v2 (1 x 306)  idle\n",
      "        grad3v_ssp_upr.fif : PCA-v3 (1 x 306)  idle\n",
      "        mag5v_ssp_upr.fif : PCA-v1 (1 x 306)  idle\n",
      "        mag5v_ssp_upr.fif : PCA-v2 (1 x 306)  idle\n",
      "        mag5v_ssp_upr.fif : PCA-v3 (1 x 306)  idle\n",
      "        mag5v_ssp_upr.fif : PCA-v4 (1 x 306)  idle\n",
      "        mag5v_ssp_upr.fif : PCA-v5 (1 x 306)  idle\n"
     ]
    },
    {
     "name": "stderr",
     "output_type": "stream",
     "text": [
      "<ipython-input-73-967f35f85865>:17: RuntimeWarning: This filename (B:\\Data\\sub03\\PROJ0076_SUBJ0003_SER005_FILESNO001.fif) does not conform to MNE naming conventions. All raw files should end with raw.fif, raw_sss.fif, raw_tsss.fif, raw.fif.gz, raw_sss.fif.gz, raw_tsss.fif.gz or _meg.fif\n",
      "  raw = mne.io.read_raw_fif(f,preload=True)\n"
     ]
    },
    {
     "name": "stdout",
     "output_type": "stream",
     "text": [
      "    Range : 53000 ... 697999 =     53.000 ...   697.999 secs\n",
      "Ready.\n",
      "Reading 0 ... 644999  =      0.000 ...   644.999 secs...\n",
      "Created an SSP operator (subspace dimension = 3)\n",
      "3 projection items activated\n",
      "SSP projectors applied...\n",
      "Writing \\\\blur\\ECOABS\\Data\\sub03\\proj\\PROJ0076_SUBJ0003_SER005_FILESNO001.fif\n"
     ]
    },
    {
     "name": "stderr",
     "output_type": "stream",
     "text": [
      "<ipython-input-73-967f35f85865>:29: RuntimeWarning: This filename (\\\\blur\\ECOABS\\Data\\sub03\\proj\\PROJ0076_SUBJ0003_SER005_FILESNO001.fif) does not conform to MNE naming conventions. All raw files should end with raw.fif, raw_sss.fif, raw_tsss.fif, raw.fif.gz, raw_sss.fif.gz, raw_tsss.fif.gz or _meg.fif\n",
      "  raw.save(fname)\n"
     ]
    },
    {
     "name": "stdout",
     "output_type": "stream",
     "text": [
      "Closing \\\\blur\\ECOABS\\Data\\sub03\\proj\\PROJ0076_SUBJ0003_SER005_FILESNO001.fif\n",
      "[done]\n",
      "sub04\n",
      "Opening raw data file B:\\Data\\sub04\\PROJ0076_SUBJ0004_SER001_FILESNO001.fif...\n"
     ]
    },
    {
     "name": "stderr",
     "output_type": "stream",
     "text": [
      "<ipython-input-73-967f35f85865>:17: RuntimeWarning: This filename (B:\\Data\\sub04\\PROJ0076_SUBJ0004_SER001_FILESNO001.fif) does not conform to MNE naming conventions. All raw files should end with raw.fif, raw_sss.fif, raw_tsss.fif, raw.fif.gz, raw_sss.fif.gz, raw_tsss.fif.gz or _meg.fif\n",
      "  raw = mne.io.read_raw_fif(f,preload=True)\n"
     ]
    },
    {
     "name": "stdout",
     "output_type": "stream",
     "text": [
      "    Read a total of 8 projection items:\n",
      "        grad3v_ssp_upr.fif : PCA-v1 (1 x 306)  idle\n",
      "        grad3v_ssp_upr.fif : PCA-v2 (1 x 306)  idle\n",
      "        grad3v_ssp_upr.fif : PCA-v3 (1 x 306)  idle\n",
      "        mag5v_ssp_upr.fif : PCA-v1 (1 x 306)  idle\n",
      "        mag5v_ssp_upr.fif : PCA-v2 (1 x 306)  idle\n",
      "        mag5v_ssp_upr.fif : PCA-v3 (1 x 306)  idle\n",
      "        mag5v_ssp_upr.fif : PCA-v4 (1 x 306)  idle\n",
      "        mag5v_ssp_upr.fif : PCA-v5 (1 x 306)  idle\n",
      "    Range : 54000 ... 1608999 =     54.000 ...  1608.999 secs\n",
      "Ready.\n",
      "Reading 0 ... 1554999  =      0.000 ...  1554.999 secs...\n",
      "Created an SSP operator (subspace dimension = 3)\n",
      "3 projection items activated\n",
      "SSP projectors applied...\n",
      "Writing \\\\blur\\ECOABS\\Data\\sub04\\proj\\PROJ0076_SUBJ0004_SER001_FILESNO001.fif\n"
     ]
    },
    {
     "name": "stderr",
     "output_type": "stream",
     "text": [
      "<ipython-input-73-967f35f85865>:29: RuntimeWarning: This filename (\\\\blur\\ECOABS\\Data\\sub04\\proj\\PROJ0076_SUBJ0004_SER001_FILESNO001.fif) does not conform to MNE naming conventions. All raw files should end with raw.fif, raw_sss.fif, raw_tsss.fif, raw.fif.gz, raw_sss.fif.gz, raw_tsss.fif.gz or _meg.fif\n",
      "  raw.save(fname)\n"
     ]
    },
    {
     "name": "stdout",
     "output_type": "stream",
     "text": [
      "Closing \\\\blur\\ECOABS\\Data\\sub04\\proj\\PROJ0076_SUBJ0004_SER001_FILESNO001.fif\n",
      "[done]\n",
      "Opening raw data file B:\\Data\\sub04\\PROJ0076_SUBJ0004_SER002_FILESNO001.fif...\n",
      "    Read a total of 8 projection items:\n",
      "        grad3v_ssp_upr.fif : PCA-v1 (1 x 306)  idle\n",
      "        grad3v_ssp_upr.fif : PCA-v2 (1 x 306)  idle\n",
      "        grad3v_ssp_upr.fif : PCA-v3 (1 x 306)  idle\n",
      "        mag5v_ssp_upr.fif : PCA-v1 (1 x 306)  idle\n",
      "        mag5v_ssp_upr.fif : PCA-v2 (1 x 306)  idle\n",
      "        mag5v_ssp_upr.fif : PCA-v3 (1 x 306)  idle\n",
      "        mag5v_ssp_upr.fif : PCA-v4 (1 x 306)  idle\n",
      "        mag5v_ssp_upr.fif : PCA-v5 (1 x 306)  idle\n"
     ]
    },
    {
     "name": "stderr",
     "output_type": "stream",
     "text": [
      "<ipython-input-73-967f35f85865>:17: RuntimeWarning: This filename (B:\\Data\\sub04\\PROJ0076_SUBJ0004_SER002_FILESNO001.fif) does not conform to MNE naming conventions. All raw files should end with raw.fif, raw_sss.fif, raw_tsss.fif, raw.fif.gz, raw_sss.fif.gz, raw_tsss.fif.gz or _meg.fif\n",
      "  raw = mne.io.read_raw_fif(f,preload=True)\n"
     ]
    },
    {
     "name": "stdout",
     "output_type": "stream",
     "text": [
      "    Range : 318000 ... 1025999 =    318.000 ...  1025.999 secs\n",
      "Ready.\n",
      "Reading 0 ... 707999  =      0.000 ...   707.999 secs...\n",
      "Created an SSP operator (subspace dimension = 3)\n",
      "3 projection items activated\n",
      "SSP projectors applied...\n",
      "Writing \\\\blur\\ECOABS\\Data\\sub04\\proj\\PROJ0076_SUBJ0004_SER002_FILESNO001.fif\n"
     ]
    },
    {
     "name": "stderr",
     "output_type": "stream",
     "text": [
      "<ipython-input-73-967f35f85865>:29: RuntimeWarning: This filename (\\\\blur\\ECOABS\\Data\\sub04\\proj\\PROJ0076_SUBJ0004_SER002_FILESNO001.fif) does not conform to MNE naming conventions. All raw files should end with raw.fif, raw_sss.fif, raw_tsss.fif, raw.fif.gz, raw_sss.fif.gz, raw_tsss.fif.gz or _meg.fif\n",
      "  raw.save(fname)\n"
     ]
    },
    {
     "name": "stdout",
     "output_type": "stream",
     "text": [
      "Closing \\\\blur\\ECOABS\\Data\\sub04\\proj\\PROJ0076_SUBJ0004_SER002_FILESNO001.fif\n",
      "[done]\n",
      "Opening raw data file B:\\Data\\sub04\\PROJ0076_SUBJ0004_SER003_FILESNO001.fif...\n"
     ]
    },
    {
     "name": "stderr",
     "output_type": "stream",
     "text": [
      "<ipython-input-73-967f35f85865>:17: RuntimeWarning: This filename (B:\\Data\\sub04\\PROJ0076_SUBJ0004_SER003_FILESNO001.fif) does not conform to MNE naming conventions. All raw files should end with raw.fif, raw_sss.fif, raw_tsss.fif, raw.fif.gz, raw_sss.fif.gz, raw_tsss.fif.gz or _meg.fif\n",
      "  raw = mne.io.read_raw_fif(f,preload=True)\n"
     ]
    },
    {
     "name": "stdout",
     "output_type": "stream",
     "text": [
      "    Read a total of 8 projection items:\n",
      "        grad3v_ssp_upr.fif : PCA-v1 (1 x 306)  idle\n",
      "        grad3v_ssp_upr.fif : PCA-v2 (1 x 306)  idle\n",
      "        grad3v_ssp_upr.fif : PCA-v3 (1 x 306)  idle\n",
      "        mag5v_ssp_upr.fif : PCA-v1 (1 x 306)  idle\n",
      "        mag5v_ssp_upr.fif : PCA-v2 (1 x 306)  idle\n",
      "        mag5v_ssp_upr.fif : PCA-v3 (1 x 306)  idle\n",
      "        mag5v_ssp_upr.fif : PCA-v4 (1 x 306)  idle\n",
      "        mag5v_ssp_upr.fif : PCA-v5 (1 x 306)  idle\n",
      "    Range : 113000 ... 763999 =    113.000 ...   763.999 secs\n",
      "Ready.\n",
      "Reading 0 ... 650999  =      0.000 ...   650.999 secs...\n",
      "Created an SSP operator (subspace dimension = 3)\n",
      "3 projection items activated\n",
      "SSP projectors applied...\n",
      "Writing \\\\blur\\ECOABS\\Data\\sub04\\proj\\PROJ0076_SUBJ0004_SER003_FILESNO001.fif\n"
     ]
    },
    {
     "name": "stderr",
     "output_type": "stream",
     "text": [
      "<ipython-input-73-967f35f85865>:29: RuntimeWarning: This filename (\\\\blur\\ECOABS\\Data\\sub04\\proj\\PROJ0076_SUBJ0004_SER003_FILESNO001.fif) does not conform to MNE naming conventions. All raw files should end with raw.fif, raw_sss.fif, raw_tsss.fif, raw.fif.gz, raw_sss.fif.gz, raw_tsss.fif.gz or _meg.fif\n",
      "  raw.save(fname)\n"
     ]
    },
    {
     "name": "stdout",
     "output_type": "stream",
     "text": [
      "Closing \\\\blur\\ECOABS\\Data\\sub04\\proj\\PROJ0076_SUBJ0004_SER003_FILESNO001.fif\n",
      "[done]\n",
      "Opening raw data file B:\\Data\\sub04\\PROJ0076_SUBJ0004_SER004_FILESNO001.fif...\n",
      "    Read a total of 8 projection items:\n",
      "        grad3v_ssp_upr.fif : PCA-v1 (1 x 306)  idle\n",
      "        grad3v_ssp_upr.fif : PCA-v2 (1 x 306)  idle\n",
      "        grad3v_ssp_upr.fif : PCA-v3 (1 x 306)  idle\n",
      "        mag5v_ssp_upr.fif : PCA-v1 (1 x 306)  idle\n",
      "        mag5v_ssp_upr.fif : PCA-v2 (1 x 306)  idle\n",
      "        mag5v_ssp_upr.fif : PCA-v3 (1 x 306)  idle\n",
      "        mag5v_ssp_upr.fif : PCA-v4 (1 x 306)  idle\n",
      "        mag5v_ssp_upr.fif : PCA-v5 (1 x 306)  idle\n"
     ]
    },
    {
     "name": "stderr",
     "output_type": "stream",
     "text": [
      "<ipython-input-73-967f35f85865>:17: RuntimeWarning: This filename (B:\\Data\\sub04\\PROJ0076_SUBJ0004_SER004_FILESNO001.fif) does not conform to MNE naming conventions. All raw files should end with raw.fif, raw_sss.fif, raw_tsss.fif, raw.fif.gz, raw_sss.fif.gz, raw_tsss.fif.gz or _meg.fif\n",
      "  raw = mne.io.read_raw_fif(f,preload=True)\n"
     ]
    },
    {
     "name": "stdout",
     "output_type": "stream",
     "text": [
      "    Range : 92000 ... 725999 =     92.000 ...   725.999 secs\n",
      "Ready.\n",
      "Reading 0 ... 633999  =      0.000 ...   633.999 secs...\n",
      "Created an SSP operator (subspace dimension = 3)\n",
      "3 projection items activated\n",
      "SSP projectors applied...\n",
      "Writing \\\\blur\\ECOABS\\Data\\sub04\\proj\\PROJ0076_SUBJ0004_SER004_FILESNO001.fif\n"
     ]
    },
    {
     "name": "stderr",
     "output_type": "stream",
     "text": [
      "<ipython-input-73-967f35f85865>:29: RuntimeWarning: This filename (\\\\blur\\ECOABS\\Data\\sub04\\proj\\PROJ0076_SUBJ0004_SER004_FILESNO001.fif) does not conform to MNE naming conventions. All raw files should end with raw.fif, raw_sss.fif, raw_tsss.fif, raw.fif.gz, raw_sss.fif.gz, raw_tsss.fif.gz or _meg.fif\n",
      "  raw.save(fname)\n"
     ]
    },
    {
     "name": "stdout",
     "output_type": "stream",
     "text": [
      "Closing \\\\blur\\ECOABS\\Data\\sub04\\proj\\PROJ0076_SUBJ0004_SER004_FILESNO001.fif\n",
      "[done]\n",
      "Opening raw data file B:\\Data\\sub04\\PROJ0076_SUBJ0004_SER005_FILESNO001.fif...\n",
      "    Read a total of 8 projection items:\n",
      "        grad3v_ssp_upr.fif : PCA-v1 (1 x 306)  idle\n",
      "        grad3v_ssp_upr.fif : PCA-v2 (1 x 306)  idle\n",
      "        grad3v_ssp_upr.fif : PCA-v3 (1 x 306)  idle\n",
      "        mag5v_ssp_upr.fif : PCA-v1 (1 x 306)  idle\n",
      "        mag5v_ssp_upr.fif : PCA-v2 (1 x 306)  idle\n",
      "        mag5v_ssp_upr.fif : PCA-v3 (1 x 306)  idle\n",
      "        mag5v_ssp_upr.fif : PCA-v4 (1 x 306)  idle\n",
      "        mag5v_ssp_upr.fif : PCA-v5 (1 x 306)  idle\n"
     ]
    },
    {
     "name": "stderr",
     "output_type": "stream",
     "text": [
      "<ipython-input-73-967f35f85865>:17: RuntimeWarning: This filename (B:\\Data\\sub04\\PROJ0076_SUBJ0004_SER005_FILESNO001.fif) does not conform to MNE naming conventions. All raw files should end with raw.fif, raw_sss.fif, raw_tsss.fif, raw.fif.gz, raw_sss.fif.gz, raw_tsss.fif.gz or _meg.fif\n",
      "  raw = mne.io.read_raw_fif(f,preload=True)\n"
     ]
    },
    {
     "name": "stdout",
     "output_type": "stream",
     "text": [
      "    Range : 70000 ... 699999 =     70.000 ...   699.999 secs\n",
      "Ready.\n",
      "Reading 0 ... 629999  =      0.000 ...   629.999 secs...\n",
      "Created an SSP operator (subspace dimension = 3)\n",
      "3 projection items activated\n",
      "SSP projectors applied...\n",
      "Writing \\\\blur\\ECOABS\\Data\\sub04\\proj\\PROJ0076_SUBJ0004_SER005_FILESNO001.fif\n"
     ]
    },
    {
     "name": "stderr",
     "output_type": "stream",
     "text": [
      "<ipython-input-73-967f35f85865>:29: RuntimeWarning: This filename (\\\\blur\\ECOABS\\Data\\sub04\\proj\\PROJ0076_SUBJ0004_SER005_FILESNO001.fif) does not conform to MNE naming conventions. All raw files should end with raw.fif, raw_sss.fif, raw_tsss.fif, raw.fif.gz, raw_sss.fif.gz, raw_tsss.fif.gz or _meg.fif\n",
      "  raw.save(fname)\n"
     ]
    },
    {
     "name": "stdout",
     "output_type": "stream",
     "text": [
      "Closing \\\\blur\\ECOABS\\Data\\sub04\\proj\\PROJ0076_SUBJ0004_SER005_FILESNO001.fif\n",
      "[done]\n",
      "sub05\n",
      "Opening raw data file B:\\Data\\sub05\\PROJ0076_SUBJ0005_SER001_FILESNO001.fif...\n",
      "    Read a total of 8 projection items:\n",
      "        grad3v_ssp_upr.fif : PCA-v1 (1 x 306)  idle\n",
      "        grad3v_ssp_upr.fif : PCA-v2 (1 x 306)  idle\n",
      "        grad3v_ssp_upr.fif : PCA-v3 (1 x 306)  idle\n",
      "        mag5v_ssp_upr.fif : PCA-v1 (1 x 306)  idle\n",
      "        mag5v_ssp_upr.fif : PCA-v2 (1 x 306)  idle\n",
      "        mag5v_ssp_upr.fif : PCA-v3 (1 x 306)  idle\n",
      "        mag5v_ssp_upr.fif : PCA-v4 (1 x 306)  idle\n",
      "        mag5v_ssp_upr.fif : PCA-v5 (1 x 306)  idle\n"
     ]
    },
    {
     "name": "stderr",
     "output_type": "stream",
     "text": [
      "<ipython-input-73-967f35f85865>:17: RuntimeWarning: This filename (B:\\Data\\sub05\\PROJ0076_SUBJ0005_SER001_FILESNO001.fif) does not conform to MNE naming conventions. All raw files should end with raw.fif, raw_sss.fif, raw_tsss.fif, raw.fif.gz, raw_sss.fif.gz, raw_tsss.fif.gz or _meg.fif\n",
      "  raw = mne.io.read_raw_fif(f,preload=True)\n"
     ]
    },
    {
     "name": "stdout",
     "output_type": "stream",
     "text": [
      "    Range : 25000 ... 1581999 =     25.000 ...  1581.999 secs\n",
      "Ready.\n",
      "Reading 0 ... 1556999  =      0.000 ...  1556.999 secs...\n"
     ]
    },
    {
     "name": "stderr",
     "output_type": "stream",
     "text": [
      "<ipython-input-73-967f35f85865>:17: DeprecationWarning: The default for on_split_missing is \"warn\" in 0.22 but will change to \"raise\" in 0.23, set it explicitly to avoid this message\n",
      "  raw = mne.io.read_raw_fif(f,preload=True)\n",
      "<ipython-input-73-967f35f85865>:17: RuntimeWarning: Split raw file detected but next file \\\\blur\\ECOABS\\Data\\sub05\\PROJ0076_SUBJ0005_SER001_FILESNO001-1.fif does not exist. Ensure all files were transferred properly and that split and original files were not manually renamed on disk (split files should be renamed by loading and re-saving with MNE-Python to preserve proper filename linkage).\n",
      "  raw = mne.io.read_raw_fif(f,preload=True)\n"
     ]
    },
    {
     "name": "stdout",
     "output_type": "stream",
     "text": [
      "Created an SSP operator (subspace dimension = 3)\n",
      "3 projection items activated\n",
      "SSP projectors applied...\n",
      "Writing \\\\blur\\ECOABS\\Data\\sub05\\proj\\PROJ0076_SUBJ0005_SER001_FILESNO001.fif\n"
     ]
    },
    {
     "name": "stderr",
     "output_type": "stream",
     "text": [
      "<ipython-input-73-967f35f85865>:29: RuntimeWarning: This filename (\\\\blur\\ECOABS\\Data\\sub05\\proj\\PROJ0076_SUBJ0005_SER001_FILESNO001.fif) does not conform to MNE naming conventions. All raw files should end with raw.fif, raw_sss.fif, raw_tsss.fif, raw.fif.gz, raw_sss.fif.gz, raw_tsss.fif.gz or _meg.fif\n",
      "  raw.save(fname)\n"
     ]
    },
    {
     "name": "stdout",
     "output_type": "stream",
     "text": [
      "Closing \\\\blur\\ECOABS\\Data\\sub05\\proj\\PROJ0076_SUBJ0005_SER001_FILESNO001.fif\n",
      "[done]\n",
      "Opening raw data file B:\\Data\\sub05\\PROJ0076_SUBJ0005_SER001_FILESNO002.fif...\n"
     ]
    },
    {
     "name": "stderr",
     "output_type": "stream",
     "text": [
      "<ipython-input-73-967f35f85865>:17: RuntimeWarning: This filename (B:\\Data\\sub05\\PROJ0076_SUBJ0005_SER001_FILESNO002.fif) does not conform to MNE naming conventions. All raw files should end with raw.fif, raw_sss.fif, raw_tsss.fif, raw.fif.gz, raw_sss.fif.gz, raw_tsss.fif.gz or _meg.fif\n",
      "  raw = mne.io.read_raw_fif(f,preload=True)\n"
     ]
    },
    {
     "name": "stdout",
     "output_type": "stream",
     "text": [
      "    Read a total of 8 projection items:\n",
      "        grad3v_ssp_upr.fif : PCA-v1 (1 x 306)  idle\n",
      "        grad3v_ssp_upr.fif : PCA-v2 (1 x 306)  idle\n",
      "        grad3v_ssp_upr.fif : PCA-v3 (1 x 306)  idle\n",
      "        mag5v_ssp_upr.fif : PCA-v1 (1 x 306)  idle\n",
      "        mag5v_ssp_upr.fif : PCA-v2 (1 x 306)  idle\n",
      "        mag5v_ssp_upr.fif : PCA-v3 (1 x 306)  idle\n",
      "        mag5v_ssp_upr.fif : PCA-v4 (1 x 306)  idle\n",
      "        mag5v_ssp_upr.fif : PCA-v5 (1 x 306)  idle\n",
      "    Range : 1582000 ... 1956999 =   1582.000 ...  1956.999 secs\n",
      "Ready.\n",
      "Reading 0 ... 374999  =      0.000 ...   374.999 secs...\n",
      "Created an SSP operator (subspace dimension = 3)\n",
      "3 projection items activated\n",
      "SSP projectors applied...\n",
      "Writing \\\\blur\\ECOABS\\Data\\sub05\\proj\\PROJ0076_SUBJ0005_SER001_FILESNO002.fif\n"
     ]
    },
    {
     "name": "stderr",
     "output_type": "stream",
     "text": [
      "<ipython-input-73-967f35f85865>:29: RuntimeWarning: This filename (\\\\blur\\ECOABS\\Data\\sub05\\proj\\PROJ0076_SUBJ0005_SER001_FILESNO002.fif) does not conform to MNE naming conventions. All raw files should end with raw.fif, raw_sss.fif, raw_tsss.fif, raw.fif.gz, raw_sss.fif.gz, raw_tsss.fif.gz or _meg.fif\n",
      "  raw.save(fname)\n"
     ]
    },
    {
     "name": "stdout",
     "output_type": "stream",
     "text": [
      "Closing \\\\blur\\ECOABS\\Data\\sub05\\proj\\PROJ0076_SUBJ0005_SER001_FILESNO002.fif\n",
      "[done]\n",
      "Opening raw data file B:\\Data\\sub05\\PROJ0076_SUBJ0005_SER002_FILESNO001.fif...\n",
      "    Read a total of 8 projection items:\n",
      "        grad3v_ssp_upr.fif : PCA-v1 (1 x 306)  idle\n",
      "        grad3v_ssp_upr.fif : PCA-v2 (1 x 306)  idle\n",
      "        grad3v_ssp_upr.fif : PCA-v3 (1 x 306)  idle\n",
      "        mag5v_ssp_upr.fif : PCA-v1 (1 x 306)  idle\n",
      "        mag5v_ssp_upr.fif : PCA-v2 (1 x 306)  idle\n",
      "        mag5v_ssp_upr.fif : PCA-v3 (1 x 306)  idle\n",
      "        mag5v_ssp_upr.fif : PCA-v4 (1 x 306)  idle\n",
      "        mag5v_ssp_upr.fif : PCA-v5 (1 x 306)  idle\n"
     ]
    },
    {
     "name": "stderr",
     "output_type": "stream",
     "text": [
      "<ipython-input-73-967f35f85865>:17: RuntimeWarning: This filename (B:\\Data\\sub05\\PROJ0076_SUBJ0005_SER002_FILESNO001.fif) does not conform to MNE naming conventions. All raw files should end with raw.fif, raw_sss.fif, raw_tsss.fif, raw.fif.gz, raw_sss.fif.gz, raw_tsss.fif.gz or _meg.fif\n",
      "  raw = mne.io.read_raw_fif(f,preload=True)\n"
     ]
    },
    {
     "name": "stdout",
     "output_type": "stream",
     "text": [
      "    Range : 27000 ... 900999 =     27.000 ...   900.999 secs\n",
      "Ready.\n",
      "Reading 0 ... 873999  =      0.000 ...   873.999 secs...\n",
      "Created an SSP operator (subspace dimension = 3)\n",
      "3 projection items activated\n",
      "SSP projectors applied...\n",
      "Writing \\\\blur\\ECOABS\\Data\\sub05\\proj\\PROJ0076_SUBJ0005_SER002_FILESNO001.fif\n"
     ]
    },
    {
     "name": "stderr",
     "output_type": "stream",
     "text": [
      "<ipython-input-73-967f35f85865>:29: RuntimeWarning: This filename (\\\\blur\\ECOABS\\Data\\sub05\\proj\\PROJ0076_SUBJ0005_SER002_FILESNO001.fif) does not conform to MNE naming conventions. All raw files should end with raw.fif, raw_sss.fif, raw_tsss.fif, raw.fif.gz, raw_sss.fif.gz, raw_tsss.fif.gz or _meg.fif\n",
      "  raw.save(fname)\n"
     ]
    },
    {
     "name": "stdout",
     "output_type": "stream",
     "text": [
      "Closing \\\\blur\\ECOABS\\Data\\sub05\\proj\\PROJ0076_SUBJ0005_SER002_FILESNO001.fif\n",
      "[done]\n",
      "Opening raw data file B:\\Data\\sub05\\PROJ0076_SUBJ0005_SER003_FILESNO001.fif...\n"
     ]
    },
    {
     "name": "stderr",
     "output_type": "stream",
     "text": [
      "<ipython-input-73-967f35f85865>:17: RuntimeWarning: This filename (B:\\Data\\sub05\\PROJ0076_SUBJ0005_SER003_FILESNO001.fif) does not conform to MNE naming conventions. All raw files should end with raw.fif, raw_sss.fif, raw_tsss.fif, raw.fif.gz, raw_sss.fif.gz, raw_tsss.fif.gz or _meg.fif\n",
      "  raw = mne.io.read_raw_fif(f,preload=True)\n"
     ]
    },
    {
     "name": "stdout",
     "output_type": "stream",
     "text": [
      "    Read a total of 8 projection items:\n",
      "        grad3v_ssp_upr.fif : PCA-v1 (1 x 306)  idle\n",
      "        grad3v_ssp_upr.fif : PCA-v2 (1 x 306)  idle\n",
      "        grad3v_ssp_upr.fif : PCA-v3 (1 x 306)  idle\n",
      "        mag5v_ssp_upr.fif : PCA-v1 (1 x 306)  idle\n",
      "        mag5v_ssp_upr.fif : PCA-v2 (1 x 306)  idle\n",
      "        mag5v_ssp_upr.fif : PCA-v3 (1 x 306)  idle\n",
      "        mag5v_ssp_upr.fif : PCA-v4 (1 x 306)  idle\n",
      "        mag5v_ssp_upr.fif : PCA-v5 (1 x 306)  idle\n",
      "    Range : 1000 ... 812999 =      1.000 ...   812.999 secs\n",
      "Ready.\n",
      "Reading 0 ... 811999  =      0.000 ...   811.999 secs...\n",
      "Created an SSP operator (subspace dimension = 3)\n",
      "3 projection items activated\n",
      "SSP projectors applied...\n",
      "Writing \\\\blur\\ECOABS\\Data\\sub05\\proj\\PROJ0076_SUBJ0005_SER003_FILESNO001.fif\n"
     ]
    },
    {
     "name": "stderr",
     "output_type": "stream",
     "text": [
      "<ipython-input-73-967f35f85865>:29: RuntimeWarning: This filename (\\\\blur\\ECOABS\\Data\\sub05\\proj\\PROJ0076_SUBJ0005_SER003_FILESNO001.fif) does not conform to MNE naming conventions. All raw files should end with raw.fif, raw_sss.fif, raw_tsss.fif, raw.fif.gz, raw_sss.fif.gz, raw_tsss.fif.gz or _meg.fif\n",
      "  raw.save(fname)\n"
     ]
    },
    {
     "name": "stdout",
     "output_type": "stream",
     "text": [
      "Closing \\\\blur\\ECOABS\\Data\\sub05\\proj\\PROJ0076_SUBJ0005_SER003_FILESNO001.fif\n",
      "[done]\n",
      "Opening raw data file B:\\Data\\sub05\\PROJ0076_SUBJ0005_SER004_FILESNO001.fif...\n"
     ]
    },
    {
     "name": "stderr",
     "output_type": "stream",
     "text": [
      "<ipython-input-73-967f35f85865>:17: RuntimeWarning: This filename (B:\\Data\\sub05\\PROJ0076_SUBJ0005_SER004_FILESNO001.fif) does not conform to MNE naming conventions. All raw files should end with raw.fif, raw_sss.fif, raw_tsss.fif, raw.fif.gz, raw_sss.fif.gz, raw_tsss.fif.gz or _meg.fif\n",
      "  raw = mne.io.read_raw_fif(f,preload=True)\n"
     ]
    },
    {
     "name": "stdout",
     "output_type": "stream",
     "text": [
      "    Read a total of 8 projection items:\n",
      "        grad3v_ssp_upr.fif : PCA-v1 (1 x 306)  idle\n",
      "        grad3v_ssp_upr.fif : PCA-v2 (1 x 306)  idle\n",
      "        grad3v_ssp_upr.fif : PCA-v3 (1 x 306)  idle\n",
      "        mag5v_ssp_upr.fif : PCA-v1 (1 x 306)  idle\n",
      "        mag5v_ssp_upr.fif : PCA-v2 (1 x 306)  idle\n",
      "        mag5v_ssp_upr.fif : PCA-v3 (1 x 306)  idle\n",
      "        mag5v_ssp_upr.fif : PCA-v4 (1 x 306)  idle\n",
      "        mag5v_ssp_upr.fif : PCA-v5 (1 x 306)  idle\n",
      "    Range : 73000 ... 824999 =     73.000 ...   824.999 secs\n",
      "Ready.\n",
      "Reading 0 ... 751999  =      0.000 ...   751.999 secs...\n",
      "Created an SSP operator (subspace dimension = 3)\n",
      "3 projection items activated\n",
      "SSP projectors applied...\n",
      "Writing \\\\blur\\ECOABS\\Data\\sub05\\proj\\PROJ0076_SUBJ0005_SER004_FILESNO001.fif\n"
     ]
    },
    {
     "name": "stderr",
     "output_type": "stream",
     "text": [
      "<ipython-input-73-967f35f85865>:29: RuntimeWarning: This filename (\\\\blur\\ECOABS\\Data\\sub05\\proj\\PROJ0076_SUBJ0005_SER004_FILESNO001.fif) does not conform to MNE naming conventions. All raw files should end with raw.fif, raw_sss.fif, raw_tsss.fif, raw.fif.gz, raw_sss.fif.gz, raw_tsss.fif.gz or _meg.fif\n",
      "  raw.save(fname)\n"
     ]
    },
    {
     "name": "stdout",
     "output_type": "stream",
     "text": [
      "Closing \\\\blur\\ECOABS\\Data\\sub05\\proj\\PROJ0076_SUBJ0005_SER004_FILESNO001.fif\n",
      "[done]\n",
      "Opening raw data file B:\\Data\\sub05\\PROJ0076_SUBJ0005_SER005_FILESNO001.fif...\n",
      "    Read a total of 8 projection items:\n",
      "        grad3v_ssp_upr.fif : PCA-v1 (1 x 306)  idle\n",
      "        grad3v_ssp_upr.fif : PCA-v2 (1 x 306)  idle\n",
      "        grad3v_ssp_upr.fif : PCA-v3 (1 x 306)  idle\n",
      "        mag5v_ssp_upr.fif : PCA-v1 (1 x 306)  idle\n",
      "        mag5v_ssp_upr.fif : PCA-v2 (1 x 306)  idle\n",
      "        mag5v_ssp_upr.fif : PCA-v3 (1 x 306)  idle\n",
      "        mag5v_ssp_upr.fif : PCA-v4 (1 x 306)  idle\n",
      "        mag5v_ssp_upr.fif : PCA-v5 (1 x 306)  idle\n"
     ]
    },
    {
     "name": "stderr",
     "output_type": "stream",
     "text": [
      "<ipython-input-73-967f35f85865>:17: RuntimeWarning: This filename (B:\\Data\\sub05\\PROJ0076_SUBJ0005_SER005_FILESNO001.fif) does not conform to MNE naming conventions. All raw files should end with raw.fif, raw_sss.fif, raw_tsss.fif, raw.fif.gz, raw_sss.fif.gz, raw_tsss.fif.gz or _meg.fif\n",
      "  raw = mne.io.read_raw_fif(f,preload=True)\n"
     ]
    },
    {
     "name": "stdout",
     "output_type": "stream",
     "text": [
      "    Range : 117000 ... 797999 =    117.000 ...   797.999 secs\n",
      "Ready.\n",
      "Reading 0 ... 680999  =      0.000 ...   680.999 secs...\n",
      "Created an SSP operator (subspace dimension = 3)\n",
      "3 projection items activated\n",
      "SSP projectors applied...\n",
      "Writing \\\\blur\\ECOABS\\Data\\sub05\\proj\\PROJ0076_SUBJ0005_SER005_FILESNO001.fif\n"
     ]
    },
    {
     "name": "stderr",
     "output_type": "stream",
     "text": [
      "<ipython-input-73-967f35f85865>:29: RuntimeWarning: This filename (\\\\blur\\ECOABS\\Data\\sub05\\proj\\PROJ0076_SUBJ0005_SER005_FILESNO001.fif) does not conform to MNE naming conventions. All raw files should end with raw.fif, raw_sss.fif, raw_tsss.fif, raw.fif.gz, raw_sss.fif.gz, raw_tsss.fif.gz or _meg.fif\n",
      "  raw.save(fname)\n"
     ]
    },
    {
     "name": "stdout",
     "output_type": "stream",
     "text": [
      "Closing \\\\blur\\ECOABS\\Data\\sub05\\proj\\PROJ0076_SUBJ0005_SER005_FILESNO001.fif\n",
      "[done]\n",
      "sub06\n",
      "Opening raw data file B:\\Data\\sub06\\PROJ0076_SUBJ0006_SER001_FILESNO001.fif...\n",
      "    Read a total of 8 projection items:\n",
      "        grad3v_ssp_upr.fif : PCA-v1 (1 x 306)  idle\n",
      "        grad3v_ssp_upr.fif : PCA-v2 (1 x 306)  idle\n",
      "        grad3v_ssp_upr.fif : PCA-v3 (1 x 306)  idle\n",
      "        mag5v_ssp_upr.fif : PCA-v1 (1 x 306)  idle\n",
      "        mag5v_ssp_upr.fif : PCA-v2 (1 x 306)  idle\n",
      "        mag5v_ssp_upr.fif : PCA-v3 (1 x 306)  idle\n",
      "        mag5v_ssp_upr.fif : PCA-v4 (1 x 306)  idle\n",
      "        mag5v_ssp_upr.fif : PCA-v5 (1 x 306)  idle\n"
     ]
    },
    {
     "name": "stderr",
     "output_type": "stream",
     "text": [
      "<ipython-input-73-967f35f85865>:17: RuntimeWarning: This filename (B:\\Data\\sub06\\PROJ0076_SUBJ0006_SER001_FILESNO001.fif) does not conform to MNE naming conventions. All raw files should end with raw.fif, raw_sss.fif, raw_tsss.fif, raw.fif.gz, raw_sss.fif.gz, raw_tsss.fif.gz or _meg.fif\n",
      "  raw = mne.io.read_raw_fif(f,preload=True)\n"
     ]
    },
    {
     "name": "stdout",
     "output_type": "stream",
     "text": [
      "    Range : 291000 ... 1857999 =    291.000 ...  1857.999 secs\n",
      "Ready.\n",
      "Reading 0 ... 1566999  =      0.000 ...  1566.999 secs...\n"
     ]
    },
    {
     "name": "stderr",
     "output_type": "stream",
     "text": [
      "<ipython-input-73-967f35f85865>:17: DeprecationWarning: The default for on_split_missing is \"warn\" in 0.22 but will change to \"raise\" in 0.23, set it explicitly to avoid this message\n",
      "  raw = mne.io.read_raw_fif(f,preload=True)\n",
      "<ipython-input-73-967f35f85865>:17: RuntimeWarning: Split raw file detected but next file \\\\blur\\ECOABS\\Data\\sub06\\PROJ0076_SUBJ0006_SER001_FILESNO001-1.fif does not exist. Ensure all files were transferred properly and that split and original files were not manually renamed on disk (split files should be renamed by loading and re-saving with MNE-Python to preserve proper filename linkage).\n",
      "  raw = mne.io.read_raw_fif(f,preload=True)\n"
     ]
    },
    {
     "name": "stdout",
     "output_type": "stream",
     "text": [
      "Created an SSP operator (subspace dimension = 3)\n",
      "3 projection items activated\n",
      "SSP projectors applied...\n",
      "Writing \\\\blur\\ECOABS\\Data\\sub06\\proj\\PROJ0076_SUBJ0006_SER001_FILESNO001.fif\n"
     ]
    },
    {
     "name": "stderr",
     "output_type": "stream",
     "text": [
      "<ipython-input-73-967f35f85865>:29: RuntimeWarning: This filename (\\\\blur\\ECOABS\\Data\\sub06\\proj\\PROJ0076_SUBJ0006_SER001_FILESNO001.fif) does not conform to MNE naming conventions. All raw files should end with raw.fif, raw_sss.fif, raw_tsss.fif, raw.fif.gz, raw_sss.fif.gz, raw_tsss.fif.gz or _meg.fif\n",
      "  raw.save(fname)\n"
     ]
    },
    {
     "name": "stdout",
     "output_type": "stream",
     "text": [
      "Closing \\\\blur\\ECOABS\\Data\\sub06\\proj\\PROJ0076_SUBJ0006_SER001_FILESNO001.fif\n",
      "[done]\n",
      "Opening raw data file B:\\Data\\sub06\\PROJ0076_SUBJ0006_SER001_FILESNO002.fif...\n"
     ]
    },
    {
     "name": "stderr",
     "output_type": "stream",
     "text": [
      "<ipython-input-73-967f35f85865>:17: RuntimeWarning: This filename (B:\\Data\\sub06\\PROJ0076_SUBJ0006_SER001_FILESNO002.fif) does not conform to MNE naming conventions. All raw files should end with raw.fif, raw_sss.fif, raw_tsss.fif, raw.fif.gz, raw_sss.fif.gz, raw_tsss.fif.gz or _meg.fif\n",
      "  raw = mne.io.read_raw_fif(f,preload=True)\n"
     ]
    },
    {
     "name": "stdout",
     "output_type": "stream",
     "text": [
      "    Read a total of 8 projection items:\n",
      "        grad3v_ssp_upr.fif : PCA-v1 (1 x 306)  idle\n",
      "        grad3v_ssp_upr.fif : PCA-v2 (1 x 306)  idle\n",
      "        grad3v_ssp_upr.fif : PCA-v3 (1 x 306)  idle\n",
      "        mag5v_ssp_upr.fif : PCA-v1 (1 x 306)  idle\n",
      "        mag5v_ssp_upr.fif : PCA-v2 (1 x 306)  idle\n",
      "        mag5v_ssp_upr.fif : PCA-v3 (1 x 306)  idle\n",
      "        mag5v_ssp_upr.fif : PCA-v4 (1 x 306)  idle\n",
      "        mag5v_ssp_upr.fif : PCA-v5 (1 x 306)  idle\n",
      "    Range : 1858000 ... 1935999 =   1858.000 ...  1935.999 secs\n",
      "Ready.\n",
      "Reading 0 ... 77999  =      0.000 ...    77.999 secs...\n",
      "Created an SSP operator (subspace dimension = 3)\n",
      "3 projection items activated\n",
      "SSP projectors applied...\n",
      "Writing \\\\blur\\ECOABS\\Data\\sub06\\proj\\PROJ0076_SUBJ0006_SER001_FILESNO002.fif\n"
     ]
    },
    {
     "name": "stderr",
     "output_type": "stream",
     "text": [
      "<ipython-input-73-967f35f85865>:29: RuntimeWarning: This filename (\\\\blur\\ECOABS\\Data\\sub06\\proj\\PROJ0076_SUBJ0006_SER001_FILESNO002.fif) does not conform to MNE naming conventions. All raw files should end with raw.fif, raw_sss.fif, raw_tsss.fif, raw.fif.gz, raw_sss.fif.gz, raw_tsss.fif.gz or _meg.fif\n",
      "  raw.save(fname)\n"
     ]
    },
    {
     "name": "stdout",
     "output_type": "stream",
     "text": [
      "Closing \\\\blur\\ECOABS\\Data\\sub06\\proj\\PROJ0076_SUBJ0006_SER001_FILESNO002.fif\n",
      "[done]\n",
      "Opening raw data file B:\\Data\\sub06\\PROJ0076_SUBJ0006_SER002_FILESNO001.fif...\n",
      "    Read a total of 8 projection items:\n",
      "        grad3v_ssp_upr.fif : PCA-v1 (1 x 306)  idle\n",
      "        grad3v_ssp_upr.fif : PCA-v2 (1 x 306)  idle\n",
      "        grad3v_ssp_upr.fif : PCA-v3 (1 x 306)  idle\n",
      "        mag5v_ssp_upr.fif : PCA-v1 (1 x 306)  idle\n",
      "        mag5v_ssp_upr.fif : PCA-v2 (1 x 306)  idle\n",
      "        mag5v_ssp_upr.fif : PCA-v3 (1 x 306)  idle\n",
      "        mag5v_ssp_upr.fif : PCA-v4 (1 x 306)  idle\n",
      "        mag5v_ssp_upr.fif : PCA-v5 (1 x 306)  idle\n",
      "    Range : 311000 ... 946999 =    311.000 ...   946.999 secs\n"
     ]
    },
    {
     "name": "stderr",
     "output_type": "stream",
     "text": [
      "<ipython-input-73-967f35f85865>:17: RuntimeWarning: This filename (B:\\Data\\sub06\\PROJ0076_SUBJ0006_SER002_FILESNO001.fif) does not conform to MNE naming conventions. All raw files should end with raw.fif, raw_sss.fif, raw_tsss.fif, raw.fif.gz, raw_sss.fif.gz, raw_tsss.fif.gz or _meg.fif\n",
      "  raw = mne.io.read_raw_fif(f,preload=True)\n"
     ]
    },
    {
     "name": "stdout",
     "output_type": "stream",
     "text": [
      "Ready.\n",
      "Reading 0 ... 635999  =      0.000 ...   635.999 secs...\n",
      "Created an SSP operator (subspace dimension = 3)\n",
      "3 projection items activated\n",
      "SSP projectors applied...\n",
      "Writing \\\\blur\\ECOABS\\Data\\sub06\\proj\\PROJ0076_SUBJ0006_SER002_FILESNO001.fif\n"
     ]
    },
    {
     "name": "stderr",
     "output_type": "stream",
     "text": [
      "<ipython-input-73-967f35f85865>:29: RuntimeWarning: This filename (\\\\blur\\ECOABS\\Data\\sub06\\proj\\PROJ0076_SUBJ0006_SER002_FILESNO001.fif) does not conform to MNE naming conventions. All raw files should end with raw.fif, raw_sss.fif, raw_tsss.fif, raw.fif.gz, raw_sss.fif.gz, raw_tsss.fif.gz or _meg.fif\n",
      "  raw.save(fname)\n"
     ]
    },
    {
     "name": "stdout",
     "output_type": "stream",
     "text": [
      "Closing \\\\blur\\ECOABS\\Data\\sub06\\proj\\PROJ0076_SUBJ0006_SER002_FILESNO001.fif\n",
      "[done]\n",
      "Opening raw data file B:\\Data\\sub06\\PROJ0076_SUBJ0006_SER003_FILESNO001.fif...\n",
      "    Read a total of 8 projection items:\n",
      "        grad3v_ssp_upr.fif : PCA-v1 (1 x 306)  idle\n",
      "        grad3v_ssp_upr.fif : PCA-v2 (1 x 306)  idle\n",
      "        grad3v_ssp_upr.fif : PCA-v3 (1 x 306)  idle\n",
      "        mag5v_ssp_upr.fif : PCA-v1 (1 x 306)  idle\n",
      "        mag5v_ssp_upr.fif : PCA-v2 (1 x 306)  idle\n",
      "        mag5v_ssp_upr.fif : PCA-v3 (1 x 306)  idle\n",
      "        mag5v_ssp_upr.fif : PCA-v4 (1 x 306)  idle\n",
      "        mag5v_ssp_upr.fif : PCA-v5 (1 x 306)  idle\n"
     ]
    },
    {
     "name": "stderr",
     "output_type": "stream",
     "text": [
      "<ipython-input-73-967f35f85865>:17: RuntimeWarning: This filename (B:\\Data\\sub06\\PROJ0076_SUBJ0006_SER003_FILESNO001.fif) does not conform to MNE naming conventions. All raw files should end with raw.fif, raw_sss.fif, raw_tsss.fif, raw.fif.gz, raw_sss.fif.gz, raw_tsss.fif.gz or _meg.fif\n",
      "  raw = mne.io.read_raw_fif(f,preload=True)\n"
     ]
    },
    {
     "name": "stdout",
     "output_type": "stream",
     "text": [
      "    Range : 128000 ... 766999 =    128.000 ...   766.999 secs\n",
      "Ready.\n",
      "Reading 0 ... 638999  =      0.000 ...   638.999 secs...\n",
      "Created an SSP operator (subspace dimension = 3)\n",
      "3 projection items activated\n",
      "SSP projectors applied...\n",
      "Writing \\\\blur\\ECOABS\\Data\\sub06\\proj\\PROJ0076_SUBJ0006_SER003_FILESNO001.fif\n"
     ]
    },
    {
     "name": "stderr",
     "output_type": "stream",
     "text": [
      "<ipython-input-73-967f35f85865>:29: RuntimeWarning: This filename (\\\\blur\\ECOABS\\Data\\sub06\\proj\\PROJ0076_SUBJ0006_SER003_FILESNO001.fif) does not conform to MNE naming conventions. All raw files should end with raw.fif, raw_sss.fif, raw_tsss.fif, raw.fif.gz, raw_sss.fif.gz, raw_tsss.fif.gz or _meg.fif\n",
      "  raw.save(fname)\n"
     ]
    },
    {
     "name": "stdout",
     "output_type": "stream",
     "text": [
      "Closing \\\\blur\\ECOABS\\Data\\sub06\\proj\\PROJ0076_SUBJ0006_SER003_FILESNO001.fif\n",
      "[done]\n",
      "Opening raw data file B:\\Data\\sub06\\PROJ0076_SUBJ0006_SER004_FILESNO001.fif...\n",
      "    Read a total of 8 projection items:\n",
      "        grad3v_ssp_upr.fif : PCA-v1 (1 x 306)  idle\n",
      "        grad3v_ssp_upr.fif : PCA-v2 (1 x 306)  idle\n",
      "        grad3v_ssp_upr.fif : PCA-v3 (1 x 306)  idle\n",
      "        mag5v_ssp_upr.fif : PCA-v1 (1 x 306)  idle\n",
      "        mag5v_ssp_upr.fif : PCA-v2 (1 x 306)  idle\n",
      "        mag5v_ssp_upr.fif : PCA-v3 (1 x 306)  idle\n",
      "        mag5v_ssp_upr.fif : PCA-v4 (1 x 306)  idle\n",
      "        mag5v_ssp_upr.fif : PCA-v5 (1 x 306)  idle\n"
     ]
    },
    {
     "name": "stderr",
     "output_type": "stream",
     "text": [
      "<ipython-input-73-967f35f85865>:17: RuntimeWarning: This filename (B:\\Data\\sub06\\PROJ0076_SUBJ0006_SER004_FILESNO001.fif) does not conform to MNE naming conventions. All raw files should end with raw.fif, raw_sss.fif, raw_tsss.fif, raw.fif.gz, raw_sss.fif.gz, raw_tsss.fif.gz or _meg.fif\n",
      "  raw = mne.io.read_raw_fif(f,preload=True)\n"
     ]
    },
    {
     "name": "stdout",
     "output_type": "stream",
     "text": [
      "    Range : 191000 ... 852999 =    191.000 ...   852.999 secs\n",
      "Ready.\n",
      "Reading 0 ... 661999  =      0.000 ...   661.999 secs...\n",
      "Created an SSP operator (subspace dimension = 3)\n",
      "3 projection items activated\n",
      "SSP projectors applied...\n",
      "Writing \\\\blur\\ECOABS\\Data\\sub06\\proj\\PROJ0076_SUBJ0006_SER004_FILESNO001.fif\n"
     ]
    },
    {
     "name": "stderr",
     "output_type": "stream",
     "text": [
      "<ipython-input-73-967f35f85865>:29: RuntimeWarning: This filename (\\\\blur\\ECOABS\\Data\\sub06\\proj\\PROJ0076_SUBJ0006_SER004_FILESNO001.fif) does not conform to MNE naming conventions. All raw files should end with raw.fif, raw_sss.fif, raw_tsss.fif, raw.fif.gz, raw_sss.fif.gz, raw_tsss.fif.gz or _meg.fif\n",
      "  raw.save(fname)\n"
     ]
    },
    {
     "name": "stdout",
     "output_type": "stream",
     "text": [
      "Closing \\\\blur\\ECOABS\\Data\\sub06\\proj\\PROJ0076_SUBJ0006_SER004_FILESNO001.fif\n",
      "[done]\n",
      "Opening raw data file B:\\Data\\sub06\\PROJ0076_SUBJ0006_SER005_FILESNO001.fif...\n",
      "    Read a total of 8 projection items:\n",
      "        grad3v_ssp_upr.fif : PCA-v1 (1 x 306)  idle\n",
      "        grad3v_ssp_upr.fif : PCA-v2 (1 x 306)  idle\n",
      "        grad3v_ssp_upr.fif : PCA-v3 (1 x 306)  idle\n",
      "        mag5v_ssp_upr.fif : PCA-v1 (1 x 306)  idle\n",
      "        mag5v_ssp_upr.fif : PCA-v2 (1 x 306)  idle\n",
      "        mag5v_ssp_upr.fif : PCA-v3 (1 x 306)  idle\n",
      "        mag5v_ssp_upr.fif : PCA-v4 (1 x 306)  idle\n",
      "        mag5v_ssp_upr.fif : PCA-v5 (1 x 306)  idle\n"
     ]
    },
    {
     "name": "stderr",
     "output_type": "stream",
     "text": [
      "<ipython-input-73-967f35f85865>:17: RuntimeWarning: This filename (B:\\Data\\sub06\\PROJ0076_SUBJ0006_SER005_FILESNO001.fif) does not conform to MNE naming conventions. All raw files should end with raw.fif, raw_sss.fif, raw_tsss.fif, raw.fif.gz, raw_sss.fif.gz, raw_tsss.fif.gz or _meg.fif\n",
      "  raw = mne.io.read_raw_fif(f,preload=True)\n"
     ]
    },
    {
     "name": "stdout",
     "output_type": "stream",
     "text": [
      "    Range : 119000 ... 750999 =    119.000 ...   750.999 secs\n",
      "Ready.\n",
      "Reading 0 ... 631999  =      0.000 ...   631.999 secs...\n",
      "Created an SSP operator (subspace dimension = 3)\n",
      "3 projection items activated\n",
      "SSP projectors applied...\n",
      "Writing \\\\blur\\ECOABS\\Data\\sub06\\proj\\PROJ0076_SUBJ0006_SER005_FILESNO001.fif\n"
     ]
    },
    {
     "name": "stderr",
     "output_type": "stream",
     "text": [
      "<ipython-input-73-967f35f85865>:29: RuntimeWarning: This filename (\\\\blur\\ECOABS\\Data\\sub06\\proj\\PROJ0076_SUBJ0006_SER005_FILESNO001.fif) does not conform to MNE naming conventions. All raw files should end with raw.fif, raw_sss.fif, raw_tsss.fif, raw.fif.gz, raw_sss.fif.gz, raw_tsss.fif.gz or _meg.fif\n",
      "  raw.save(fname)\n"
     ]
    },
    {
     "name": "stdout",
     "output_type": "stream",
     "text": [
      "Closing \\\\blur\\ECOABS\\Data\\sub06\\proj\\PROJ0076_SUBJ0006_SER005_FILESNO001.fif\n",
      "[done]\n",
      "sub07\n",
      "Opening raw data file B:\\Data\\sub07\\PROJ0076_SUBJ0007_SER001_FILESNO001.fif...\n",
      "    Read a total of 8 projection items:\n",
      "        grad3v_ssp_upr.fif : PCA-v1 (1 x 306)  idle\n",
      "        grad3v_ssp_upr.fif : PCA-v2 (1 x 306)  idle\n",
      "        grad3v_ssp_upr.fif : PCA-v3 (1 x 306)  idle\n",
      "        mag5v_ssp_upr.fif : PCA-v1 (1 x 306)  idle\n",
      "        mag5v_ssp_upr.fif : PCA-v2 (1 x 306)  idle\n",
      "        mag5v_ssp_upr.fif : PCA-v3 (1 x 306)  idle\n",
      "        mag5v_ssp_upr.fif : PCA-v4 (1 x 306)  idle\n",
      "        mag5v_ssp_upr.fif : PCA-v5 (1 x 306)  idle\n"
     ]
    },
    {
     "name": "stderr",
     "output_type": "stream",
     "text": [
      "<ipython-input-73-967f35f85865>:17: RuntimeWarning: This filename (B:\\Data\\sub07\\PROJ0076_SUBJ0007_SER001_FILESNO001.fif) does not conform to MNE naming conventions. All raw files should end with raw.fif, raw_sss.fif, raw_tsss.fif, raw.fif.gz, raw_sss.fif.gz, raw_tsss.fif.gz or _meg.fif\n",
      "  raw = mne.io.read_raw_fif(f,preload=True)\n"
     ]
    },
    {
     "name": "stdout",
     "output_type": "stream",
     "text": [
      "    Range : 130000 ... 1656999 =    130.000 ...  1656.999 secs\n",
      "Ready.\n",
      "Reading 0 ... 1526999  =      0.000 ...  1526.999 secs...\n",
      "Created an SSP operator (subspace dimension = 3)\n",
      "3 projection items activated\n",
      "SSP projectors applied...\n",
      "Writing \\\\blur\\ECOABS\\Data\\sub07\\proj\\PROJ0076_SUBJ0007_SER001_FILESNO001.fif\n"
     ]
    },
    {
     "name": "stderr",
     "output_type": "stream",
     "text": [
      "<ipython-input-73-967f35f85865>:29: RuntimeWarning: This filename (\\\\blur\\ECOABS\\Data\\sub07\\proj\\PROJ0076_SUBJ0007_SER001_FILESNO001.fif) does not conform to MNE naming conventions. All raw files should end with raw.fif, raw_sss.fif, raw_tsss.fif, raw.fif.gz, raw_sss.fif.gz, raw_tsss.fif.gz or _meg.fif\n",
      "  raw.save(fname)\n"
     ]
    },
    {
     "name": "stdout",
     "output_type": "stream",
     "text": [
      "Closing \\\\blur\\ECOABS\\Data\\sub07\\proj\\PROJ0076_SUBJ0007_SER001_FILESNO001.fif\n",
      "[done]\n",
      "Opening raw data file B:\\Data\\sub07\\PROJ0076_SUBJ0007_SER002_FILESNO001.fif...\n",
      "    Read a total of 8 projection items:\n",
      "        grad3v_ssp_upr.fif : PCA-v1 (1 x 306)  idle\n",
      "        grad3v_ssp_upr.fif : PCA-v2 (1 x 306)  idle\n",
      "        grad3v_ssp_upr.fif : PCA-v3 (1 x 306)  idle\n",
      "        mag5v_ssp_upr.fif : PCA-v1 (1 x 306)  idle\n",
      "        mag5v_ssp_upr.fif : PCA-v2 (1 x 306)  idle\n",
      "        mag5v_ssp_upr.fif : PCA-v3 (1 x 306)  idle\n",
      "        mag5v_ssp_upr.fif : PCA-v4 (1 x 306)  idle\n",
      "        mag5v_ssp_upr.fif : PCA-v5 (1 x 306)  idle\n"
     ]
    },
    {
     "name": "stderr",
     "output_type": "stream",
     "text": [
      "<ipython-input-73-967f35f85865>:17: RuntimeWarning: This filename (B:\\Data\\sub07\\PROJ0076_SUBJ0007_SER002_FILESNO001.fif) does not conform to MNE naming conventions. All raw files should end with raw.fif, raw_sss.fif, raw_tsss.fif, raw.fif.gz, raw_sss.fif.gz, raw_tsss.fif.gz or _meg.fif\n",
      "  raw = mne.io.read_raw_fif(f,preload=True)\n"
     ]
    },
    {
     "name": "stdout",
     "output_type": "stream",
     "text": [
      "    Range : 243000 ... 895999 =    243.000 ...   895.999 secs\n",
      "Ready.\n",
      "Reading 0 ... 652999  =      0.000 ...   652.999 secs...\n",
      "Created an SSP operator (subspace dimension = 3)\n",
      "3 projection items activated\n",
      "SSP projectors applied...\n",
      "Writing \\\\blur\\ECOABS\\Data\\sub07\\proj\\PROJ0076_SUBJ0007_SER002_FILESNO001.fif\n"
     ]
    },
    {
     "name": "stderr",
     "output_type": "stream",
     "text": [
      "<ipython-input-73-967f35f85865>:29: RuntimeWarning: This filename (\\\\blur\\ECOABS\\Data\\sub07\\proj\\PROJ0076_SUBJ0007_SER002_FILESNO001.fif) does not conform to MNE naming conventions. All raw files should end with raw.fif, raw_sss.fif, raw_tsss.fif, raw.fif.gz, raw_sss.fif.gz, raw_tsss.fif.gz or _meg.fif\n",
      "  raw.save(fname)\n"
     ]
    },
    {
     "name": "stdout",
     "output_type": "stream",
     "text": [
      "Closing \\\\blur\\ECOABS\\Data\\sub07\\proj\\PROJ0076_SUBJ0007_SER002_FILESNO001.fif\n",
      "[done]\n",
      "Opening raw data file B:\\Data\\sub07\\PROJ0076_SUBJ0007_SER003_FILESNO001.fif...\n"
     ]
    },
    {
     "name": "stderr",
     "output_type": "stream",
     "text": [
      "<ipython-input-73-967f35f85865>:17: RuntimeWarning: This filename (B:\\Data\\sub07\\PROJ0076_SUBJ0007_SER003_FILESNO001.fif) does not conform to MNE naming conventions. All raw files should end with raw.fif, raw_sss.fif, raw_tsss.fif, raw.fif.gz, raw_sss.fif.gz, raw_tsss.fif.gz or _meg.fif\n",
      "  raw = mne.io.read_raw_fif(f,preload=True)\n"
     ]
    },
    {
     "name": "stdout",
     "output_type": "stream",
     "text": [
      "    Read a total of 8 projection items:\n",
      "        grad3v_ssp_upr.fif : PCA-v1 (1 x 306)  idle\n",
      "        grad3v_ssp_upr.fif : PCA-v2 (1 x 306)  idle\n",
      "        grad3v_ssp_upr.fif : PCA-v3 (1 x 306)  idle\n",
      "        mag5v_ssp_upr.fif : PCA-v1 (1 x 306)  idle\n",
      "        mag5v_ssp_upr.fif : PCA-v2 (1 x 306)  idle\n",
      "        mag5v_ssp_upr.fif : PCA-v3 (1 x 306)  idle\n",
      "        mag5v_ssp_upr.fif : PCA-v4 (1 x 306)  idle\n",
      "        mag5v_ssp_upr.fif : PCA-v5 (1 x 306)  idle\n",
      "    Range : 90000 ... 731999 =     90.000 ...   731.999 secs\n",
      "Ready.\n",
      "Reading 0 ... 641999  =      0.000 ...   641.999 secs...\n",
      "Created an SSP operator (subspace dimension = 3)\n",
      "3 projection items activated\n",
      "SSP projectors applied...\n",
      "Writing \\\\blur\\ECOABS\\Data\\sub07\\proj\\PROJ0076_SUBJ0007_SER003_FILESNO001.fif\n"
     ]
    },
    {
     "name": "stderr",
     "output_type": "stream",
     "text": [
      "<ipython-input-73-967f35f85865>:29: RuntimeWarning: This filename (\\\\blur\\ECOABS\\Data\\sub07\\proj\\PROJ0076_SUBJ0007_SER003_FILESNO001.fif) does not conform to MNE naming conventions. All raw files should end with raw.fif, raw_sss.fif, raw_tsss.fif, raw.fif.gz, raw_sss.fif.gz, raw_tsss.fif.gz or _meg.fif\n",
      "  raw.save(fname)\n"
     ]
    },
    {
     "name": "stdout",
     "output_type": "stream",
     "text": [
      "Closing \\\\blur\\ECOABS\\Data\\sub07\\proj\\PROJ0076_SUBJ0007_SER003_FILESNO001.fif\n",
      "[done]\n",
      "Opening raw data file B:\\Data\\sub07\\PROJ0076_SUBJ0007_SER004_FILESNO001.fif...\n"
     ]
    },
    {
     "name": "stderr",
     "output_type": "stream",
     "text": [
      "<ipython-input-73-967f35f85865>:17: RuntimeWarning: This filename (B:\\Data\\sub07\\PROJ0076_SUBJ0007_SER004_FILESNO001.fif) does not conform to MNE naming conventions. All raw files should end with raw.fif, raw_sss.fif, raw_tsss.fif, raw.fif.gz, raw_sss.fif.gz, raw_tsss.fif.gz or _meg.fif\n",
      "  raw = mne.io.read_raw_fif(f,preload=True)\n"
     ]
    },
    {
     "name": "stdout",
     "output_type": "stream",
     "text": [
      "    Read a total of 8 projection items:\n",
      "        grad3v_ssp_upr.fif : PCA-v1 (1 x 306)  idle\n",
      "        grad3v_ssp_upr.fif : PCA-v2 (1 x 306)  idle\n",
      "        grad3v_ssp_upr.fif : PCA-v3 (1 x 306)  idle\n",
      "        mag5v_ssp_upr.fif : PCA-v1 (1 x 306)  idle\n",
      "        mag5v_ssp_upr.fif : PCA-v2 (1 x 306)  idle\n",
      "        mag5v_ssp_upr.fif : PCA-v3 (1 x 306)  idle\n",
      "        mag5v_ssp_upr.fif : PCA-v4 (1 x 306)  idle\n",
      "        mag5v_ssp_upr.fif : PCA-v5 (1 x 306)  idle\n",
      "    Range : 68000 ... 747999 =     68.000 ...   747.999 secs\n",
      "Ready.\n",
      "Reading 0 ... 679999  =      0.000 ...   679.999 secs...\n",
      "Created an SSP operator (subspace dimension = 3)\n",
      "3 projection items activated\n",
      "SSP projectors applied...\n",
      "Writing \\\\blur\\ECOABS\\Data\\sub07\\proj\\PROJ0076_SUBJ0007_SER004_FILESNO001.fif\n"
     ]
    },
    {
     "name": "stderr",
     "output_type": "stream",
     "text": [
      "<ipython-input-73-967f35f85865>:29: RuntimeWarning: This filename (\\\\blur\\ECOABS\\Data\\sub07\\proj\\PROJ0076_SUBJ0007_SER004_FILESNO001.fif) does not conform to MNE naming conventions. All raw files should end with raw.fif, raw_sss.fif, raw_tsss.fif, raw.fif.gz, raw_sss.fif.gz, raw_tsss.fif.gz or _meg.fif\n",
      "  raw.save(fname)\n"
     ]
    },
    {
     "name": "stdout",
     "output_type": "stream",
     "text": [
      "Closing \\\\blur\\ECOABS\\Data\\sub07\\proj\\PROJ0076_SUBJ0007_SER004_FILESNO001.fif\n",
      "[done]\n",
      "Opening raw data file B:\\Data\\sub07\\PROJ0076_SUBJ0007_SER005_FILESNO001.fif...\n",
      "    Read a total of 8 projection items:\n",
      "        grad3v_ssp_upr.fif : PCA-v1 (1 x 306)  idle\n",
      "        grad3v_ssp_upr.fif : PCA-v2 (1 x 306)  idle\n",
      "        grad3v_ssp_upr.fif : PCA-v3 (1 x 306)  idle\n",
      "        mag5v_ssp_upr.fif : PCA-v1 (1 x 306)  idle\n",
      "        mag5v_ssp_upr.fif : PCA-v2 (1 x 306)  idle\n",
      "        mag5v_ssp_upr.fif : PCA-v3 (1 x 306)  idle\n",
      "        mag5v_ssp_upr.fif : PCA-v4 (1 x 306)  idle\n",
      "        mag5v_ssp_upr.fif : PCA-v5 (1 x 306)  idle\n"
     ]
    },
    {
     "name": "stderr",
     "output_type": "stream",
     "text": [
      "<ipython-input-73-967f35f85865>:17: RuntimeWarning: This filename (B:\\Data\\sub07\\PROJ0076_SUBJ0007_SER005_FILESNO001.fif) does not conform to MNE naming conventions. All raw files should end with raw.fif, raw_sss.fif, raw_tsss.fif, raw.fif.gz, raw_sss.fif.gz, raw_tsss.fif.gz or _meg.fif\n",
      "  raw = mne.io.read_raw_fif(f,preload=True)\n"
     ]
    },
    {
     "name": "stdout",
     "output_type": "stream",
     "text": [
      "    Range : 94000 ... 715999 =     94.000 ...   715.999 secs\n",
      "Ready.\n",
      "Reading 0 ... 621999  =      0.000 ...   621.999 secs...\n",
      "Created an SSP operator (subspace dimension = 3)\n",
      "3 projection items activated\n",
      "SSP projectors applied...\n",
      "Writing \\\\blur\\ECOABS\\Data\\sub07\\proj\\PROJ0076_SUBJ0007_SER005_FILESNO001.fif\n"
     ]
    },
    {
     "name": "stderr",
     "output_type": "stream",
     "text": [
      "<ipython-input-73-967f35f85865>:29: RuntimeWarning: This filename (\\\\blur\\ECOABS\\Data\\sub07\\proj\\PROJ0076_SUBJ0007_SER005_FILESNO001.fif) does not conform to MNE naming conventions. All raw files should end with raw.fif, raw_sss.fif, raw_tsss.fif, raw.fif.gz, raw_sss.fif.gz, raw_tsss.fif.gz or _meg.fif\n",
      "  raw.save(fname)\n"
     ]
    },
    {
     "name": "stdout",
     "output_type": "stream",
     "text": [
      "Closing \\\\blur\\ECOABS\\Data\\sub07\\proj\\PROJ0076_SUBJ0007_SER005_FILESNO001.fif\n",
      "[done]\n",
      "sub08\n",
      "Opening raw data file B:\\Data\\sub08\\PROJ0076_SUBJ0008_SER001_FILESNO001.fif...\n",
      "    Read a total of 8 projection items:\n",
      "        grad3v_ssp_upr.fif : PCA-v1 (1 x 306)  idle\n",
      "        grad3v_ssp_upr.fif : PCA-v2 (1 x 306)  idle\n",
      "        grad3v_ssp_upr.fif : PCA-v3 (1 x 306)  idle\n",
      "        mag5v_ssp_upr.fif : PCA-v1 (1 x 306)  idle\n",
      "        mag5v_ssp_upr.fif : PCA-v2 (1 x 306)  idle\n",
      "        mag5v_ssp_upr.fif : PCA-v3 (1 x 306)  idle\n",
      "        mag5v_ssp_upr.fif : PCA-v4 (1 x 306)  idle\n",
      "        mag5v_ssp_upr.fif : PCA-v5 (1 x 306)  idle\n"
     ]
    },
    {
     "name": "stderr",
     "output_type": "stream",
     "text": [
      "<ipython-input-73-967f35f85865>:17: RuntimeWarning: This filename (B:\\Data\\sub08\\PROJ0076_SUBJ0008_SER001_FILESNO001.fif) does not conform to MNE naming conventions. All raw files should end with raw.fif, raw_sss.fif, raw_tsss.fif, raw.fif.gz, raw_sss.fif.gz, raw_tsss.fif.gz or _meg.fif\n",
      "  raw = mne.io.read_raw_fif(f,preload=True)\n"
     ]
    },
    {
     "name": "stdout",
     "output_type": "stream",
     "text": [
      "    Range : 150000 ... 1706999 =    150.000 ...  1706.999 secs\n",
      "Ready.\n",
      "Reading 0 ... 1556999  =      0.000 ...  1556.999 secs...\n"
     ]
    },
    {
     "name": "stderr",
     "output_type": "stream",
     "text": [
      "<ipython-input-73-967f35f85865>:17: DeprecationWarning: The default for on_split_missing is \"warn\" in 0.22 but will change to \"raise\" in 0.23, set it explicitly to avoid this message\n",
      "  raw = mne.io.read_raw_fif(f,preload=True)\n",
      "<ipython-input-73-967f35f85865>:17: RuntimeWarning: Split raw file detected but next file \\\\blur\\ECOABS\\Data\\sub08\\PROJ0076_SUBJ0008_SER001_FILESNO001-1.fif does not exist. Ensure all files were transferred properly and that split and original files were not manually renamed on disk (split files should be renamed by loading and re-saving with MNE-Python to preserve proper filename linkage).\n",
      "  raw = mne.io.read_raw_fif(f,preload=True)\n"
     ]
    },
    {
     "name": "stdout",
     "output_type": "stream",
     "text": [
      "Created an SSP operator (subspace dimension = 3)\n",
      "3 projection items activated\n",
      "SSP projectors applied...\n",
      "Writing \\\\blur\\ECOABS\\Data\\sub08\\proj\\PROJ0076_SUBJ0008_SER001_FILESNO001.fif\n"
     ]
    },
    {
     "name": "stderr",
     "output_type": "stream",
     "text": [
      "<ipython-input-73-967f35f85865>:29: RuntimeWarning: This filename (\\\\blur\\ECOABS\\Data\\sub08\\proj\\PROJ0076_SUBJ0008_SER001_FILESNO001.fif) does not conform to MNE naming conventions. All raw files should end with raw.fif, raw_sss.fif, raw_tsss.fif, raw.fif.gz, raw_sss.fif.gz, raw_tsss.fif.gz or _meg.fif\n",
      "  raw.save(fname)\n"
     ]
    },
    {
     "name": "stdout",
     "output_type": "stream",
     "text": [
      "Closing \\\\blur\\ECOABS\\Data\\sub08\\proj\\PROJ0076_SUBJ0008_SER001_FILESNO001.fif\n",
      "[done]\n",
      "Opening raw data file B:\\Data\\sub08\\PROJ0076_SUBJ0008_SER001_FILESNO002.fif...\n",
      "    Read a total of 8 projection items:\n",
      "        grad3v_ssp_upr.fif : PCA-v1 (1 x 306)  idle\n",
      "        grad3v_ssp_upr.fif : PCA-v2 (1 x 306)  idle\n",
      "        grad3v_ssp_upr.fif : PCA-v3 (1 x 306)  idle\n",
      "        mag5v_ssp_upr.fif : PCA-v1 (1 x 306)  idle\n",
      "        mag5v_ssp_upr.fif : PCA-v2 (1 x 306)  idle\n",
      "        mag5v_ssp_upr.fif : PCA-v3 (1 x 306)  idle\n",
      "        mag5v_ssp_upr.fif : PCA-v4 (1 x 306)  idle\n",
      "        mag5v_ssp_upr.fif : PCA-v5 (1 x 306)  idle\n"
     ]
    },
    {
     "name": "stderr",
     "output_type": "stream",
     "text": [
      "<ipython-input-73-967f35f85865>:17: RuntimeWarning: This filename (B:\\Data\\sub08\\PROJ0076_SUBJ0008_SER001_FILESNO002.fif) does not conform to MNE naming conventions. All raw files should end with raw.fif, raw_sss.fif, raw_tsss.fif, raw.fif.gz, raw_sss.fif.gz, raw_tsss.fif.gz or _meg.fif\n",
      "  raw = mne.io.read_raw_fif(f,preload=True)\n"
     ]
    },
    {
     "name": "stdout",
     "output_type": "stream",
     "text": [
      "    Range : 1707000 ... 2346999 =   1707.000 ...  2346.999 secs\n",
      "Ready.\n",
      "Reading 0 ... 639999  =      0.000 ...   639.999 secs...\n",
      "Created an SSP operator (subspace dimension = 3)\n",
      "3 projection items activated\n",
      "SSP projectors applied...\n",
      "Writing \\\\blur\\ECOABS\\Data\\sub08\\proj\\PROJ0076_SUBJ0008_SER001_FILESNO002.fif\n"
     ]
    },
    {
     "name": "stderr",
     "output_type": "stream",
     "text": [
      "<ipython-input-73-967f35f85865>:29: RuntimeWarning: This filename (\\\\blur\\ECOABS\\Data\\sub08\\proj\\PROJ0076_SUBJ0008_SER001_FILESNO002.fif) does not conform to MNE naming conventions. All raw files should end with raw.fif, raw_sss.fif, raw_tsss.fif, raw.fif.gz, raw_sss.fif.gz, raw_tsss.fif.gz or _meg.fif\n",
      "  raw.save(fname)\n"
     ]
    },
    {
     "name": "stdout",
     "output_type": "stream",
     "text": [
      "Closing \\\\blur\\ECOABS\\Data\\sub08\\proj\\PROJ0076_SUBJ0008_SER001_FILESNO002.fif\n",
      "[done]\n",
      "Opening raw data file B:\\Data\\sub08\\PROJ0076_SUBJ0008_SER002_FILESNO001.fif...\n",
      "    Read a total of 8 projection items:\n",
      "        grad3v_ssp_upr.fif : PCA-v1 (1 x 306)  idle\n",
      "        grad3v_ssp_upr.fif : PCA-v2 (1 x 306)  idle\n",
      "        grad3v_ssp_upr.fif : PCA-v3 (1 x 306)  idle\n",
      "        mag5v_ssp_upr.fif : PCA-v1 (1 x 306)  idle\n",
      "        mag5v_ssp_upr.fif : PCA-v2 (1 x 306)  idle\n",
      "        mag5v_ssp_upr.fif : PCA-v3 (1 x 306)  idle\n",
      "        mag5v_ssp_upr.fif : PCA-v4 (1 x 306)  idle\n",
      "        mag5v_ssp_upr.fif : PCA-v5 (1 x 306)  idle\n"
     ]
    },
    {
     "name": "stderr",
     "output_type": "stream",
     "text": [
      "<ipython-input-73-967f35f85865>:17: RuntimeWarning: This filename (B:\\Data\\sub08\\PROJ0076_SUBJ0008_SER002_FILESNO001.fif) does not conform to MNE naming conventions. All raw files should end with raw.fif, raw_sss.fif, raw_tsss.fif, raw.fif.gz, raw_sss.fif.gz, raw_tsss.fif.gz or _meg.fif\n",
      "  raw = mne.io.read_raw_fif(f,preload=True)\n"
     ]
    },
    {
     "name": "stdout",
     "output_type": "stream",
     "text": [
      "    Range : 100000 ... 975999 =    100.000 ...   975.999 secs\n",
      "Ready.\n",
      "Reading 0 ... 875999  =      0.000 ...   875.999 secs...\n",
      "Created an SSP operator (subspace dimension = 3)\n",
      "3 projection items activated\n",
      "SSP projectors applied...\n",
      "Writing \\\\blur\\ECOABS\\Data\\sub08\\proj\\PROJ0076_SUBJ0008_SER002_FILESNO001.fif\n"
     ]
    },
    {
     "name": "stderr",
     "output_type": "stream",
     "text": [
      "<ipython-input-73-967f35f85865>:29: RuntimeWarning: This filename (\\\\blur\\ECOABS\\Data\\sub08\\proj\\PROJ0076_SUBJ0008_SER002_FILESNO001.fif) does not conform to MNE naming conventions. All raw files should end with raw.fif, raw_sss.fif, raw_tsss.fif, raw.fif.gz, raw_sss.fif.gz, raw_tsss.fif.gz or _meg.fif\n",
      "  raw.save(fname)\n"
     ]
    },
    {
     "name": "stdout",
     "output_type": "stream",
     "text": [
      "Closing \\\\blur\\ECOABS\\Data\\sub08\\proj\\PROJ0076_SUBJ0008_SER002_FILESNO001.fif\n",
      "[done]\n",
      "Opening raw data file B:\\Data\\sub08\\PROJ0076_SUBJ0008_SER003_FILESNO001.fif...\n"
     ]
    },
    {
     "name": "stderr",
     "output_type": "stream",
     "text": [
      "<ipython-input-73-967f35f85865>:17: RuntimeWarning: This filename (B:\\Data\\sub08\\PROJ0076_SUBJ0008_SER003_FILESNO001.fif) does not conform to MNE naming conventions. All raw files should end with raw.fif, raw_sss.fif, raw_tsss.fif, raw.fif.gz, raw_sss.fif.gz, raw_tsss.fif.gz or _meg.fif\n",
      "  raw = mne.io.read_raw_fif(f,preload=True)\n"
     ]
    },
    {
     "name": "stdout",
     "output_type": "stream",
     "text": [
      "    Read a total of 8 projection items:\n",
      "        grad3v_ssp_upr.fif : PCA-v1 (1 x 306)  idle\n",
      "        grad3v_ssp_upr.fif : PCA-v2 (1 x 306)  idle\n",
      "        grad3v_ssp_upr.fif : PCA-v3 (1 x 306)  idle\n",
      "        mag5v_ssp_upr.fif : PCA-v1 (1 x 306)  idle\n",
      "        mag5v_ssp_upr.fif : PCA-v2 (1 x 306)  idle\n",
      "        mag5v_ssp_upr.fif : PCA-v3 (1 x 306)  idle\n",
      "        mag5v_ssp_upr.fif : PCA-v4 (1 x 306)  idle\n",
      "        mag5v_ssp_upr.fif : PCA-v5 (1 x 306)  idle\n",
      "    Range : 113000 ... 947999 =    113.000 ...   947.999 secs\n",
      "Ready.\n",
      "Reading 0 ... 834999  =      0.000 ...   834.999 secs...\n",
      "Created an SSP operator (subspace dimension = 3)\n",
      "3 projection items activated\n",
      "SSP projectors applied...\n",
      "Writing \\\\blur\\ECOABS\\Data\\sub08\\proj\\PROJ0076_SUBJ0008_SER003_FILESNO001.fif\n"
     ]
    },
    {
     "name": "stderr",
     "output_type": "stream",
     "text": [
      "<ipython-input-73-967f35f85865>:29: RuntimeWarning: This filename (\\\\blur\\ECOABS\\Data\\sub08\\proj\\PROJ0076_SUBJ0008_SER003_FILESNO001.fif) does not conform to MNE naming conventions. All raw files should end with raw.fif, raw_sss.fif, raw_tsss.fif, raw.fif.gz, raw_sss.fif.gz, raw_tsss.fif.gz or _meg.fif\n",
      "  raw.save(fname)\n"
     ]
    },
    {
     "name": "stdout",
     "output_type": "stream",
     "text": [
      "Closing \\\\blur\\ECOABS\\Data\\sub08\\proj\\PROJ0076_SUBJ0008_SER003_FILESNO001.fif\n",
      "[done]\n",
      "Opening raw data file B:\\Data\\sub08\\PROJ0076_SUBJ0008_SER004_FILESNO001.fif...\n",
      "    Read a total of 8 projection items:\n",
      "        grad3v_ssp_upr.fif : PCA-v1 (1 x 306)  idle\n",
      "        grad3v_ssp_upr.fif : PCA-v2 (1 x 306)  idle\n",
      "        grad3v_ssp_upr.fif : PCA-v3 (1 x 306)  idle\n",
      "        mag5v_ssp_upr.fif : PCA-v1 (1 x 306)  idle\n",
      "        mag5v_ssp_upr.fif : PCA-v2 (1 x 306)  idle\n",
      "        mag5v_ssp_upr.fif : PCA-v3 (1 x 306)  idle\n",
      "        mag5v_ssp_upr.fif : PCA-v4 (1 x 306)  idle\n",
      "        mag5v_ssp_upr.fif : PCA-v5 (1 x 306)  idle\n",
      "    Range : 101000 ... 982999 =    101.000 ...   982.999 secs\n"
     ]
    },
    {
     "name": "stderr",
     "output_type": "stream",
     "text": [
      "<ipython-input-73-967f35f85865>:17: RuntimeWarning: This filename (B:\\Data\\sub08\\PROJ0076_SUBJ0008_SER004_FILESNO001.fif) does not conform to MNE naming conventions. All raw files should end with raw.fif, raw_sss.fif, raw_tsss.fif, raw.fif.gz, raw_sss.fif.gz, raw_tsss.fif.gz or _meg.fif\n",
      "  raw = mne.io.read_raw_fif(f,preload=True)\n"
     ]
    },
    {
     "name": "stdout",
     "output_type": "stream",
     "text": [
      "Ready.\n",
      "Reading 0 ... 881999  =      0.000 ...   881.999 secs...\n",
      "Created an SSP operator (subspace dimension = 3)\n",
      "3 projection items activated\n",
      "SSP projectors applied...\n",
      "Writing \\\\blur\\ECOABS\\Data\\sub08\\proj\\PROJ0076_SUBJ0008_SER004_FILESNO001.fif\n"
     ]
    },
    {
     "name": "stderr",
     "output_type": "stream",
     "text": [
      "<ipython-input-73-967f35f85865>:29: RuntimeWarning: This filename (\\\\blur\\ECOABS\\Data\\sub08\\proj\\PROJ0076_SUBJ0008_SER004_FILESNO001.fif) does not conform to MNE naming conventions. All raw files should end with raw.fif, raw_sss.fif, raw_tsss.fif, raw.fif.gz, raw_sss.fif.gz, raw_tsss.fif.gz or _meg.fif\n",
      "  raw.save(fname)\n"
     ]
    },
    {
     "name": "stdout",
     "output_type": "stream",
     "text": [
      "Closing \\\\blur\\ECOABS\\Data\\sub08\\proj\\PROJ0076_SUBJ0008_SER004_FILESNO001.fif\n",
      "[done]\n",
      "Opening raw data file B:\\Data\\sub08\\PROJ0076_SUBJ0008_SER005_FILESNO001.fif...\n",
      "    Read a total of 8 projection items:\n",
      "        grad3v_ssp_upr.fif : PCA-v1 (1 x 306)  idle\n",
      "        grad3v_ssp_upr.fif : PCA-v2 (1 x 306)  idle\n",
      "        grad3v_ssp_upr.fif : PCA-v3 (1 x 306)  idle\n",
      "        mag5v_ssp_upr.fif : PCA-v1 (1 x 306)  idle\n",
      "        mag5v_ssp_upr.fif : PCA-v2 (1 x 306)  idle\n",
      "        mag5v_ssp_upr.fif : PCA-v3 (1 x 306)  idle\n",
      "        mag5v_ssp_upr.fif : PCA-v4 (1 x 306)  idle\n",
      "        mag5v_ssp_upr.fif : PCA-v5 (1 x 306)  idle\n"
     ]
    },
    {
     "name": "stderr",
     "output_type": "stream",
     "text": [
      "<ipython-input-73-967f35f85865>:17: RuntimeWarning: This filename (B:\\Data\\sub08\\PROJ0076_SUBJ0008_SER005_FILESNO001.fif) does not conform to MNE naming conventions. All raw files should end with raw.fif, raw_sss.fif, raw_tsss.fif, raw.fif.gz, raw_sss.fif.gz, raw_tsss.fif.gz or _meg.fif\n",
      "  raw = mne.io.read_raw_fif(f,preload=True)\n"
     ]
    },
    {
     "name": "stdout",
     "output_type": "stream",
     "text": [
      "    Range : 63000 ... 939999 =     63.000 ...   939.999 secs\n",
      "Ready.\n",
      "Reading 0 ... 876999  =      0.000 ...   876.999 secs...\n",
      "Created an SSP operator (subspace dimension = 3)\n",
      "3 projection items activated\n",
      "SSP projectors applied...\n",
      "Writing \\\\blur\\ECOABS\\Data\\sub08\\proj\\PROJ0076_SUBJ0008_SER005_FILESNO001.fif\n"
     ]
    },
    {
     "name": "stderr",
     "output_type": "stream",
     "text": [
      "<ipython-input-73-967f35f85865>:29: RuntimeWarning: This filename (\\\\blur\\ECOABS\\Data\\sub08\\proj\\PROJ0076_SUBJ0008_SER005_FILESNO001.fif) does not conform to MNE naming conventions. All raw files should end with raw.fif, raw_sss.fif, raw_tsss.fif, raw.fif.gz, raw_sss.fif.gz, raw_tsss.fif.gz or _meg.fif\n",
      "  raw.save(fname)\n"
     ]
    },
    {
     "name": "stdout",
     "output_type": "stream",
     "text": [
      "Closing \\\\blur\\ECOABS\\Data\\sub08\\proj\\PROJ0076_SUBJ0008_SER005_FILESNO001.fif\n",
      "[done]\n",
      "sub09\n",
      "Opening raw data file B:\\Data\\sub09\\PROJ0076_SUBJ0009_SER001_FILESNO001.fif...\n",
      "    Read a total of 8 projection items:\n",
      "        grad3v_ssp_upr.fif : PCA-v1 (1 x 306)  idle\n",
      "        grad3v_ssp_upr.fif : PCA-v2 (1 x 306)  idle\n",
      "        grad3v_ssp_upr.fif : PCA-v3 (1 x 306)  idle\n",
      "        mag5v_ssp_upr.fif : PCA-v1 (1 x 306)  idle\n",
      "        mag5v_ssp_upr.fif : PCA-v2 (1 x 306)  idle\n",
      "        mag5v_ssp_upr.fif : PCA-v3 (1 x 306)  idle\n",
      "        mag5v_ssp_upr.fif : PCA-v4 (1 x 306)  idle\n",
      "        mag5v_ssp_upr.fif : PCA-v5 (1 x 306)  idle\n"
     ]
    },
    {
     "name": "stderr",
     "output_type": "stream",
     "text": [
      "<ipython-input-73-967f35f85865>:17: RuntimeWarning: This filename (B:\\Data\\sub09\\PROJ0076_SUBJ0009_SER001_FILESNO001.fif) does not conform to MNE naming conventions. All raw files should end with raw.fif, raw_sss.fif, raw_tsss.fif, raw.fif.gz, raw_sss.fif.gz, raw_tsss.fif.gz or _meg.fif\n",
      "  raw = mne.io.read_raw_fif(f,preload=True)\n"
     ]
    },
    {
     "name": "stdout",
     "output_type": "stream",
     "text": [
      "    Range : 20000 ... 1564999 =     20.000 ...  1564.999 secs\n",
      "Ready.\n",
      "Reading 0 ... 1544999  =      0.000 ...  1544.999 secs...\n",
      "Created an SSP operator (subspace dimension = 3)\n",
      "3 projection items activated\n",
      "SSP projectors applied...\n",
      "Writing \\\\blur\\ECOABS\\Data\\sub09\\proj\\PROJ0076_SUBJ0009_SER001_FILESNO001.fif\n"
     ]
    },
    {
     "name": "stderr",
     "output_type": "stream",
     "text": [
      "<ipython-input-73-967f35f85865>:29: RuntimeWarning: This filename (\\\\blur\\ECOABS\\Data\\sub09\\proj\\PROJ0076_SUBJ0009_SER001_FILESNO001.fif) does not conform to MNE naming conventions. All raw files should end with raw.fif, raw_sss.fif, raw_tsss.fif, raw.fif.gz, raw_sss.fif.gz, raw_tsss.fif.gz or _meg.fif\n",
      "  raw.save(fname)\n"
     ]
    },
    {
     "name": "stdout",
     "output_type": "stream",
     "text": [
      "Closing \\\\blur\\ECOABS\\Data\\sub09\\proj\\PROJ0076_SUBJ0009_SER001_FILESNO001.fif\n",
      "[done]\n",
      "Opening raw data file B:\\Data\\sub09\\PROJ0076_SUBJ0009_SER002_FILESNO001.fif...\n",
      "    Read a total of 8 projection items:\n",
      "        grad3v_ssp_upr.fif : PCA-v1 (1 x 306)  idle\n",
      "        grad3v_ssp_upr.fif : PCA-v2 (1 x 306)  idle\n",
      "        grad3v_ssp_upr.fif : PCA-v3 (1 x 306)  idle\n",
      "        mag5v_ssp_upr.fif : PCA-v1 (1 x 306)  idle\n",
      "        mag5v_ssp_upr.fif : PCA-v2 (1 x 306)  idle\n",
      "        mag5v_ssp_upr.fif : PCA-v3 (1 x 306)  idle\n",
      "        mag5v_ssp_upr.fif : PCA-v4 (1 x 306)  idle\n",
      "        mag5v_ssp_upr.fif : PCA-v5 (1 x 306)  idle\n"
     ]
    },
    {
     "name": "stderr",
     "output_type": "stream",
     "text": [
      "<ipython-input-73-967f35f85865>:17: RuntimeWarning: This filename (B:\\Data\\sub09\\PROJ0076_SUBJ0009_SER002_FILESNO001.fif) does not conform to MNE naming conventions. All raw files should end with raw.fif, raw_sss.fif, raw_tsss.fif, raw.fif.gz, raw_sss.fif.gz, raw_tsss.fif.gz or _meg.fif\n",
      "  raw = mne.io.read_raw_fif(f,preload=True)\n"
     ]
    },
    {
     "name": "stdout",
     "output_type": "stream",
     "text": [
      "    Range : 62000 ... 720999 =     62.000 ...   720.999 secs\n",
      "Ready.\n",
      "Reading 0 ... 658999  =      0.000 ...   658.999 secs...\n",
      "Created an SSP operator (subspace dimension = 3)\n",
      "3 projection items activated\n",
      "SSP projectors applied...\n",
      "Writing \\\\blur\\ECOABS\\Data\\sub09\\proj\\PROJ0076_SUBJ0009_SER002_FILESNO001.fif\n"
     ]
    },
    {
     "name": "stderr",
     "output_type": "stream",
     "text": [
      "<ipython-input-73-967f35f85865>:29: RuntimeWarning: This filename (\\\\blur\\ECOABS\\Data\\sub09\\proj\\PROJ0076_SUBJ0009_SER002_FILESNO001.fif) does not conform to MNE naming conventions. All raw files should end with raw.fif, raw_sss.fif, raw_tsss.fif, raw.fif.gz, raw_sss.fif.gz, raw_tsss.fif.gz or _meg.fif\n",
      "  raw.save(fname)\n"
     ]
    },
    {
     "name": "stdout",
     "output_type": "stream",
     "text": [
      "Closing \\\\blur\\ECOABS\\Data\\sub09\\proj\\PROJ0076_SUBJ0009_SER002_FILESNO001.fif\n",
      "[done]\n",
      "Opening raw data file B:\\Data\\sub09\\PROJ0076_SUBJ0009_SER003_FILESNO001.fif...\n",
      "    Read a total of 8 projection items:\n",
      "        grad3v_ssp_upr.fif : PCA-v1 (1 x 306)  idle\n",
      "        grad3v_ssp_upr.fif : PCA-v2 (1 x 306)  idle\n",
      "        grad3v_ssp_upr.fif : PCA-v3 (1 x 306)  idle\n",
      "        mag5v_ssp_upr.fif : PCA-v1 (1 x 306)  idle\n",
      "        mag5v_ssp_upr.fif : PCA-v2 (1 x 306)  idle\n",
      "        mag5v_ssp_upr.fif : PCA-v3 (1 x 306)  idle\n",
      "        mag5v_ssp_upr.fif : PCA-v4 (1 x 306)  idle\n",
      "        mag5v_ssp_upr.fif : PCA-v5 (1 x 306)  idle\n"
     ]
    },
    {
     "name": "stderr",
     "output_type": "stream",
     "text": [
      "<ipython-input-73-967f35f85865>:17: RuntimeWarning: This filename (B:\\Data\\sub09\\PROJ0076_SUBJ0009_SER003_FILESNO001.fif) does not conform to MNE naming conventions. All raw files should end with raw.fif, raw_sss.fif, raw_tsss.fif, raw.fif.gz, raw_sss.fif.gz, raw_tsss.fif.gz or _meg.fif\n",
      "  raw = mne.io.read_raw_fif(f,preload=True)\n"
     ]
    },
    {
     "name": "stdout",
     "output_type": "stream",
     "text": [
      "    Range : 107000 ... 759999 =    107.000 ...   759.999 secs\n",
      "Ready.\n",
      "Reading 0 ... 652999  =      0.000 ...   652.999 secs...\n",
      "Created an SSP operator (subspace dimension = 3)\n",
      "3 projection items activated\n",
      "SSP projectors applied...\n",
      "Writing \\\\blur\\ECOABS\\Data\\sub09\\proj\\PROJ0076_SUBJ0009_SER003_FILESNO001.fif\n"
     ]
    },
    {
     "name": "stderr",
     "output_type": "stream",
     "text": [
      "<ipython-input-73-967f35f85865>:29: RuntimeWarning: This filename (\\\\blur\\ECOABS\\Data\\sub09\\proj\\PROJ0076_SUBJ0009_SER003_FILESNO001.fif) does not conform to MNE naming conventions. All raw files should end with raw.fif, raw_sss.fif, raw_tsss.fif, raw.fif.gz, raw_sss.fif.gz, raw_tsss.fif.gz or _meg.fif\n",
      "  raw.save(fname)\n"
     ]
    },
    {
     "name": "stdout",
     "output_type": "stream",
     "text": [
      "Closing \\\\blur\\ECOABS\\Data\\sub09\\proj\\PROJ0076_SUBJ0009_SER003_FILESNO001.fif\n",
      "[done]\n",
      "Opening raw data file B:\\Data\\sub09\\PROJ0076_SUBJ0009_SER004_FILESNO001.fif...\n",
      "    Read a total of 8 projection items:\n",
      "        grad3v_ssp_upr.fif : PCA-v1 (1 x 306)  idle\n",
      "        grad3v_ssp_upr.fif : PCA-v2 (1 x 306)  idle\n",
      "        grad3v_ssp_upr.fif : PCA-v3 (1 x 306)  idle\n",
      "        mag5v_ssp_upr.fif : PCA-v1 (1 x 306)  idle\n",
      "        mag5v_ssp_upr.fif : PCA-v2 (1 x 306)  idle\n",
      "        mag5v_ssp_upr.fif : PCA-v3 (1 x 306)  idle\n",
      "        mag5v_ssp_upr.fif : PCA-v4 (1 x 306)  idle\n",
      "        mag5v_ssp_upr.fif : PCA-v5 (1 x 306)  idle\n"
     ]
    },
    {
     "name": "stderr",
     "output_type": "stream",
     "text": [
      "<ipython-input-73-967f35f85865>:17: RuntimeWarning: This filename (B:\\Data\\sub09\\PROJ0076_SUBJ0009_SER004_FILESNO001.fif) does not conform to MNE naming conventions. All raw files should end with raw.fif, raw_sss.fif, raw_tsss.fif, raw.fif.gz, raw_sss.fif.gz, raw_tsss.fif.gz or _meg.fif\n",
      "  raw = mne.io.read_raw_fif(f,preload=True)\n"
     ]
    },
    {
     "name": "stdout",
     "output_type": "stream",
     "text": [
      "    Range : 75000 ... 723999 =     75.000 ...   723.999 secs\n",
      "Ready.\n",
      "Reading 0 ... 648999  =      0.000 ...   648.999 secs...\n",
      "Created an SSP operator (subspace dimension = 3)\n",
      "3 projection items activated\n",
      "SSP projectors applied...\n",
      "Writing \\\\blur\\ECOABS\\Data\\sub09\\proj\\PROJ0076_SUBJ0009_SER004_FILESNO001.fif\n"
     ]
    },
    {
     "name": "stderr",
     "output_type": "stream",
     "text": [
      "<ipython-input-73-967f35f85865>:29: RuntimeWarning: This filename (\\\\blur\\ECOABS\\Data\\sub09\\proj\\PROJ0076_SUBJ0009_SER004_FILESNO001.fif) does not conform to MNE naming conventions. All raw files should end with raw.fif, raw_sss.fif, raw_tsss.fif, raw.fif.gz, raw_sss.fif.gz, raw_tsss.fif.gz or _meg.fif\n",
      "  raw.save(fname)\n"
     ]
    },
    {
     "name": "stdout",
     "output_type": "stream",
     "text": [
      "Closing \\\\blur\\ECOABS\\Data\\sub09\\proj\\PROJ0076_SUBJ0009_SER004_FILESNO001.fif\n",
      "[done]\n",
      "Opening raw data file B:\\Data\\sub09\\PROJ0076_SUBJ0009_SER005_FILESNO001.fif...\n",
      "    Read a total of 8 projection items:\n",
      "        grad3v_ssp_upr.fif : PCA-v1 (1 x 306)  idle\n",
      "        grad3v_ssp_upr.fif : PCA-v2 (1 x 306)  idle\n",
      "        grad3v_ssp_upr.fif : PCA-v3 (1 x 306)  idle\n",
      "        mag5v_ssp_upr.fif : PCA-v1 (1 x 306)  idle\n",
      "        mag5v_ssp_upr.fif : PCA-v2 (1 x 306)  idle\n",
      "        mag5v_ssp_upr.fif : PCA-v3 (1 x 306)  idle\n",
      "        mag5v_ssp_upr.fif : PCA-v4 (1 x 306)  idle\n",
      "        mag5v_ssp_upr.fif : PCA-v5 (1 x 306)  idle\n"
     ]
    },
    {
     "name": "stderr",
     "output_type": "stream",
     "text": [
      "<ipython-input-73-967f35f85865>:17: RuntimeWarning: This filename (B:\\Data\\sub09\\PROJ0076_SUBJ0009_SER005_FILESNO001.fif) does not conform to MNE naming conventions. All raw files should end with raw.fif, raw_sss.fif, raw_tsss.fif, raw.fif.gz, raw_sss.fif.gz, raw_tsss.fif.gz or _meg.fif\n",
      "  raw = mne.io.read_raw_fif(f,preload=True)\n"
     ]
    },
    {
     "name": "stdout",
     "output_type": "stream",
     "text": [
      "    Range : 89000 ... 736999 =     89.000 ...   736.999 secs\n",
      "Ready.\n",
      "Reading 0 ... 647999  =      0.000 ...   647.999 secs...\n",
      "Created an SSP operator (subspace dimension = 3)\n",
      "3 projection items activated\n",
      "SSP projectors applied...\n",
      "Writing \\\\blur\\ECOABS\\Data\\sub09\\proj\\PROJ0076_SUBJ0009_SER005_FILESNO001.fif\n"
     ]
    },
    {
     "name": "stderr",
     "output_type": "stream",
     "text": [
      "<ipython-input-73-967f35f85865>:29: RuntimeWarning: This filename (\\\\blur\\ECOABS\\Data\\sub09\\proj\\PROJ0076_SUBJ0009_SER005_FILESNO001.fif) does not conform to MNE naming conventions. All raw files should end with raw.fif, raw_sss.fif, raw_tsss.fif, raw.fif.gz, raw_sss.fif.gz, raw_tsss.fif.gz or _meg.fif\n",
      "  raw.save(fname)\n"
     ]
    },
    {
     "name": "stdout",
     "output_type": "stream",
     "text": [
      "Closing \\\\blur\\ECOABS\\Data\\sub09\\proj\\PROJ0076_SUBJ0009_SER005_FILESNO001.fif\n",
      "[done]\n",
      "sub10\n",
      "Opening raw data file B:\\Data\\sub10\\PROJ0076_SUBJ0010_SER001_FILESNO001.fif...\n",
      "    Read a total of 8 projection items:\n",
      "        grad3v_ssp_upr.fif : PCA-v1 (1 x 306)  idle\n",
      "        grad3v_ssp_upr.fif : PCA-v2 (1 x 306)  idle\n",
      "        grad3v_ssp_upr.fif : PCA-v3 (1 x 306)  idle\n",
      "        mag5v_ssp_upr.fif : PCA-v1 (1 x 306)  idle\n",
      "        mag5v_ssp_upr.fif : PCA-v2 (1 x 306)  idle\n",
      "        mag5v_ssp_upr.fif : PCA-v3 (1 x 306)  idle\n",
      "        mag5v_ssp_upr.fif : PCA-v4 (1 x 306)  idle\n",
      "        mag5v_ssp_upr.fif : PCA-v5 (1 x 306)  idle\n"
     ]
    },
    {
     "name": "stderr",
     "output_type": "stream",
     "text": [
      "<ipython-input-73-967f35f85865>:17: RuntimeWarning: This filename (B:\\Data\\sub10\\PROJ0076_SUBJ0010_SER001_FILESNO001.fif) does not conform to MNE naming conventions. All raw files should end with raw.fif, raw_sss.fif, raw_tsss.fif, raw.fif.gz, raw_sss.fif.gz, raw_tsss.fif.gz or _meg.fif\n",
      "  raw = mne.io.read_raw_fif(f,preload=True)\n"
     ]
    },
    {
     "name": "stdout",
     "output_type": "stream",
     "text": [
      "    Range : 403000 ... 1959999 =    403.000 ...  1959.999 secs\n",
      "Ready.\n",
      "Reading 0 ... 1556999  =      0.000 ...  1556.999 secs...\n"
     ]
    },
    {
     "name": "stderr",
     "output_type": "stream",
     "text": [
      "<ipython-input-73-967f35f85865>:17: DeprecationWarning: The default for on_split_missing is \"warn\" in 0.22 but will change to \"raise\" in 0.23, set it explicitly to avoid this message\n",
      "  raw = mne.io.read_raw_fif(f,preload=True)\n",
      "<ipython-input-73-967f35f85865>:17: RuntimeWarning: Split raw file detected but next file \\\\blur\\ECOABS\\Data\\sub10\\PROJ0076_SUBJ0010_SER001_FILESNO001-1.fif does not exist. Ensure all files were transferred properly and that split and original files were not manually renamed on disk (split files should be renamed by loading and re-saving with MNE-Python to preserve proper filename linkage).\n",
      "  raw = mne.io.read_raw_fif(f,preload=True)\n"
     ]
    },
    {
     "name": "stdout",
     "output_type": "stream",
     "text": [
      "Created an SSP operator (subspace dimension = 3)\n",
      "3 projection items activated\n",
      "SSP projectors applied...\n",
      "Writing \\\\blur\\ECOABS\\Data\\sub10\\proj\\PROJ0076_SUBJ0010_SER001_FILESNO001.fif\n"
     ]
    },
    {
     "name": "stderr",
     "output_type": "stream",
     "text": [
      "<ipython-input-73-967f35f85865>:29: RuntimeWarning: This filename (\\\\blur\\ECOABS\\Data\\sub10\\proj\\PROJ0076_SUBJ0010_SER001_FILESNO001.fif) does not conform to MNE naming conventions. All raw files should end with raw.fif, raw_sss.fif, raw_tsss.fif, raw.fif.gz, raw_sss.fif.gz, raw_tsss.fif.gz or _meg.fif\n",
      "  raw.save(fname)\n"
     ]
    },
    {
     "name": "stdout",
     "output_type": "stream",
     "text": [
      "Closing \\\\blur\\ECOABS\\Data\\sub10\\proj\\PROJ0076_SUBJ0010_SER001_FILESNO001.fif\n",
      "[done]\n",
      "Opening raw data file B:\\Data\\sub10\\PROJ0076_SUBJ0010_SER001_FILESNO002.fif...\n",
      "    Read a total of 8 projection items:\n",
      "        grad3v_ssp_upr.fif : PCA-v1 (1 x 306)  idle\n",
      "        grad3v_ssp_upr.fif : PCA-v2 (1 x 306)  idle\n",
      "        grad3v_ssp_upr.fif : PCA-v3 (1 x 306)  idle\n",
      "        mag5v_ssp_upr.fif : PCA-v1 (1 x 306)  idle\n",
      "        mag5v_ssp_upr.fif : PCA-v2 (1 x 306)  idle\n",
      "        mag5v_ssp_upr.fif : PCA-v3 (1 x 306)  idle\n",
      "        mag5v_ssp_upr.fif : PCA-v4 (1 x 306)  idle\n",
      "        mag5v_ssp_upr.fif : PCA-v5 (1 x 306)  idle\n"
     ]
    },
    {
     "name": "stderr",
     "output_type": "stream",
     "text": [
      "<ipython-input-73-967f35f85865>:17: RuntimeWarning: This filename (B:\\Data\\sub10\\PROJ0076_SUBJ0010_SER001_FILESNO002.fif) does not conform to MNE naming conventions. All raw files should end with raw.fif, raw_sss.fif, raw_tsss.fif, raw.fif.gz, raw_sss.fif.gz, raw_tsss.fif.gz or _meg.fif\n",
      "  raw = mne.io.read_raw_fif(f,preload=True)\n"
     ]
    },
    {
     "name": "stdout",
     "output_type": "stream",
     "text": [
      "    Range : 1960000 ... 1972999 =   1960.000 ...  1972.999 secs\n",
      "Ready.\n",
      "Reading 0 ... 12999  =      0.000 ...    12.999 secs...\n",
      "Created an SSP operator (subspace dimension = 3)\n",
      "3 projection items activated\n",
      "SSP projectors applied...\n",
      "Writing \\\\blur\\ECOABS\\Data\\sub10\\proj\\PROJ0076_SUBJ0010_SER001_FILESNO002.fif\n"
     ]
    },
    {
     "name": "stderr",
     "output_type": "stream",
     "text": [
      "<ipython-input-73-967f35f85865>:29: RuntimeWarning: This filename (\\\\blur\\ECOABS\\Data\\sub10\\proj\\PROJ0076_SUBJ0010_SER001_FILESNO002.fif) does not conform to MNE naming conventions. All raw files should end with raw.fif, raw_sss.fif, raw_tsss.fif, raw.fif.gz, raw_sss.fif.gz, raw_tsss.fif.gz or _meg.fif\n",
      "  raw.save(fname)\n"
     ]
    },
    {
     "name": "stdout",
     "output_type": "stream",
     "text": [
      "Closing \\\\blur\\ECOABS\\Data\\sub10\\proj\\PROJ0076_SUBJ0010_SER001_FILESNO002.fif\n",
      "[done]\n",
      "Opening raw data file B:\\Data\\sub10\\PROJ0076_SUBJ0010_SER002_FILESNO001.fif...\n"
     ]
    },
    {
     "name": "stderr",
     "output_type": "stream",
     "text": [
      "<ipython-input-73-967f35f85865>:17: RuntimeWarning: This filename (B:\\Data\\sub10\\PROJ0076_SUBJ0010_SER002_FILESNO001.fif) does not conform to MNE naming conventions. All raw files should end with raw.fif, raw_sss.fif, raw_tsss.fif, raw.fif.gz, raw_sss.fif.gz, raw_tsss.fif.gz or _meg.fif\n",
      "  raw = mne.io.read_raw_fif(f,preload=True)\n"
     ]
    },
    {
     "name": "stdout",
     "output_type": "stream",
     "text": [
      "    Read a total of 8 projection items:\n",
      "        grad3v_ssp_upr.fif : PCA-v1 (1 x 306)  idle\n",
      "        grad3v_ssp_upr.fif : PCA-v2 (1 x 306)  idle\n",
      "        grad3v_ssp_upr.fif : PCA-v3 (1 x 306)  idle\n",
      "        mag5v_ssp_upr.fif : PCA-v1 (1 x 306)  idle\n",
      "        mag5v_ssp_upr.fif : PCA-v2 (1 x 306)  idle\n",
      "        mag5v_ssp_upr.fif : PCA-v3 (1 x 306)  idle\n",
      "        mag5v_ssp_upr.fif : PCA-v4 (1 x 306)  idle\n",
      "        mag5v_ssp_upr.fif : PCA-v5 (1 x 306)  idle\n",
      "    Range : 97000 ... 735999 =     97.000 ...   735.999 secs\n",
      "Ready.\n",
      "Reading 0 ... 638999  =      0.000 ...   638.999 secs...\n",
      "Created an SSP operator (subspace dimension = 3)\n",
      "3 projection items activated\n",
      "SSP projectors applied...\n",
      "Writing \\\\blur\\ECOABS\\Data\\sub10\\proj\\PROJ0076_SUBJ0010_SER002_FILESNO001.fif\n"
     ]
    },
    {
     "name": "stderr",
     "output_type": "stream",
     "text": [
      "<ipython-input-73-967f35f85865>:29: RuntimeWarning: This filename (\\\\blur\\ECOABS\\Data\\sub10\\proj\\PROJ0076_SUBJ0010_SER002_FILESNO001.fif) does not conform to MNE naming conventions. All raw files should end with raw.fif, raw_sss.fif, raw_tsss.fif, raw.fif.gz, raw_sss.fif.gz, raw_tsss.fif.gz or _meg.fif\n",
      "  raw.save(fname)\n"
     ]
    },
    {
     "name": "stdout",
     "output_type": "stream",
     "text": [
      "Closing \\\\blur\\ECOABS\\Data\\sub10\\proj\\PROJ0076_SUBJ0010_SER002_FILESNO001.fif\n",
      "[done]\n",
      "Opening raw data file B:\\Data\\sub10\\PROJ0076_SUBJ0010_SER003_FILESNO001.fif...\n",
      "    Read a total of 8 projection items:\n",
      "        grad3v_ssp_upr.fif : PCA-v1 (1 x 306)  idle\n",
      "        grad3v_ssp_upr.fif : PCA-v2 (1 x 306)  idle\n",
      "        grad3v_ssp_upr.fif : PCA-v3 (1 x 306)  idle\n",
      "        mag5v_ssp_upr.fif : PCA-v1 (1 x 306)  idle\n",
      "        mag5v_ssp_upr.fif : PCA-v2 (1 x 306)  idle\n",
      "        mag5v_ssp_upr.fif : PCA-v3 (1 x 306)  idle\n",
      "        mag5v_ssp_upr.fif : PCA-v4 (1 x 306)  idle\n",
      "        mag5v_ssp_upr.fif : PCA-v5 (1 x 306)  idle\n"
     ]
    },
    {
     "name": "stderr",
     "output_type": "stream",
     "text": [
      "<ipython-input-73-967f35f85865>:17: RuntimeWarning: This filename (B:\\Data\\sub10\\PROJ0076_SUBJ0010_SER003_FILESNO001.fif) does not conform to MNE naming conventions. All raw files should end with raw.fif, raw_sss.fif, raw_tsss.fif, raw.fif.gz, raw_sss.fif.gz, raw_tsss.fif.gz or _meg.fif\n",
      "  raw = mne.io.read_raw_fif(f,preload=True)\n"
     ]
    },
    {
     "name": "stdout",
     "output_type": "stream",
     "text": [
      "    Range : 114000 ... 747999 =    114.000 ...   747.999 secs\n",
      "Ready.\n",
      "Reading 0 ... 633999  =      0.000 ...   633.999 secs...\n",
      "Created an SSP operator (subspace dimension = 3)\n",
      "3 projection items activated\n",
      "SSP projectors applied...\n",
      "Writing \\\\blur\\ECOABS\\Data\\sub10\\proj\\PROJ0076_SUBJ0010_SER003_FILESNO001.fif\n"
     ]
    },
    {
     "name": "stderr",
     "output_type": "stream",
     "text": [
      "<ipython-input-73-967f35f85865>:29: RuntimeWarning: This filename (\\\\blur\\ECOABS\\Data\\sub10\\proj\\PROJ0076_SUBJ0010_SER003_FILESNO001.fif) does not conform to MNE naming conventions. All raw files should end with raw.fif, raw_sss.fif, raw_tsss.fif, raw.fif.gz, raw_sss.fif.gz, raw_tsss.fif.gz or _meg.fif\n",
      "  raw.save(fname)\n"
     ]
    },
    {
     "name": "stdout",
     "output_type": "stream",
     "text": [
      "Closing \\\\blur\\ECOABS\\Data\\sub10\\proj\\PROJ0076_SUBJ0010_SER003_FILESNO001.fif\n",
      "[done]\n",
      "Opening raw data file B:\\Data\\sub10\\PROJ0076_SUBJ0010_SER004_FILESNO001.fif...\n",
      "    Read a total of 8 projection items:\n",
      "        grad3v_ssp_upr.fif : PCA-v1 (1 x 306)  idle\n",
      "        grad3v_ssp_upr.fif : PCA-v2 (1 x 306)  idle\n",
      "        grad3v_ssp_upr.fif : PCA-v3 (1 x 306)  idle\n",
      "        mag5v_ssp_upr.fif : PCA-v1 (1 x 306)  idle\n",
      "        mag5v_ssp_upr.fif : PCA-v2 (1 x 306)  idle\n",
      "        mag5v_ssp_upr.fif : PCA-v3 (1 x 306)  idle\n",
      "        mag5v_ssp_upr.fif : PCA-v4 (1 x 306)  idle\n",
      "        mag5v_ssp_upr.fif : PCA-v5 (1 x 306)  idle\n"
     ]
    },
    {
     "name": "stderr",
     "output_type": "stream",
     "text": [
      "<ipython-input-73-967f35f85865>:17: RuntimeWarning: This filename (B:\\Data\\sub10\\PROJ0076_SUBJ0010_SER004_FILESNO001.fif) does not conform to MNE naming conventions. All raw files should end with raw.fif, raw_sss.fif, raw_tsss.fif, raw.fif.gz, raw_sss.fif.gz, raw_tsss.fif.gz or _meg.fif\n",
      "  raw = mne.io.read_raw_fif(f,preload=True)\n"
     ]
    },
    {
     "name": "stdout",
     "output_type": "stream",
     "text": [
      "    Range : 116000 ... 739999 =    116.000 ...   739.999 secs\n",
      "Ready.\n",
      "Reading 0 ... 623999  =      0.000 ...   623.999 secs...\n",
      "Created an SSP operator (subspace dimension = 3)\n",
      "3 projection items activated\n",
      "SSP projectors applied...\n",
      "Writing \\\\blur\\ECOABS\\Data\\sub10\\proj\\PROJ0076_SUBJ0010_SER004_FILESNO001.fif\n"
     ]
    },
    {
     "name": "stderr",
     "output_type": "stream",
     "text": [
      "<ipython-input-73-967f35f85865>:29: RuntimeWarning: This filename (\\\\blur\\ECOABS\\Data\\sub10\\proj\\PROJ0076_SUBJ0010_SER004_FILESNO001.fif) does not conform to MNE naming conventions. All raw files should end with raw.fif, raw_sss.fif, raw_tsss.fif, raw.fif.gz, raw_sss.fif.gz, raw_tsss.fif.gz or _meg.fif\n",
      "  raw.save(fname)\n"
     ]
    },
    {
     "name": "stdout",
     "output_type": "stream",
     "text": [
      "Closing \\\\blur\\ECOABS\\Data\\sub10\\proj\\PROJ0076_SUBJ0010_SER004_FILESNO001.fif\n",
      "[done]\n",
      "Opening raw data file B:\\Data\\sub10\\PROJ0076_SUBJ0010_SER005_FILESNO001.fif...\n",
      "    Read a total of 8 projection items:\n",
      "        grad3v_ssp_upr.fif : PCA-v1 (1 x 306)  idle\n",
      "        grad3v_ssp_upr.fif : PCA-v2 (1 x 306)  idle\n",
      "        grad3v_ssp_upr.fif : PCA-v3 (1 x 306)  idle\n",
      "        mag5v_ssp_upr.fif : PCA-v1 (1 x 306)  idle\n",
      "        mag5v_ssp_upr.fif : PCA-v2 (1 x 306)  idle\n",
      "        mag5v_ssp_upr.fif : PCA-v3 (1 x 306)  idle\n",
      "        mag5v_ssp_upr.fif : PCA-v4 (1 x 306)  idle\n",
      "        mag5v_ssp_upr.fif : PCA-v5 (1 x 306)  idle\n"
     ]
    },
    {
     "name": "stderr",
     "output_type": "stream",
     "text": [
      "<ipython-input-73-967f35f85865>:17: RuntimeWarning: This filename (B:\\Data\\sub10\\PROJ0076_SUBJ0010_SER005_FILESNO001.fif) does not conform to MNE naming conventions. All raw files should end with raw.fif, raw_sss.fif, raw_tsss.fif, raw.fif.gz, raw_sss.fif.gz, raw_tsss.fif.gz or _meg.fif\n",
      "  raw = mne.io.read_raw_fif(f,preload=True)\n"
     ]
    },
    {
     "name": "stdout",
     "output_type": "stream",
     "text": [
      "    Range : 88000 ... 720999 =     88.000 ...   720.999 secs\n",
      "Ready.\n",
      "Reading 0 ... 632999  =      0.000 ...   632.999 secs...\n",
      "Created an SSP operator (subspace dimension = 3)\n",
      "3 projection items activated\n",
      "SSP projectors applied...\n",
      "Writing \\\\blur\\ECOABS\\Data\\sub10\\proj\\PROJ0076_SUBJ0010_SER005_FILESNO001.fif\n"
     ]
    },
    {
     "name": "stderr",
     "output_type": "stream",
     "text": [
      "<ipython-input-73-967f35f85865>:29: RuntimeWarning: This filename (\\\\blur\\ECOABS\\Data\\sub10\\proj\\PROJ0076_SUBJ0010_SER005_FILESNO001.fif) does not conform to MNE naming conventions. All raw files should end with raw.fif, raw_sss.fif, raw_tsss.fif, raw.fif.gz, raw_sss.fif.gz, raw_tsss.fif.gz or _meg.fif\n",
      "  raw.save(fname)\n"
     ]
    },
    {
     "name": "stdout",
     "output_type": "stream",
     "text": [
      "Closing \\\\blur\\ECOABS\\Data\\sub10\\proj\\PROJ0076_SUBJ0010_SER005_FILESNO001.fif\n",
      "[done]\n",
      "sub12\n",
      "Opening raw data file B:\\Data\\sub12\\PROJ0076_SUBJ0012_SER001_FILESNO001.fif...\n",
      "    Read a total of 8 projection items:\n",
      "        grad3v_ssp_upr.fif : PCA-v1 (1 x 306)  idle\n",
      "        grad3v_ssp_upr.fif : PCA-v2 (1 x 306)  idle\n",
      "        grad3v_ssp_upr.fif : PCA-v3 (1 x 306)  idle\n",
      "        mag5v_ssp_upr.fif : PCA-v1 (1 x 306)  idle\n",
      "        mag5v_ssp_upr.fif : PCA-v2 (1 x 306)  idle\n",
      "        mag5v_ssp_upr.fif : PCA-v3 (1 x 306)  idle\n",
      "        mag5v_ssp_upr.fif : PCA-v4 (1 x 306)  idle\n",
      "        mag5v_ssp_upr.fif : PCA-v5 (1 x 306)  idle\n"
     ]
    },
    {
     "name": "stderr",
     "output_type": "stream",
     "text": [
      "<ipython-input-73-967f35f85865>:17: RuntimeWarning: This filename (B:\\Data\\sub12\\PROJ0076_SUBJ0012_SER001_FILESNO001.fif) does not conform to MNE naming conventions. All raw files should end with raw.fif, raw_sss.fif, raw_tsss.fif, raw.fif.gz, raw_sss.fif.gz, raw_tsss.fif.gz or _meg.fif\n",
      "  raw = mne.io.read_raw_fif(f,preload=True)\n"
     ]
    },
    {
     "name": "stdout",
     "output_type": "stream",
     "text": [
      "    Range : 340000 ... 1843999 =    340.000 ...  1843.999 secs\n",
      "Ready.\n",
      "Reading 0 ... 1503999  =      0.000 ...  1503.999 secs...\n",
      "Created an SSP operator (subspace dimension = 3)\n",
      "3 projection items activated\n",
      "SSP projectors applied...\n",
      "Writing \\\\blur\\ECOABS\\Data\\sub12\\proj\\PROJ0076_SUBJ0012_SER001_FILESNO001.fif\n"
     ]
    },
    {
     "name": "stderr",
     "output_type": "stream",
     "text": [
      "<ipython-input-73-967f35f85865>:29: RuntimeWarning: This filename (\\\\blur\\ECOABS\\Data\\sub12\\proj\\PROJ0076_SUBJ0012_SER001_FILESNO001.fif) does not conform to MNE naming conventions. All raw files should end with raw.fif, raw_sss.fif, raw_tsss.fif, raw.fif.gz, raw_sss.fif.gz, raw_tsss.fif.gz or _meg.fif\n",
      "  raw.save(fname)\n"
     ]
    },
    {
     "name": "stdout",
     "output_type": "stream",
     "text": [
      "Closing \\\\blur\\ECOABS\\Data\\sub12\\proj\\PROJ0076_SUBJ0012_SER001_FILESNO001.fif\n",
      "[done]\n",
      "Opening raw data file B:\\Data\\sub12\\PROJ0076_SUBJ0012_SER002_FILESNO001.fif...\n",
      "    Read a total of 8 projection items:\n",
      "        grad3v_ssp_upr.fif : PCA-v1 (1 x 306)  idle\n",
      "        grad3v_ssp_upr.fif : PCA-v2 (1 x 306)  idle\n",
      "        grad3v_ssp_upr.fif : PCA-v3 (1 x 306)  idle\n",
      "        mag5v_ssp_upr.fif : PCA-v1 (1 x 306)  idle\n",
      "        mag5v_ssp_upr.fif : PCA-v2 (1 x 306)  idle\n",
      "        mag5v_ssp_upr.fif : PCA-v3 (1 x 306)  idle\n",
      "        mag5v_ssp_upr.fif : PCA-v4 (1 x 306)  idle\n",
      "        mag5v_ssp_upr.fif : PCA-v5 (1 x 306)  idle\n"
     ]
    },
    {
     "name": "stderr",
     "output_type": "stream",
     "text": [
      "<ipython-input-73-967f35f85865>:17: RuntimeWarning: This filename (B:\\Data\\sub12\\PROJ0076_SUBJ0012_SER002_FILESNO001.fif) does not conform to MNE naming conventions. All raw files should end with raw.fif, raw_sss.fif, raw_tsss.fif, raw.fif.gz, raw_sss.fif.gz, raw_tsss.fif.gz or _meg.fif\n",
      "  raw = mne.io.read_raw_fif(f,preload=True)\n"
     ]
    },
    {
     "name": "stdout",
     "output_type": "stream",
     "text": [
      "    Range : 364000 ... 1049999 =    364.000 ...  1049.999 secs\n",
      "Ready.\n",
      "Reading 0 ... 685999  =      0.000 ...   685.999 secs...\n",
      "Created an SSP operator (subspace dimension = 3)\n",
      "3 projection items activated\n",
      "SSP projectors applied...\n",
      "Writing \\\\blur\\ECOABS\\Data\\sub12\\proj\\PROJ0076_SUBJ0012_SER002_FILESNO001.fif\n"
     ]
    },
    {
     "name": "stderr",
     "output_type": "stream",
     "text": [
      "<ipython-input-73-967f35f85865>:29: RuntimeWarning: This filename (\\\\blur\\ECOABS\\Data\\sub12\\proj\\PROJ0076_SUBJ0012_SER002_FILESNO001.fif) does not conform to MNE naming conventions. All raw files should end with raw.fif, raw_sss.fif, raw_tsss.fif, raw.fif.gz, raw_sss.fif.gz, raw_tsss.fif.gz or _meg.fif\n",
      "  raw.save(fname)\n"
     ]
    },
    {
     "name": "stdout",
     "output_type": "stream",
     "text": [
      "Closing \\\\blur\\ECOABS\\Data\\sub12\\proj\\PROJ0076_SUBJ0012_SER002_FILESNO001.fif\n",
      "[done]\n",
      "Opening raw data file B:\\Data\\sub12\\PROJ0076_SUBJ0012_SER003_FILESNO001.fif...\n",
      "    Read a total of 8 projection items:\n",
      "        grad3v_ssp_upr.fif : PCA-v1 (1 x 306)  idle\n",
      "        grad3v_ssp_upr.fif : PCA-v2 (1 x 306)  idle\n",
      "        grad3v_ssp_upr.fif : PCA-v3 (1 x 306)  idle\n",
      "        mag5v_ssp_upr.fif : PCA-v1 (1 x 306)  idle\n",
      "        mag5v_ssp_upr.fif : PCA-v2 (1 x 306)  idle\n",
      "        mag5v_ssp_upr.fif : PCA-v3 (1 x 306)  idle\n",
      "        mag5v_ssp_upr.fif : PCA-v4 (1 x 306)  idle\n",
      "        mag5v_ssp_upr.fif : PCA-v5 (1 x 306)  idle\n",
      "    Range : 103000 ... 764999 =    103.000 ...   764.999 secs\n"
     ]
    },
    {
     "name": "stderr",
     "output_type": "stream",
     "text": [
      "<ipython-input-73-967f35f85865>:17: RuntimeWarning: This filename (B:\\Data\\sub12\\PROJ0076_SUBJ0012_SER003_FILESNO001.fif) does not conform to MNE naming conventions. All raw files should end with raw.fif, raw_sss.fif, raw_tsss.fif, raw.fif.gz, raw_sss.fif.gz, raw_tsss.fif.gz or _meg.fif\n",
      "  raw = mne.io.read_raw_fif(f,preload=True)\n"
     ]
    },
    {
     "name": "stdout",
     "output_type": "stream",
     "text": [
      "Ready.\n",
      "Reading 0 ... 661999  =      0.000 ...   661.999 secs...\n",
      "Created an SSP operator (subspace dimension = 3)\n",
      "3 projection items activated\n",
      "SSP projectors applied...\n",
      "Writing \\\\blur\\ECOABS\\Data\\sub12\\proj\\PROJ0076_SUBJ0012_SER003_FILESNO001.fif\n"
     ]
    },
    {
     "name": "stderr",
     "output_type": "stream",
     "text": [
      "<ipython-input-73-967f35f85865>:29: RuntimeWarning: This filename (\\\\blur\\ECOABS\\Data\\sub12\\proj\\PROJ0076_SUBJ0012_SER003_FILESNO001.fif) does not conform to MNE naming conventions. All raw files should end with raw.fif, raw_sss.fif, raw_tsss.fif, raw.fif.gz, raw_sss.fif.gz, raw_tsss.fif.gz or _meg.fif\n",
      "  raw.save(fname)\n"
     ]
    },
    {
     "name": "stdout",
     "output_type": "stream",
     "text": [
      "Closing \\\\blur\\ECOABS\\Data\\sub12\\proj\\PROJ0076_SUBJ0012_SER003_FILESNO001.fif\n",
      "[done]\n",
      "Opening raw data file B:\\Data\\sub12\\PROJ0076_SUBJ0012_SER004_FILESNO001.fif...\n"
     ]
    },
    {
     "name": "stderr",
     "output_type": "stream",
     "text": [
      "<ipython-input-73-967f35f85865>:17: RuntimeWarning: This filename (B:\\Data\\sub12\\PROJ0076_SUBJ0012_SER004_FILESNO001.fif) does not conform to MNE naming conventions. All raw files should end with raw.fif, raw_sss.fif, raw_tsss.fif, raw.fif.gz, raw_sss.fif.gz, raw_tsss.fif.gz or _meg.fif\n",
      "  raw = mne.io.read_raw_fif(f,preload=True)\n"
     ]
    },
    {
     "name": "stdout",
     "output_type": "stream",
     "text": [
      "    Read a total of 8 projection items:\n",
      "        grad3v_ssp_upr.fif : PCA-v1 (1 x 306)  idle\n",
      "        grad3v_ssp_upr.fif : PCA-v2 (1 x 306)  idle\n",
      "        grad3v_ssp_upr.fif : PCA-v3 (1 x 306)  idle\n",
      "        mag5v_ssp_upr.fif : PCA-v1 (1 x 306)  idle\n",
      "        mag5v_ssp_upr.fif : PCA-v2 (1 x 306)  idle\n",
      "        mag5v_ssp_upr.fif : PCA-v3 (1 x 306)  idle\n",
      "        mag5v_ssp_upr.fif : PCA-v4 (1 x 306)  idle\n",
      "        mag5v_ssp_upr.fif : PCA-v5 (1 x 306)  idle\n",
      "    Range : 79000 ... 712999 =     79.000 ...   712.999 secs\n",
      "Ready.\n",
      "Reading 0 ... 633999  =      0.000 ...   633.999 secs...\n",
      "Created an SSP operator (subspace dimension = 3)\n",
      "3 projection items activated\n",
      "SSP projectors applied...\n",
      "Writing \\\\blur\\ECOABS\\Data\\sub12\\proj\\PROJ0076_SUBJ0012_SER004_FILESNO001.fif\n"
     ]
    },
    {
     "name": "stderr",
     "output_type": "stream",
     "text": [
      "<ipython-input-73-967f35f85865>:29: RuntimeWarning: This filename (\\\\blur\\ECOABS\\Data\\sub12\\proj\\PROJ0076_SUBJ0012_SER004_FILESNO001.fif) does not conform to MNE naming conventions. All raw files should end with raw.fif, raw_sss.fif, raw_tsss.fif, raw.fif.gz, raw_sss.fif.gz, raw_tsss.fif.gz or _meg.fif\n",
      "  raw.save(fname)\n"
     ]
    },
    {
     "name": "stdout",
     "output_type": "stream",
     "text": [
      "Closing \\\\blur\\ECOABS\\Data\\sub12\\proj\\PROJ0076_SUBJ0012_SER004_FILESNO001.fif\n",
      "[done]\n",
      "Opening raw data file B:\\Data\\sub12\\PROJ0076_SUBJ0012_SER005_FILESNO001.fif...\n",
      "    Read a total of 8 projection items:\n",
      "        grad3v_ssp_upr.fif : PCA-v1 (1 x 306)  idle\n",
      "        grad3v_ssp_upr.fif : PCA-v2 (1 x 306)  idle\n",
      "        grad3v_ssp_upr.fif : PCA-v3 (1 x 306)  idle\n",
      "        mag5v_ssp_upr.fif : PCA-v1 (1 x 306)  idle\n",
      "        mag5v_ssp_upr.fif : PCA-v2 (1 x 306)  idle\n",
      "        mag5v_ssp_upr.fif : PCA-v3 (1 x 306)  idle\n",
      "        mag5v_ssp_upr.fif : PCA-v4 (1 x 306)  idle\n",
      "        mag5v_ssp_upr.fif : PCA-v5 (1 x 306)  idle\n"
     ]
    },
    {
     "name": "stderr",
     "output_type": "stream",
     "text": [
      "<ipython-input-73-967f35f85865>:17: RuntimeWarning: This filename (B:\\Data\\sub12\\PROJ0076_SUBJ0012_SER005_FILESNO001.fif) does not conform to MNE naming conventions. All raw files should end with raw.fif, raw_sss.fif, raw_tsss.fif, raw.fif.gz, raw_sss.fif.gz, raw_tsss.fif.gz or _meg.fif\n",
      "  raw = mne.io.read_raw_fif(f,preload=True)\n"
     ]
    },
    {
     "name": "stdout",
     "output_type": "stream",
     "text": [
      "    Range : 54000 ... 705999 =     54.000 ...   705.999 secs\n",
      "Ready.\n",
      "Reading 0 ... 651999  =      0.000 ...   651.999 secs...\n",
      "Created an SSP operator (subspace dimension = 3)\n",
      "3 projection items activated\n",
      "SSP projectors applied...\n",
      "Writing \\\\blur\\ECOABS\\Data\\sub12\\proj\\PROJ0076_SUBJ0012_SER005_FILESNO001.fif\n"
     ]
    },
    {
     "name": "stderr",
     "output_type": "stream",
     "text": [
      "<ipython-input-73-967f35f85865>:29: RuntimeWarning: This filename (\\\\blur\\ECOABS\\Data\\sub12\\proj\\PROJ0076_SUBJ0012_SER005_FILESNO001.fif) does not conform to MNE naming conventions. All raw files should end with raw.fif, raw_sss.fif, raw_tsss.fif, raw.fif.gz, raw_sss.fif.gz, raw_tsss.fif.gz or _meg.fif\n",
      "  raw.save(fname)\n"
     ]
    },
    {
     "name": "stdout",
     "output_type": "stream",
     "text": [
      "Closing \\\\blur\\ECOABS\\Data\\sub12\\proj\\PROJ0076_SUBJ0012_SER005_FILESNO001.fif\n",
      "[done]\n",
      "sub13\n",
      "Opening raw data file B:\\Data\\sub13\\PROJ0076_SUBJ0013_SER001_FILESNO001.fif...\n",
      "    Read a total of 8 projection items:\n",
      "        grad3v_ssp_upr.fif : PCA-v1 (1 x 306)  idle\n",
      "        grad3v_ssp_upr.fif : PCA-v2 (1 x 306)  idle\n",
      "        grad3v_ssp_upr.fif : PCA-v3 (1 x 306)  idle\n",
      "        mag5v_ssp_upr.fif : PCA-v1 (1 x 306)  idle\n",
      "        mag5v_ssp_upr.fif : PCA-v2 (1 x 306)  idle\n",
      "        mag5v_ssp_upr.fif : PCA-v3 (1 x 306)  idle\n",
      "        mag5v_ssp_upr.fif : PCA-v4 (1 x 306)  idle\n",
      "        mag5v_ssp_upr.fif : PCA-v5 (1 x 306)  idle\n"
     ]
    },
    {
     "name": "stderr",
     "output_type": "stream",
     "text": [
      "<ipython-input-73-967f35f85865>:17: RuntimeWarning: This filename (B:\\Data\\sub13\\PROJ0076_SUBJ0013_SER001_FILESNO001.fif) does not conform to MNE naming conventions. All raw files should end with raw.fif, raw_sss.fif, raw_tsss.fif, raw.fif.gz, raw_sss.fif.gz, raw_tsss.fif.gz or _meg.fif\n",
      "  raw = mne.io.read_raw_fif(f,preload=True)\n"
     ]
    },
    {
     "name": "stdout",
     "output_type": "stream",
     "text": [
      "    Range : 693000 ... 2246999 =    693.000 ...  2246.999 secs\n",
      "Ready.\n",
      "Reading 0 ... 1553999  =      0.000 ...  1553.999 secs...\n",
      "Created an SSP operator (subspace dimension = 3)\n",
      "3 projection items activated\n",
      "SSP projectors applied...\n",
      "Writing \\\\blur\\ECOABS\\Data\\sub13\\proj\\PROJ0076_SUBJ0013_SER001_FILESNO001.fif\n"
     ]
    },
    {
     "name": "stderr",
     "output_type": "stream",
     "text": [
      "<ipython-input-73-967f35f85865>:29: RuntimeWarning: This filename (\\\\blur\\ECOABS\\Data\\sub13\\proj\\PROJ0076_SUBJ0013_SER001_FILESNO001.fif) does not conform to MNE naming conventions. All raw files should end with raw.fif, raw_sss.fif, raw_tsss.fif, raw.fif.gz, raw_sss.fif.gz, raw_tsss.fif.gz or _meg.fif\n",
      "  raw.save(fname)\n"
     ]
    },
    {
     "name": "stdout",
     "output_type": "stream",
     "text": [
      "Closing \\\\blur\\ECOABS\\Data\\sub13\\proj\\PROJ0076_SUBJ0013_SER001_FILESNO001.fif\n",
      "[done]\n",
      "Opening raw data file B:\\Data\\sub13\\PROJ0076_SUBJ0013_SER002_FILESNO001.fif...\n",
      "    Read a total of 8 projection items:\n",
      "        grad3v_ssp_upr.fif : PCA-v1 (1 x 306)  idle\n",
      "        grad3v_ssp_upr.fif : PCA-v2 (1 x 306)  idle\n",
      "        grad3v_ssp_upr.fif : PCA-v3 (1 x 306)  idle\n",
      "        mag5v_ssp_upr.fif : PCA-v1 (1 x 306)  idle\n",
      "        mag5v_ssp_upr.fif : PCA-v2 (1 x 306)  idle\n",
      "        mag5v_ssp_upr.fif : PCA-v3 (1 x 306)  idle\n",
      "        mag5v_ssp_upr.fif : PCA-v4 (1 x 306)  idle\n",
      "        mag5v_ssp_upr.fif : PCA-v5 (1 x 306)  idle\n"
     ]
    },
    {
     "name": "stderr",
     "output_type": "stream",
     "text": [
      "<ipython-input-73-967f35f85865>:17: RuntimeWarning: This filename (B:\\Data\\sub13\\PROJ0076_SUBJ0013_SER002_FILESNO001.fif) does not conform to MNE naming conventions. All raw files should end with raw.fif, raw_sss.fif, raw_tsss.fif, raw.fif.gz, raw_sss.fif.gz, raw_tsss.fif.gz or _meg.fif\n",
      "  raw = mne.io.read_raw_fif(f,preload=True)\n"
     ]
    },
    {
     "name": "stdout",
     "output_type": "stream",
     "text": [
      "    Range : 157000 ... 813999 =    157.000 ...   813.999 secs\n",
      "Ready.\n",
      "Reading 0 ... 656999  =      0.000 ...   656.999 secs...\n",
      "Created an SSP operator (subspace dimension = 3)\n",
      "3 projection items activated\n",
      "SSP projectors applied...\n",
      "Writing \\\\blur\\ECOABS\\Data\\sub13\\proj\\PROJ0076_SUBJ0013_SER002_FILESNO001.fif\n"
     ]
    },
    {
     "name": "stderr",
     "output_type": "stream",
     "text": [
      "<ipython-input-73-967f35f85865>:29: RuntimeWarning: This filename (\\\\blur\\ECOABS\\Data\\sub13\\proj\\PROJ0076_SUBJ0013_SER002_FILESNO001.fif) does not conform to MNE naming conventions. All raw files should end with raw.fif, raw_sss.fif, raw_tsss.fif, raw.fif.gz, raw_sss.fif.gz, raw_tsss.fif.gz or _meg.fif\n",
      "  raw.save(fname)\n"
     ]
    },
    {
     "name": "stdout",
     "output_type": "stream",
     "text": [
      "Closing \\\\blur\\ECOABS\\Data\\sub13\\proj\\PROJ0076_SUBJ0013_SER002_FILESNO001.fif\n",
      "[done]\n",
      "Opening raw data file B:\\Data\\sub13\\PROJ0076_SUBJ0013_SER003_FILESNO001.fif...\n",
      "    Read a total of 8 projection items:\n",
      "        grad3v_ssp_upr.fif : PCA-v1 (1 x 306)  idle\n",
      "        grad3v_ssp_upr.fif : PCA-v2 (1 x 306)  idle\n",
      "        grad3v_ssp_upr.fif : PCA-v3 (1 x 306)  idle\n",
      "        mag5v_ssp_upr.fif : PCA-v1 (1 x 306)  idle\n",
      "        mag5v_ssp_upr.fif : PCA-v2 (1 x 306)  idle\n",
      "        mag5v_ssp_upr.fif : PCA-v3 (1 x 306)  idle\n",
      "        mag5v_ssp_upr.fif : PCA-v4 (1 x 306)  idle\n",
      "        mag5v_ssp_upr.fif : PCA-v5 (1 x 306)  idle\n",
      "    Range : 133000 ... 799999 =    133.000 ...   799.999 secs\n"
     ]
    },
    {
     "name": "stderr",
     "output_type": "stream",
     "text": [
      "<ipython-input-73-967f35f85865>:17: RuntimeWarning: This filename (B:\\Data\\sub13\\PROJ0076_SUBJ0013_SER003_FILESNO001.fif) does not conform to MNE naming conventions. All raw files should end with raw.fif, raw_sss.fif, raw_tsss.fif, raw.fif.gz, raw_sss.fif.gz, raw_tsss.fif.gz or _meg.fif\n",
      "  raw = mne.io.read_raw_fif(f,preload=True)\n"
     ]
    },
    {
     "name": "stdout",
     "output_type": "stream",
     "text": [
      "Ready.\n",
      "Reading 0 ... 666999  =      0.000 ...   666.999 secs...\n",
      "Created an SSP operator (subspace dimension = 3)\n",
      "3 projection items activated\n",
      "SSP projectors applied...\n",
      "Writing \\\\blur\\ECOABS\\Data\\sub13\\proj\\PROJ0076_SUBJ0013_SER003_FILESNO001.fif\n"
     ]
    },
    {
     "name": "stderr",
     "output_type": "stream",
     "text": [
      "<ipython-input-73-967f35f85865>:29: RuntimeWarning: This filename (\\\\blur\\ECOABS\\Data\\sub13\\proj\\PROJ0076_SUBJ0013_SER003_FILESNO001.fif) does not conform to MNE naming conventions. All raw files should end with raw.fif, raw_sss.fif, raw_tsss.fif, raw.fif.gz, raw_sss.fif.gz, raw_tsss.fif.gz or _meg.fif\n",
      "  raw.save(fname)\n"
     ]
    },
    {
     "name": "stdout",
     "output_type": "stream",
     "text": [
      "Closing \\\\blur\\ECOABS\\Data\\sub13\\proj\\PROJ0076_SUBJ0013_SER003_FILESNO001.fif\n",
      "[done]\n",
      "Opening raw data file B:\\Data\\sub13\\PROJ0076_SUBJ0013_SER004_FILESNO001.fif...\n"
     ]
    },
    {
     "name": "stderr",
     "output_type": "stream",
     "text": [
      "<ipython-input-73-967f35f85865>:17: RuntimeWarning: This filename (B:\\Data\\sub13\\PROJ0076_SUBJ0013_SER004_FILESNO001.fif) does not conform to MNE naming conventions. All raw files should end with raw.fif, raw_sss.fif, raw_tsss.fif, raw.fif.gz, raw_sss.fif.gz, raw_tsss.fif.gz or _meg.fif\n",
      "  raw = mne.io.read_raw_fif(f,preload=True)\n"
     ]
    },
    {
     "name": "stdout",
     "output_type": "stream",
     "text": [
      "    Read a total of 8 projection items:\n",
      "        grad3v_ssp_upr.fif : PCA-v1 (1 x 306)  idle\n",
      "        grad3v_ssp_upr.fif : PCA-v2 (1 x 306)  idle\n",
      "        grad3v_ssp_upr.fif : PCA-v3 (1 x 306)  idle\n",
      "        mag5v_ssp_upr.fif : PCA-v1 (1 x 306)  idle\n",
      "        mag5v_ssp_upr.fif : PCA-v2 (1 x 306)  idle\n",
      "        mag5v_ssp_upr.fif : PCA-v3 (1 x 306)  idle\n",
      "        mag5v_ssp_upr.fif : PCA-v4 (1 x 306)  idle\n",
      "        mag5v_ssp_upr.fif : PCA-v5 (1 x 306)  idle\n",
      "    Range : 79000 ... 745999 =     79.000 ...   745.999 secs\n",
      "Ready.\n",
      "Reading 0 ... 666999  =      0.000 ...   666.999 secs...\n",
      "Created an SSP operator (subspace dimension = 3)\n",
      "3 projection items activated\n",
      "SSP projectors applied...\n",
      "Writing \\\\blur\\ECOABS\\Data\\sub13\\proj\\PROJ0076_SUBJ0013_SER004_FILESNO001.fif\n"
     ]
    },
    {
     "name": "stderr",
     "output_type": "stream",
     "text": [
      "<ipython-input-73-967f35f85865>:29: RuntimeWarning: This filename (\\\\blur\\ECOABS\\Data\\sub13\\proj\\PROJ0076_SUBJ0013_SER004_FILESNO001.fif) does not conform to MNE naming conventions. All raw files should end with raw.fif, raw_sss.fif, raw_tsss.fif, raw.fif.gz, raw_sss.fif.gz, raw_tsss.fif.gz or _meg.fif\n",
      "  raw.save(fname)\n"
     ]
    },
    {
     "name": "stdout",
     "output_type": "stream",
     "text": [
      "Closing \\\\blur\\ECOABS\\Data\\sub13\\proj\\PROJ0076_SUBJ0013_SER004_FILESNO001.fif\n",
      "[done]\n",
      "Opening raw data file B:\\Data\\sub13\\PROJ0076_SUBJ0013_SER005_FILESNO001.fif...\n"
     ]
    },
    {
     "name": "stderr",
     "output_type": "stream",
     "text": [
      "<ipython-input-73-967f35f85865>:17: RuntimeWarning: This filename (B:\\Data\\sub13\\PROJ0076_SUBJ0013_SER005_FILESNO001.fif) does not conform to MNE naming conventions. All raw files should end with raw.fif, raw_sss.fif, raw_tsss.fif, raw.fif.gz, raw_sss.fif.gz, raw_tsss.fif.gz or _meg.fif\n",
      "  raw = mne.io.read_raw_fif(f,preload=True)\n"
     ]
    },
    {
     "name": "stdout",
     "output_type": "stream",
     "text": [
      "    Read a total of 8 projection items:\n",
      "        grad3v_ssp_upr.fif : PCA-v1 (1 x 306)  idle\n",
      "        grad3v_ssp_upr.fif : PCA-v2 (1 x 306)  idle\n",
      "        grad3v_ssp_upr.fif : PCA-v3 (1 x 306)  idle\n",
      "        mag5v_ssp_upr.fif : PCA-v1 (1 x 306)  idle\n",
      "        mag5v_ssp_upr.fif : PCA-v2 (1 x 306)  idle\n",
      "        mag5v_ssp_upr.fif : PCA-v3 (1 x 306)  idle\n",
      "        mag5v_ssp_upr.fif : PCA-v4 (1 x 306)  idle\n",
      "        mag5v_ssp_upr.fif : PCA-v5 (1 x 306)  idle\n",
      "    Range : 144000 ... 821999 =    144.000 ...   821.999 secs\n",
      "Ready.\n",
      "Reading 0 ... 677999  =      0.000 ...   677.999 secs...\n",
      "Created an SSP operator (subspace dimension = 3)\n",
      "3 projection items activated\n",
      "SSP projectors applied...\n",
      "Writing \\\\blur\\ECOABS\\Data\\sub13\\proj\\PROJ0076_SUBJ0013_SER005_FILESNO001.fif\n"
     ]
    },
    {
     "name": "stderr",
     "output_type": "stream",
     "text": [
      "<ipython-input-73-967f35f85865>:29: RuntimeWarning: This filename (\\\\blur\\ECOABS\\Data\\sub13\\proj\\PROJ0076_SUBJ0013_SER005_FILESNO001.fif) does not conform to MNE naming conventions. All raw files should end with raw.fif, raw_sss.fif, raw_tsss.fif, raw.fif.gz, raw_sss.fif.gz, raw_tsss.fif.gz or _meg.fif\n",
      "  raw.save(fname)\n"
     ]
    },
    {
     "name": "stdout",
     "output_type": "stream",
     "text": [
      "Closing \\\\blur\\ECOABS\\Data\\sub13\\proj\\PROJ0076_SUBJ0013_SER005_FILESNO001.fif\n",
      "[done]\n",
      "sub14\n",
      "Opening raw data file B:\\Data\\sub14\\PROJ0076_SUBJ0014_SER001_FILESNO001.fif...\n",
      "    Read a total of 8 projection items:\n",
      "        grad3v_ssp_upr.fif : PCA-v1 (1 x 306)  idle\n",
      "        grad3v_ssp_upr.fif : PCA-v2 (1 x 306)  idle\n",
      "        grad3v_ssp_upr.fif : PCA-v3 (1 x 306)  idle\n",
      "        mag5v_ssp_upr.fif : PCA-v1 (1 x 306)  idle\n",
      "        mag5v_ssp_upr.fif : PCA-v2 (1 x 306)  idle\n",
      "        mag5v_ssp_upr.fif : PCA-v3 (1 x 306)  idle\n",
      "        mag5v_ssp_upr.fif : PCA-v4 (1 x 306)  idle\n",
      "        mag5v_ssp_upr.fif : PCA-v5 (1 x 306)  idle\n"
     ]
    },
    {
     "name": "stderr",
     "output_type": "stream",
     "text": [
      "<ipython-input-73-967f35f85865>:17: RuntimeWarning: This filename (B:\\Data\\sub14\\PROJ0076_SUBJ0014_SER001_FILESNO001.fif) does not conform to MNE naming conventions. All raw files should end with raw.fif, raw_sss.fif, raw_tsss.fif, raw.fif.gz, raw_sss.fif.gz, raw_tsss.fif.gz or _meg.fif\n",
      "  raw = mne.io.read_raw_fif(f,preload=True)\n"
     ]
    },
    {
     "name": "stdout",
     "output_type": "stream",
     "text": [
      "    Range : 155000 ... 1711999 =    155.000 ...  1711.999 secs\n",
      "Ready.\n",
      "Reading 0 ... 1556999  =      0.000 ...  1556.999 secs...\n"
     ]
    },
    {
     "name": "stderr",
     "output_type": "stream",
     "text": [
      "<ipython-input-73-967f35f85865>:17: DeprecationWarning: The default for on_split_missing is \"warn\" in 0.22 but will change to \"raise\" in 0.23, set it explicitly to avoid this message\n",
      "  raw = mne.io.read_raw_fif(f,preload=True)\n",
      "<ipython-input-73-967f35f85865>:17: RuntimeWarning: Split raw file detected but next file \\\\blur\\ECOABS\\Data\\sub14\\PROJ0076_SUBJ0014_SER001_FILESNO001-1.fif does not exist. Ensure all files were transferred properly and that split and original files were not manually renamed on disk (split files should be renamed by loading and re-saving with MNE-Python to preserve proper filename linkage).\n",
      "  raw = mne.io.read_raw_fif(f,preload=True)\n"
     ]
    },
    {
     "name": "stdout",
     "output_type": "stream",
     "text": [
      "Created an SSP operator (subspace dimension = 3)\n",
      "3 projection items activated\n",
      "SSP projectors applied...\n",
      "Writing \\\\blur\\ECOABS\\Data\\sub14\\proj\\PROJ0076_SUBJ0014_SER001_FILESNO001.fif\n"
     ]
    },
    {
     "name": "stderr",
     "output_type": "stream",
     "text": [
      "<ipython-input-73-967f35f85865>:29: RuntimeWarning: This filename (\\\\blur\\ECOABS\\Data\\sub14\\proj\\PROJ0076_SUBJ0014_SER001_FILESNO001.fif) does not conform to MNE naming conventions. All raw files should end with raw.fif, raw_sss.fif, raw_tsss.fif, raw.fif.gz, raw_sss.fif.gz, raw_tsss.fif.gz or _meg.fif\n",
      "  raw.save(fname)\n"
     ]
    },
    {
     "name": "stdout",
     "output_type": "stream",
     "text": [
      "Closing \\\\blur\\ECOABS\\Data\\sub14\\proj\\PROJ0076_SUBJ0014_SER001_FILESNO001.fif\n",
      "[done]\n",
      "Opening raw data file B:\\Data\\sub14\\PROJ0076_SUBJ0014_SER001_FILESNO002.fif...\n"
     ]
    },
    {
     "name": "stderr",
     "output_type": "stream",
     "text": [
      "<ipython-input-73-967f35f85865>:17: RuntimeWarning: This filename (B:\\Data\\sub14\\PROJ0076_SUBJ0014_SER001_FILESNO002.fif) does not conform to MNE naming conventions. All raw files should end with raw.fif, raw_sss.fif, raw_tsss.fif, raw.fif.gz, raw_sss.fif.gz, raw_tsss.fif.gz or _meg.fif\n",
      "  raw = mne.io.read_raw_fif(f,preload=True)\n"
     ]
    },
    {
     "name": "stdout",
     "output_type": "stream",
     "text": [
      "    Read a total of 8 projection items:\n",
      "        grad3v_ssp_upr.fif : PCA-v1 (1 x 306)  idle\n",
      "        grad3v_ssp_upr.fif : PCA-v2 (1 x 306)  idle\n",
      "        grad3v_ssp_upr.fif : PCA-v3 (1 x 306)  idle\n",
      "        mag5v_ssp_upr.fif : PCA-v1 (1 x 306)  idle\n",
      "        mag5v_ssp_upr.fif : PCA-v2 (1 x 306)  idle\n",
      "        mag5v_ssp_upr.fif : PCA-v3 (1 x 306)  idle\n",
      "        mag5v_ssp_upr.fif : PCA-v4 (1 x 306)  idle\n",
      "        mag5v_ssp_upr.fif : PCA-v5 (1 x 306)  idle\n",
      "    Range : 1712000 ... 1718999 =   1712.000 ...  1718.999 secs\n",
      "Ready.\n",
      "Reading 0 ... 6999  =      0.000 ...     6.999 secs...\n",
      "Created an SSP operator (subspace dimension = 3)\n",
      "3 projection items activated\n",
      "SSP projectors applied...\n",
      "Writing \\\\blur\\ECOABS\\Data\\sub14\\proj\\PROJ0076_SUBJ0014_SER001_FILESNO002.fif\n"
     ]
    },
    {
     "name": "stderr",
     "output_type": "stream",
     "text": [
      "<ipython-input-73-967f35f85865>:29: RuntimeWarning: This filename (\\\\blur\\ECOABS\\Data\\sub14\\proj\\PROJ0076_SUBJ0014_SER001_FILESNO002.fif) does not conform to MNE naming conventions. All raw files should end with raw.fif, raw_sss.fif, raw_tsss.fif, raw.fif.gz, raw_sss.fif.gz, raw_tsss.fif.gz or _meg.fif\n",
      "  raw.save(fname)\n"
     ]
    },
    {
     "name": "stdout",
     "output_type": "stream",
     "text": [
      "Closing \\\\blur\\ECOABS\\Data\\sub14\\proj\\PROJ0076_SUBJ0014_SER001_FILESNO002.fif\n",
      "[done]\n",
      "sub15\n",
      "Opening raw data file B:\\Data\\sub15\\PROJ0076_SUBJ0015_SER001_FILESNO001.fif...\n",
      "    Read a total of 8 projection items:\n",
      "        grad3v_ssp_upr.fif : PCA-v1 (1 x 306)  idle\n",
      "        grad3v_ssp_upr.fif : PCA-v2 (1 x 306)  idle\n",
      "        grad3v_ssp_upr.fif : PCA-v3 (1 x 306)  idle\n",
      "        mag5v_ssp_upr.fif : PCA-v1 (1 x 306)  idle\n",
      "        mag5v_ssp_upr.fif : PCA-v2 (1 x 306)  idle\n",
      "        mag5v_ssp_upr.fif : PCA-v3 (1 x 306)  idle\n",
      "        mag5v_ssp_upr.fif : PCA-v4 (1 x 306)  idle\n",
      "        mag5v_ssp_upr.fif : PCA-v5 (1 x 306)  idle\n"
     ]
    },
    {
     "name": "stderr",
     "output_type": "stream",
     "text": [
      "<ipython-input-73-967f35f85865>:17: RuntimeWarning: This filename (B:\\Data\\sub15\\PROJ0076_SUBJ0015_SER001_FILESNO001.fif) does not conform to MNE naming conventions. All raw files should end with raw.fif, raw_sss.fif, raw_tsss.fif, raw.fif.gz, raw_sss.fif.gz, raw_tsss.fif.gz or _meg.fif\n",
      "  raw = mne.io.read_raw_fif(f,preload=True)\n"
     ]
    },
    {
     "name": "stdout",
     "output_type": "stream",
     "text": [
      "    Range : 35000 ... 1591999 =     35.000 ...  1591.999 secs\n",
      "Ready.\n",
      "Reading 0 ... 1556999  =      0.000 ...  1556.999 secs...\n"
     ]
    },
    {
     "name": "stderr",
     "output_type": "stream",
     "text": [
      "<ipython-input-73-967f35f85865>:17: DeprecationWarning: The default for on_split_missing is \"warn\" in 0.22 but will change to \"raise\" in 0.23, set it explicitly to avoid this message\n",
      "  raw = mne.io.read_raw_fif(f,preload=True)\n",
      "<ipython-input-73-967f35f85865>:17: RuntimeWarning: Split raw file detected but next file \\\\blur\\ECOABS\\Data\\sub15\\PROJ0076_SUBJ0015_SER001_FILESNO001-1.fif does not exist. Ensure all files were transferred properly and that split and original files were not manually renamed on disk (split files should be renamed by loading and re-saving with MNE-Python to preserve proper filename linkage).\n",
      "  raw = mne.io.read_raw_fif(f,preload=True)\n"
     ]
    },
    {
     "name": "stdout",
     "output_type": "stream",
     "text": [
      "Created an SSP operator (subspace dimension = 3)\n",
      "3 projection items activated\n",
      "SSP projectors applied...\n",
      "Writing \\\\blur\\ECOABS\\Data\\sub15\\proj\\PROJ0076_SUBJ0015_SER001_FILESNO001.fif\n"
     ]
    },
    {
     "name": "stderr",
     "output_type": "stream",
     "text": [
      "<ipython-input-73-967f35f85865>:29: RuntimeWarning: This filename (\\\\blur\\ECOABS\\Data\\sub15\\proj\\PROJ0076_SUBJ0015_SER001_FILESNO001.fif) does not conform to MNE naming conventions. All raw files should end with raw.fif, raw_sss.fif, raw_tsss.fif, raw.fif.gz, raw_sss.fif.gz, raw_tsss.fif.gz or _meg.fif\n",
      "  raw.save(fname)\n"
     ]
    },
    {
     "name": "stdout",
     "output_type": "stream",
     "text": [
      "Closing \\\\blur\\ECOABS\\Data\\sub15\\proj\\PROJ0076_SUBJ0015_SER001_FILESNO001.fif\n",
      "[done]\n",
      "Opening raw data file B:\\Data\\sub15\\PROJ0076_SUBJ0015_SER001_FILESNO002.fif...\n",
      "    Read a total of 8 projection items:\n",
      "        grad3v_ssp_upr.fif : PCA-v1 (1 x 306)  idle\n",
      "        grad3v_ssp_upr.fif : PCA-v2 (1 x 306)  idle\n",
      "        grad3v_ssp_upr.fif : PCA-v3 (1 x 306)  idle\n",
      "        mag5v_ssp_upr.fif : PCA-v1 (1 x 306)  idle\n",
      "        mag5v_ssp_upr.fif : PCA-v2 (1 x 306)  idle\n",
      "        mag5v_ssp_upr.fif : PCA-v3 (1 x 306)  idle\n",
      "        mag5v_ssp_upr.fif : PCA-v4 (1 x 306)  idle\n",
      "        mag5v_ssp_upr.fif : PCA-v5 (1 x 306)  idle\n"
     ]
    },
    {
     "name": "stderr",
     "output_type": "stream",
     "text": [
      "<ipython-input-73-967f35f85865>:17: RuntimeWarning: This filename (B:\\Data\\sub15\\PROJ0076_SUBJ0015_SER001_FILESNO002.fif) does not conform to MNE naming conventions. All raw files should end with raw.fif, raw_sss.fif, raw_tsss.fif, raw.fif.gz, raw_sss.fif.gz, raw_tsss.fif.gz or _meg.fif\n",
      "  raw = mne.io.read_raw_fif(f,preload=True)\n"
     ]
    },
    {
     "name": "stdout",
     "output_type": "stream",
     "text": [
      "    Range : 1592000 ... 1619999 =   1592.000 ...  1619.999 secs\n",
      "Ready.\n",
      "Reading 0 ... 27999  =      0.000 ...    27.999 secs...\n",
      "Created an SSP operator (subspace dimension = 3)\n",
      "3 projection items activated\n",
      "SSP projectors applied...\n",
      "Writing \\\\blur\\ECOABS\\Data\\sub15\\proj\\PROJ0076_SUBJ0015_SER001_FILESNO002.fif\n"
     ]
    },
    {
     "name": "stderr",
     "output_type": "stream",
     "text": [
      "<ipython-input-73-967f35f85865>:29: RuntimeWarning: This filename (\\\\blur\\ECOABS\\Data\\sub15\\proj\\PROJ0076_SUBJ0015_SER001_FILESNO002.fif) does not conform to MNE naming conventions. All raw files should end with raw.fif, raw_sss.fif, raw_tsss.fif, raw.fif.gz, raw_sss.fif.gz, raw_tsss.fif.gz or _meg.fif\n",
      "  raw.save(fname)\n"
     ]
    },
    {
     "name": "stdout",
     "output_type": "stream",
     "text": [
      "Closing \\\\blur\\ECOABS\\Data\\sub15\\proj\\PROJ0076_SUBJ0015_SER001_FILESNO002.fif\n",
      "[done]\n",
      "Opening raw data file B:\\Data\\sub15\\PROJ0076_SUBJ0015_SER002_FILESNO001.fif...\n",
      "    Read a total of 8 projection items:\n",
      "        grad3v_ssp_upr.fif : PCA-v1 (1 x 306)  idle\n",
      "        grad3v_ssp_upr.fif : PCA-v2 (1 x 306)  idle\n",
      "        grad3v_ssp_upr.fif : PCA-v3 (1 x 306)  idle\n",
      "        mag5v_ssp_upr.fif : PCA-v1 (1 x 306)  idle\n",
      "        mag5v_ssp_upr.fif : PCA-v2 (1 x 306)  idle\n",
      "        mag5v_ssp_upr.fif : PCA-v3 (1 x 306)  idle\n",
      "        mag5v_ssp_upr.fif : PCA-v4 (1 x 306)  idle\n",
      "        mag5v_ssp_upr.fif : PCA-v5 (1 x 306)  idle\n"
     ]
    },
    {
     "name": "stderr",
     "output_type": "stream",
     "text": [
      "<ipython-input-73-967f35f85865>:17: RuntimeWarning: This filename (B:\\Data\\sub15\\PROJ0076_SUBJ0015_SER002_FILESNO001.fif) does not conform to MNE naming conventions. All raw files should end with raw.fif, raw_sss.fif, raw_tsss.fif, raw.fif.gz, raw_sss.fif.gz, raw_tsss.fif.gz or _meg.fif\n",
      "  raw = mne.io.read_raw_fif(f,preload=True)\n"
     ]
    },
    {
     "name": "stdout",
     "output_type": "stream",
     "text": [
      "    Range : 458000 ... 1141999 =    458.000 ...  1141.999 secs\n",
      "Ready.\n",
      "Reading 0 ... 683999  =      0.000 ...   683.999 secs...\n",
      "Created an SSP operator (subspace dimension = 3)\n",
      "3 projection items activated\n",
      "SSP projectors applied...\n",
      "Writing \\\\blur\\ECOABS\\Data\\sub15\\proj\\PROJ0076_SUBJ0015_SER002_FILESNO001.fif\n"
     ]
    },
    {
     "name": "stderr",
     "output_type": "stream",
     "text": [
      "<ipython-input-73-967f35f85865>:29: RuntimeWarning: This filename (\\\\blur\\ECOABS\\Data\\sub15\\proj\\PROJ0076_SUBJ0015_SER002_FILESNO001.fif) does not conform to MNE naming conventions. All raw files should end with raw.fif, raw_sss.fif, raw_tsss.fif, raw.fif.gz, raw_sss.fif.gz, raw_tsss.fif.gz or _meg.fif\n",
      "  raw.save(fname)\n"
     ]
    },
    {
     "name": "stdout",
     "output_type": "stream",
     "text": [
      "Closing \\\\blur\\ECOABS\\Data\\sub15\\proj\\PROJ0076_SUBJ0015_SER002_FILESNO001.fif\n",
      "[done]\n",
      "Opening raw data file B:\\Data\\sub15\\PROJ0076_SUBJ0015_SER003_FILESNO001.fif...\n",
      "    Read a total of 8 projection items:\n",
      "        grad3v_ssp_upr.fif : PCA-v1 (1 x 306)  idle\n",
      "        grad3v_ssp_upr.fif : PCA-v2 (1 x 306)  idle\n",
      "        grad3v_ssp_upr.fif : PCA-v3 (1 x 306)  idle\n",
      "        mag5v_ssp_upr.fif : PCA-v1 (1 x 306)  idle\n",
      "        mag5v_ssp_upr.fif : PCA-v2 (1 x 306)  idle\n",
      "        mag5v_ssp_upr.fif : PCA-v3 (1 x 306)  idle\n",
      "        mag5v_ssp_upr.fif : PCA-v4 (1 x 306)  idle\n",
      "        mag5v_ssp_upr.fif : PCA-v5 (1 x 306)  idle\n",
      "    Range : 71000 ... 769999 =     71.000 ...   769.999 secs\n"
     ]
    },
    {
     "name": "stderr",
     "output_type": "stream",
     "text": [
      "<ipython-input-73-967f35f85865>:17: RuntimeWarning: This filename (B:\\Data\\sub15\\PROJ0076_SUBJ0015_SER003_FILESNO001.fif) does not conform to MNE naming conventions. All raw files should end with raw.fif, raw_sss.fif, raw_tsss.fif, raw.fif.gz, raw_sss.fif.gz, raw_tsss.fif.gz or _meg.fif\n",
      "  raw = mne.io.read_raw_fif(f,preload=True)\n"
     ]
    },
    {
     "name": "stdout",
     "output_type": "stream",
     "text": [
      "Ready.\n",
      "Reading 0 ... 698999  =      0.000 ...   698.999 secs...\n",
      "Created an SSP operator (subspace dimension = 3)\n",
      "3 projection items activated\n",
      "SSP projectors applied...\n",
      "Writing \\\\blur\\ECOABS\\Data\\sub15\\proj\\PROJ0076_SUBJ0015_SER003_FILESNO001.fif\n"
     ]
    },
    {
     "name": "stderr",
     "output_type": "stream",
     "text": [
      "<ipython-input-73-967f35f85865>:29: RuntimeWarning: This filename (\\\\blur\\ECOABS\\Data\\sub15\\proj\\PROJ0076_SUBJ0015_SER003_FILESNO001.fif) does not conform to MNE naming conventions. All raw files should end with raw.fif, raw_sss.fif, raw_tsss.fif, raw.fif.gz, raw_sss.fif.gz, raw_tsss.fif.gz or _meg.fif\n",
      "  raw.save(fname)\n"
     ]
    },
    {
     "name": "stdout",
     "output_type": "stream",
     "text": [
      "Closing \\\\blur\\ECOABS\\Data\\sub15\\proj\\PROJ0076_SUBJ0015_SER003_FILESNO001.fif\n",
      "[done]\n",
      "Opening raw data file B:\\Data\\sub15\\PROJ0076_SUBJ0015_SER004_FILESNO001.fif...\n",
      "    Read a total of 8 projection items:\n",
      "        grad3v_ssp_upr.fif : PCA-v1 (1 x 306)  idle\n",
      "        grad3v_ssp_upr.fif : PCA-v2 (1 x 306)  idle\n",
      "        grad3v_ssp_upr.fif : PCA-v3 (1 x 306)  idle\n",
      "        mag5v_ssp_upr.fif : PCA-v1 (1 x 306)  idle\n",
      "        mag5v_ssp_upr.fif : PCA-v2 (1 x 306)  idle\n",
      "        mag5v_ssp_upr.fif : PCA-v3 (1 x 306)  idle\n",
      "        mag5v_ssp_upr.fif : PCA-v4 (1 x 306)  idle\n",
      "        mag5v_ssp_upr.fif : PCA-v5 (1 x 306)  idle\n",
      "    Range : 53000 ... 721999 =     53.000 ...   721.999 secs\n"
     ]
    },
    {
     "name": "stderr",
     "output_type": "stream",
     "text": [
      "<ipython-input-73-967f35f85865>:17: RuntimeWarning: This filename (B:\\Data\\sub15\\PROJ0076_SUBJ0015_SER004_FILESNO001.fif) does not conform to MNE naming conventions. All raw files should end with raw.fif, raw_sss.fif, raw_tsss.fif, raw.fif.gz, raw_sss.fif.gz, raw_tsss.fif.gz or _meg.fif\n",
      "  raw = mne.io.read_raw_fif(f,preload=True)\n"
     ]
    },
    {
     "name": "stdout",
     "output_type": "stream",
     "text": [
      "Ready.\n",
      "Reading 0 ... 668999  =      0.000 ...   668.999 secs...\n",
      "Created an SSP operator (subspace dimension = 3)\n",
      "3 projection items activated\n",
      "SSP projectors applied...\n",
      "Writing \\\\blur\\ECOABS\\Data\\sub15\\proj\\PROJ0076_SUBJ0015_SER004_FILESNO001.fif\n"
     ]
    },
    {
     "name": "stderr",
     "output_type": "stream",
     "text": [
      "<ipython-input-73-967f35f85865>:29: RuntimeWarning: This filename (\\\\blur\\ECOABS\\Data\\sub15\\proj\\PROJ0076_SUBJ0015_SER004_FILESNO001.fif) does not conform to MNE naming conventions. All raw files should end with raw.fif, raw_sss.fif, raw_tsss.fif, raw.fif.gz, raw_sss.fif.gz, raw_tsss.fif.gz or _meg.fif\n",
      "  raw.save(fname)\n"
     ]
    },
    {
     "name": "stdout",
     "output_type": "stream",
     "text": [
      "Closing \\\\blur\\ECOABS\\Data\\sub15\\proj\\PROJ0076_SUBJ0015_SER004_FILESNO001.fif\n",
      "[done]\n",
      "Opening raw data file B:\\Data\\sub15\\PROJ0076_SUBJ0015_SER005_FILESNO001.fif...\n",
      "    Read a total of 8 projection items:\n",
      "        grad3v_ssp_upr.fif : PCA-v1 (1 x 306)  idle\n",
      "        grad3v_ssp_upr.fif : PCA-v2 (1 x 306)  idle\n",
      "        grad3v_ssp_upr.fif : PCA-v3 (1 x 306)  idle\n",
      "        mag5v_ssp_upr.fif : PCA-v1 (1 x 306)  idle\n",
      "        mag5v_ssp_upr.fif : PCA-v2 (1 x 306)  idle\n",
      "        mag5v_ssp_upr.fif : PCA-v3 (1 x 306)  idle\n",
      "        mag5v_ssp_upr.fif : PCA-v4 (1 x 306)  idle\n",
      "        mag5v_ssp_upr.fif : PCA-v5 (1 x 306)  idle\n",
      "    Range : 52000 ... 718999 =     52.000 ...   718.999 secs\n"
     ]
    },
    {
     "name": "stderr",
     "output_type": "stream",
     "text": [
      "<ipython-input-73-967f35f85865>:17: RuntimeWarning: This filename (B:\\Data\\sub15\\PROJ0076_SUBJ0015_SER005_FILESNO001.fif) does not conform to MNE naming conventions. All raw files should end with raw.fif, raw_sss.fif, raw_tsss.fif, raw.fif.gz, raw_sss.fif.gz, raw_tsss.fif.gz or _meg.fif\n",
      "  raw = mne.io.read_raw_fif(f,preload=True)\n"
     ]
    },
    {
     "name": "stdout",
     "output_type": "stream",
     "text": [
      "Ready.\n",
      "Reading 0 ... 666999  =      0.000 ...   666.999 secs...\n",
      "Created an SSP operator (subspace dimension = 3)\n",
      "3 projection items activated\n",
      "SSP projectors applied...\n",
      "Writing \\\\blur\\ECOABS\\Data\\sub15\\proj\\PROJ0076_SUBJ0015_SER005_FILESNO001.fif\n"
     ]
    },
    {
     "name": "stderr",
     "output_type": "stream",
     "text": [
      "<ipython-input-73-967f35f85865>:29: RuntimeWarning: This filename (\\\\blur\\ECOABS\\Data\\sub15\\proj\\PROJ0076_SUBJ0015_SER005_FILESNO001.fif) does not conform to MNE naming conventions. All raw files should end with raw.fif, raw_sss.fif, raw_tsss.fif, raw.fif.gz, raw_sss.fif.gz, raw_tsss.fif.gz or _meg.fif\n",
      "  raw.save(fname)\n"
     ]
    },
    {
     "name": "stdout",
     "output_type": "stream",
     "text": [
      "Closing \\\\blur\\ECOABS\\Data\\sub15\\proj\\PROJ0076_SUBJ0015_SER005_FILESNO001.fif\n",
      "[done]\n",
      "sub16\n",
      "Opening raw data file B:\\Data\\sub16\\PROJ0076_SUBJ0016_SER001_FILESNO001.fif...\n",
      "    Read a total of 8 projection items:\n",
      "        grad3v_ssp_upr.fif : PCA-v1 (1 x 306)  idle\n",
      "        grad3v_ssp_upr.fif : PCA-v2 (1 x 306)  idle\n",
      "        grad3v_ssp_upr.fif : PCA-v3 (1 x 306)  idle\n",
      "        mag5v_ssp_upr.fif : PCA-v1 (1 x 306)  idle\n",
      "        mag5v_ssp_upr.fif : PCA-v2 (1 x 306)  idle\n",
      "        mag5v_ssp_upr.fif : PCA-v3 (1 x 306)  idle\n",
      "        mag5v_ssp_upr.fif : PCA-v4 (1 x 306)  idle\n",
      "        mag5v_ssp_upr.fif : PCA-v5 (1 x 306)  idle\n"
     ]
    },
    {
     "name": "stderr",
     "output_type": "stream",
     "text": [
      "<ipython-input-73-967f35f85865>:17: RuntimeWarning: This filename (B:\\Data\\sub16\\PROJ0076_SUBJ0016_SER001_FILESNO001.fif) does not conform to MNE naming conventions. All raw files should end with raw.fif, raw_sss.fif, raw_tsss.fif, raw.fif.gz, raw_sss.fif.gz, raw_tsss.fif.gz or _meg.fif\n",
      "  raw = mne.io.read_raw_fif(f,preload=True)\n"
     ]
    },
    {
     "name": "stdout",
     "output_type": "stream",
     "text": [
      "    Range : 27000 ... 1583999 =     27.000 ...  1583.999 secs\n",
      "Ready.\n",
      "Reading 0 ... 1556999  =      0.000 ...  1556.999 secs...\n"
     ]
    },
    {
     "name": "stderr",
     "output_type": "stream",
     "text": [
      "<ipython-input-73-967f35f85865>:17: DeprecationWarning: The default for on_split_missing is \"warn\" in 0.22 but will change to \"raise\" in 0.23, set it explicitly to avoid this message\n",
      "  raw = mne.io.read_raw_fif(f,preload=True)\n",
      "<ipython-input-73-967f35f85865>:17: RuntimeWarning: Split raw file detected but next file \\\\blur\\ECOABS\\Data\\sub16\\PROJ0076_SUBJ0016_SER001_FILESNO001-1.fif does not exist. Ensure all files were transferred properly and that split and original files were not manually renamed on disk (split files should be renamed by loading and re-saving with MNE-Python to preserve proper filename linkage).\n",
      "  raw = mne.io.read_raw_fif(f,preload=True)\n"
     ]
    },
    {
     "name": "stdout",
     "output_type": "stream",
     "text": [
      "Created an SSP operator (subspace dimension = 3)\n",
      "3 projection items activated\n",
      "SSP projectors applied...\n",
      "Writing \\\\blur\\ECOABS\\Data\\sub16\\proj\\PROJ0076_SUBJ0016_SER001_FILESNO001.fif\n"
     ]
    },
    {
     "name": "stderr",
     "output_type": "stream",
     "text": [
      "<ipython-input-73-967f35f85865>:29: RuntimeWarning: This filename (\\\\blur\\ECOABS\\Data\\sub16\\proj\\PROJ0076_SUBJ0016_SER001_FILESNO001.fif) does not conform to MNE naming conventions. All raw files should end with raw.fif, raw_sss.fif, raw_tsss.fif, raw.fif.gz, raw_sss.fif.gz, raw_tsss.fif.gz or _meg.fif\n",
      "  raw.save(fname)\n"
     ]
    },
    {
     "name": "stdout",
     "output_type": "stream",
     "text": [
      "Closing \\\\blur\\ECOABS\\Data\\sub16\\proj\\PROJ0076_SUBJ0016_SER001_FILESNO001.fif\n",
      "[done]\n",
      "Opening raw data file B:\\Data\\sub16\\PROJ0076_SUBJ0016_SER001_FILESNO002.fif...\n",
      "    Read a total of 8 projection items:\n",
      "        grad3v_ssp_upr.fif : PCA-v1 (1 x 306)  idle\n",
      "        grad3v_ssp_upr.fif : PCA-v2 (1 x 306)  idle\n",
      "        grad3v_ssp_upr.fif : PCA-v3 (1 x 306)  idle\n",
      "        mag5v_ssp_upr.fif : PCA-v1 (1 x 306)  idle\n",
      "        mag5v_ssp_upr.fif : PCA-v2 (1 x 306)  idle\n",
      "        mag5v_ssp_upr.fif : PCA-v3 (1 x 306)  idle\n",
      "        mag5v_ssp_upr.fif : PCA-v4 (1 x 306)  idle\n",
      "        mag5v_ssp_upr.fif : PCA-v5 (1 x 306)  idle\n"
     ]
    },
    {
     "name": "stderr",
     "output_type": "stream",
     "text": [
      "<ipython-input-73-967f35f85865>:17: RuntimeWarning: This filename (B:\\Data\\sub16\\PROJ0076_SUBJ0016_SER001_FILESNO002.fif) does not conform to MNE naming conventions. All raw files should end with raw.fif, raw_sss.fif, raw_tsss.fif, raw.fif.gz, raw_sss.fif.gz, raw_tsss.fif.gz or _meg.fif\n",
      "  raw = mne.io.read_raw_fif(f,preload=True)\n"
     ]
    },
    {
     "name": "stdout",
     "output_type": "stream",
     "text": [
      "    Range : 1584000 ... 1982999 =   1584.000 ...  1982.999 secs\n",
      "Ready.\n",
      "Reading 0 ... 398999  =      0.000 ...   398.999 secs...\n",
      "Created an SSP operator (subspace dimension = 3)\n",
      "3 projection items activated\n",
      "SSP projectors applied...\n",
      "Writing \\\\blur\\ECOABS\\Data\\sub16\\proj\\PROJ0076_SUBJ0016_SER001_FILESNO002.fif\n"
     ]
    },
    {
     "name": "stderr",
     "output_type": "stream",
     "text": [
      "<ipython-input-73-967f35f85865>:29: RuntimeWarning: This filename (\\\\blur\\ECOABS\\Data\\sub16\\proj\\PROJ0076_SUBJ0016_SER001_FILESNO002.fif) does not conform to MNE naming conventions. All raw files should end with raw.fif, raw_sss.fif, raw_tsss.fif, raw.fif.gz, raw_sss.fif.gz, raw_tsss.fif.gz or _meg.fif\n",
      "  raw.save(fname)\n"
     ]
    },
    {
     "name": "stdout",
     "output_type": "stream",
     "text": [
      "Closing \\\\blur\\ECOABS\\Data\\sub16\\proj\\PROJ0076_SUBJ0016_SER001_FILESNO002.fif\n",
      "[done]\n",
      "Opening raw data file B:\\Data\\sub16\\PROJ0076_SUBJ0016_SER002_FILESNO001.fif...\n",
      "    Read a total of 8 projection items:\n",
      "        grad3v_ssp_upr.fif : PCA-v1 (1 x 306)  idle\n",
      "        grad3v_ssp_upr.fif : PCA-v2 (1 x 306)  idle\n",
      "        grad3v_ssp_upr.fif : PCA-v3 (1 x 306)  idle\n",
      "        mag5v_ssp_upr.fif : PCA-v1 (1 x 306)  idle\n",
      "        mag5v_ssp_upr.fif : PCA-v2 (1 x 306)  idle\n",
      "        mag5v_ssp_upr.fif : PCA-v3 (1 x 306)  idle\n",
      "        mag5v_ssp_upr.fif : PCA-v4 (1 x 306)  idle\n",
      "        mag5v_ssp_upr.fif : PCA-v5 (1 x 306)  idle\n"
     ]
    },
    {
     "name": "stderr",
     "output_type": "stream",
     "text": [
      "<ipython-input-73-967f35f85865>:17: RuntimeWarning: This filename (B:\\Data\\sub16\\PROJ0076_SUBJ0016_SER002_FILESNO001.fif) does not conform to MNE naming conventions. All raw files should end with raw.fif, raw_sss.fif, raw_tsss.fif, raw.fif.gz, raw_sss.fif.gz, raw_tsss.fif.gz or _meg.fif\n",
      "  raw = mne.io.read_raw_fif(f,preload=True)\n"
     ]
    },
    {
     "name": "stdout",
     "output_type": "stream",
     "text": [
      "    Range : 210000 ... 1137999 =    210.000 ...  1137.999 secs\n",
      "Ready.\n",
      "Reading 0 ... 927999  =      0.000 ...   927.999 secs...\n",
      "Created an SSP operator (subspace dimension = 3)\n",
      "3 projection items activated\n",
      "SSP projectors applied...\n",
      "Writing \\\\blur\\ECOABS\\Data\\sub16\\proj\\PROJ0076_SUBJ0016_SER002_FILESNO001.fif\n"
     ]
    },
    {
     "name": "stderr",
     "output_type": "stream",
     "text": [
      "<ipython-input-73-967f35f85865>:29: RuntimeWarning: This filename (\\\\blur\\ECOABS\\Data\\sub16\\proj\\PROJ0076_SUBJ0016_SER002_FILESNO001.fif) does not conform to MNE naming conventions. All raw files should end with raw.fif, raw_sss.fif, raw_tsss.fif, raw.fif.gz, raw_sss.fif.gz, raw_tsss.fif.gz or _meg.fif\n",
      "  raw.save(fname)\n"
     ]
    },
    {
     "name": "stdout",
     "output_type": "stream",
     "text": [
      "Closing \\\\blur\\ECOABS\\Data\\sub16\\proj\\PROJ0076_SUBJ0016_SER002_FILESNO001.fif\n",
      "[done]\n",
      "Opening raw data file B:\\Data\\sub16\\PROJ0076_SUBJ0016_SER003_FILESNO001.fif...\n",
      "    Read a total of 8 projection items:\n",
      "        grad3v_ssp_upr.fif : PCA-v1 (1 x 306)  idle\n",
      "        grad3v_ssp_upr.fif : PCA-v2 (1 x 306)  idle\n",
      "        grad3v_ssp_upr.fif : PCA-v3 (1 x 306)  idle\n",
      "        mag5v_ssp_upr.fif : PCA-v1 (1 x 306)  idle\n",
      "        mag5v_ssp_upr.fif : PCA-v2 (1 x 306)  idle\n",
      "        mag5v_ssp_upr.fif : PCA-v3 (1 x 306)  idle\n",
      "        mag5v_ssp_upr.fif : PCA-v4 (1 x 306)  idle\n",
      "        mag5v_ssp_upr.fif : PCA-v5 (1 x 306)  idle\n"
     ]
    },
    {
     "name": "stderr",
     "output_type": "stream",
     "text": [
      "<ipython-input-73-967f35f85865>:17: RuntimeWarning: This filename (B:\\Data\\sub16\\PROJ0076_SUBJ0016_SER003_FILESNO001.fif) does not conform to MNE naming conventions. All raw files should end with raw.fif, raw_sss.fif, raw_tsss.fif, raw.fif.gz, raw_sss.fif.gz, raw_tsss.fif.gz or _meg.fif\n",
      "  raw = mne.io.read_raw_fif(f,preload=True)\n"
     ]
    },
    {
     "name": "stdout",
     "output_type": "stream",
     "text": [
      "    Range : 56000 ... 879999 =     56.000 ...   879.999 secs\n",
      "Ready.\n",
      "Reading 0 ... 823999  =      0.000 ...   823.999 secs...\n",
      "Created an SSP operator (subspace dimension = 3)\n",
      "3 projection items activated\n",
      "SSP projectors applied...\n",
      "Writing \\\\blur\\ECOABS\\Data\\sub16\\proj\\PROJ0076_SUBJ0016_SER003_FILESNO001.fif\n"
     ]
    },
    {
     "name": "stderr",
     "output_type": "stream",
     "text": [
      "<ipython-input-73-967f35f85865>:29: RuntimeWarning: This filename (\\\\blur\\ECOABS\\Data\\sub16\\proj\\PROJ0076_SUBJ0016_SER003_FILESNO001.fif) does not conform to MNE naming conventions. All raw files should end with raw.fif, raw_sss.fif, raw_tsss.fif, raw.fif.gz, raw_sss.fif.gz, raw_tsss.fif.gz or _meg.fif\n",
      "  raw.save(fname)\n"
     ]
    },
    {
     "name": "stdout",
     "output_type": "stream",
     "text": [
      "Closing \\\\blur\\ECOABS\\Data\\sub16\\proj\\PROJ0076_SUBJ0016_SER003_FILESNO001.fif\n",
      "[done]\n",
      "Opening raw data file B:\\Data\\sub16\\PROJ0076_SUBJ0016_SER004_FILESNO001.fif...\n",
      "    Read a total of 8 projection items:\n",
      "        grad3v_ssp_upr.fif : PCA-v1 (1 x 306)  idle\n",
      "        grad3v_ssp_upr.fif : PCA-v2 (1 x 306)  idle\n",
      "        grad3v_ssp_upr.fif : PCA-v3 (1 x 306)  idle\n",
      "        mag5v_ssp_upr.fif : PCA-v1 (1 x 306)  idle\n",
      "        mag5v_ssp_upr.fif : PCA-v2 (1 x 306)  idle\n",
      "        mag5v_ssp_upr.fif : PCA-v3 (1 x 306)  idle\n",
      "        mag5v_ssp_upr.fif : PCA-v4 (1 x 306)  idle\n",
      "        mag5v_ssp_upr.fif : PCA-v5 (1 x 306)  idle\n"
     ]
    },
    {
     "name": "stderr",
     "output_type": "stream",
     "text": [
      "<ipython-input-73-967f35f85865>:17: RuntimeWarning: This filename (B:\\Data\\sub16\\PROJ0076_SUBJ0016_SER004_FILESNO001.fif) does not conform to MNE naming conventions. All raw files should end with raw.fif, raw_sss.fif, raw_tsss.fif, raw.fif.gz, raw_sss.fif.gz, raw_tsss.fif.gz or _meg.fif\n",
      "  raw = mne.io.read_raw_fif(f,preload=True)\n"
     ]
    },
    {
     "name": "stdout",
     "output_type": "stream",
     "text": [
      "    Range : 66000 ... 859999 =     66.000 ...   859.999 secs\n",
      "Ready.\n",
      "Reading 0 ... 793999  =      0.000 ...   793.999 secs...\n",
      "Created an SSP operator (subspace dimension = 3)\n",
      "3 projection items activated\n",
      "SSP projectors applied...\n",
      "Writing \\\\blur\\ECOABS\\Data\\sub16\\proj\\PROJ0076_SUBJ0016_SER004_FILESNO001.fif\n"
     ]
    },
    {
     "name": "stderr",
     "output_type": "stream",
     "text": [
      "<ipython-input-73-967f35f85865>:29: RuntimeWarning: This filename (\\\\blur\\ECOABS\\Data\\sub16\\proj\\PROJ0076_SUBJ0016_SER004_FILESNO001.fif) does not conform to MNE naming conventions. All raw files should end with raw.fif, raw_sss.fif, raw_tsss.fif, raw.fif.gz, raw_sss.fif.gz, raw_tsss.fif.gz or _meg.fif\n",
      "  raw.save(fname)\n"
     ]
    },
    {
     "name": "stdout",
     "output_type": "stream",
     "text": [
      "Closing \\\\blur\\ECOABS\\Data\\sub16\\proj\\PROJ0076_SUBJ0016_SER004_FILESNO001.fif\n",
      "[done]\n",
      "Opening raw data file B:\\Data\\sub16\\PROJ0076_SUBJ0016_SER005_FILESNO001.fif...\n",
      "    Read a total of 8 projection items:\n",
      "        grad3v_ssp_upr.fif : PCA-v1 (1 x 306)  idle\n",
      "        grad3v_ssp_upr.fif : PCA-v2 (1 x 306)  idle\n",
      "        grad3v_ssp_upr.fif : PCA-v3 (1 x 306)  idle\n",
      "        mag5v_ssp_upr.fif : PCA-v1 (1 x 306)  idle\n",
      "        mag5v_ssp_upr.fif : PCA-v2 (1 x 306)  idle\n",
      "        mag5v_ssp_upr.fif : PCA-v3 (1 x 306)  idle\n",
      "        mag5v_ssp_upr.fif : PCA-v4 (1 x 306)  idle\n",
      "        mag5v_ssp_upr.fif : PCA-v5 (1 x 306)  idle\n",
      "    Range : 64000 ... 814999 =     64.000 ...   814.999 secs\n"
     ]
    },
    {
     "name": "stderr",
     "output_type": "stream",
     "text": [
      "<ipython-input-73-967f35f85865>:17: RuntimeWarning: This filename (B:\\Data\\sub16\\PROJ0076_SUBJ0016_SER005_FILESNO001.fif) does not conform to MNE naming conventions. All raw files should end with raw.fif, raw_sss.fif, raw_tsss.fif, raw.fif.gz, raw_sss.fif.gz, raw_tsss.fif.gz or _meg.fif\n",
      "  raw = mne.io.read_raw_fif(f,preload=True)\n"
     ]
    },
    {
     "name": "stdout",
     "output_type": "stream",
     "text": [
      "Ready.\n",
      "Reading 0 ... 750999  =      0.000 ...   750.999 secs...\n",
      "Created an SSP operator (subspace dimension = 3)\n",
      "3 projection items activated\n",
      "SSP projectors applied...\n",
      "Writing \\\\blur\\ECOABS\\Data\\sub16\\proj\\PROJ0076_SUBJ0016_SER005_FILESNO001.fif\n"
     ]
    },
    {
     "name": "stderr",
     "output_type": "stream",
     "text": [
      "<ipython-input-73-967f35f85865>:29: RuntimeWarning: This filename (\\\\blur\\ECOABS\\Data\\sub16\\proj\\PROJ0076_SUBJ0016_SER005_FILESNO001.fif) does not conform to MNE naming conventions. All raw files should end with raw.fif, raw_sss.fif, raw_tsss.fif, raw.fif.gz, raw_sss.fif.gz, raw_tsss.fif.gz or _meg.fif\n",
      "  raw.save(fname)\n"
     ]
    },
    {
     "name": "stdout",
     "output_type": "stream",
     "text": [
      "Closing \\\\blur\\ECOABS\\Data\\sub16\\proj\\PROJ0076_SUBJ0016_SER005_FILESNO001.fif\n",
      "[done]\n",
      "sub17\n",
      "Opening raw data file B:\\Data\\sub17\\PROJ0076_SUBJ0017_SER001_FILESNO001.fif...\n",
      "    Read a total of 8 projection items:\n"
     ]
    },
    {
     "name": "stderr",
     "output_type": "stream",
     "text": [
      "<ipython-input-73-967f35f85865>:17: RuntimeWarning: This filename (B:\\Data\\sub17\\PROJ0076_SUBJ0017_SER001_FILESNO001.fif) does not conform to MNE naming conventions. All raw files should end with raw.fif, raw_sss.fif, raw_tsss.fif, raw.fif.gz, raw_sss.fif.gz, raw_tsss.fif.gz or _meg.fif\n",
      "  raw = mne.io.read_raw_fif(f,preload=True)\n"
     ]
    },
    {
     "name": "stdout",
     "output_type": "stream",
     "text": [
      "        grad3v_ssp_upr.fif : PCA-v1 (1 x 306)  idle\n",
      "        grad3v_ssp_upr.fif : PCA-v2 (1 x 306)  idle\n",
      "        grad3v_ssp_upr.fif : PCA-v3 (1 x 306)  idle\n",
      "        mag5v_ssp_upr.fif : PCA-v1 (1 x 306)  idle\n",
      "        mag5v_ssp_upr.fif : PCA-v2 (1 x 306)  idle\n",
      "        mag5v_ssp_upr.fif : PCA-v3 (1 x 306)  idle\n",
      "        mag5v_ssp_upr.fif : PCA-v4 (1 x 306)  idle\n",
      "        mag5v_ssp_upr.fif : PCA-v5 (1 x 306)  idle\n",
      "    Range : 350000 ... 1906999 =    350.000 ...  1906.999 secs\n",
      "Ready.\n",
      "Reading 0 ... 1556999  =      0.000 ...  1556.999 secs...\n"
     ]
    },
    {
     "name": "stderr",
     "output_type": "stream",
     "text": [
      "<ipython-input-73-967f35f85865>:17: DeprecationWarning: The default for on_split_missing is \"warn\" in 0.22 but will change to \"raise\" in 0.23, set it explicitly to avoid this message\n",
      "  raw = mne.io.read_raw_fif(f,preload=True)\n",
      "<ipython-input-73-967f35f85865>:17: RuntimeWarning: Split raw file detected but next file \\\\blur\\ECOABS\\Data\\sub17\\PROJ0076_SUBJ0017_SER001_FILESNO001-1.fif does not exist. Ensure all files were transferred properly and that split and original files were not manually renamed on disk (split files should be renamed by loading and re-saving with MNE-Python to preserve proper filename linkage).\n",
      "  raw = mne.io.read_raw_fif(f,preload=True)\n"
     ]
    },
    {
     "name": "stdout",
     "output_type": "stream",
     "text": [
      "Created an SSP operator (subspace dimension = 3)\n",
      "3 projection items activated\n",
      "SSP projectors applied...\n",
      "Writing \\\\blur\\ECOABS\\Data\\sub17\\proj\\PROJ0076_SUBJ0017_SER001_FILESNO001.fif\n"
     ]
    },
    {
     "name": "stderr",
     "output_type": "stream",
     "text": [
      "<ipython-input-73-967f35f85865>:29: RuntimeWarning: This filename (\\\\blur\\ECOABS\\Data\\sub17\\proj\\PROJ0076_SUBJ0017_SER001_FILESNO001.fif) does not conform to MNE naming conventions. All raw files should end with raw.fif, raw_sss.fif, raw_tsss.fif, raw.fif.gz, raw_sss.fif.gz, raw_tsss.fif.gz or _meg.fif\n",
      "  raw.save(fname)\n"
     ]
    },
    {
     "name": "stdout",
     "output_type": "stream",
     "text": [
      "Closing \\\\blur\\ECOABS\\Data\\sub17\\proj\\PROJ0076_SUBJ0017_SER001_FILESNO001.fif\n",
      "[done]\n",
      "Opening raw data file B:\\Data\\sub17\\PROJ0076_SUBJ0017_SER001_FILESNO002.fif...\n",
      "    Read a total of 8 projection items:\n",
      "        grad3v_ssp_upr.fif : PCA-v1 (1 x 306)  idle\n",
      "        grad3v_ssp_upr.fif : PCA-v2 (1 x 306)  idle\n",
      "        grad3v_ssp_upr.fif : PCA-v3 (1 x 306)  idle\n",
      "        mag5v_ssp_upr.fif : PCA-v1 (1 x 306)  idle\n",
      "        mag5v_ssp_upr.fif : PCA-v2 (1 x 306)  idle\n",
      "        mag5v_ssp_upr.fif : PCA-v3 (1 x 306)  idle\n",
      "        mag5v_ssp_upr.fif : PCA-v4 (1 x 306)  idle\n",
      "        mag5v_ssp_upr.fif : PCA-v5 (1 x 306)  idle\n"
     ]
    },
    {
     "name": "stderr",
     "output_type": "stream",
     "text": [
      "<ipython-input-73-967f35f85865>:17: RuntimeWarning: This filename (B:\\Data\\sub17\\PROJ0076_SUBJ0017_SER001_FILESNO002.fif) does not conform to MNE naming conventions. All raw files should end with raw.fif, raw_sss.fif, raw_tsss.fif, raw.fif.gz, raw_sss.fif.gz, raw_tsss.fif.gz or _meg.fif\n",
      "  raw = mne.io.read_raw_fif(f,preload=True)\n"
     ]
    },
    {
     "name": "stdout",
     "output_type": "stream",
     "text": [
      "    Range : 1907000 ... 2482999 =   1907.000 ...  2482.999 secs\n",
      "Ready.\n",
      "Reading 0 ... 575999  =      0.000 ...   575.999 secs...\n",
      "Created an SSP operator (subspace dimension = 3)\n",
      "3 projection items activated\n",
      "SSP projectors applied...\n",
      "Writing \\\\blur\\ECOABS\\Data\\sub17\\proj\\PROJ0076_SUBJ0017_SER001_FILESNO002.fif\n"
     ]
    },
    {
     "name": "stderr",
     "output_type": "stream",
     "text": [
      "<ipython-input-73-967f35f85865>:29: RuntimeWarning: This filename (\\\\blur\\ECOABS\\Data\\sub17\\proj\\PROJ0076_SUBJ0017_SER001_FILESNO002.fif) does not conform to MNE naming conventions. All raw files should end with raw.fif, raw_sss.fif, raw_tsss.fif, raw.fif.gz, raw_sss.fif.gz, raw_tsss.fif.gz or _meg.fif\n",
      "  raw.save(fname)\n"
     ]
    },
    {
     "name": "stdout",
     "output_type": "stream",
     "text": [
      "Closing \\\\blur\\ECOABS\\Data\\sub17\\proj\\PROJ0076_SUBJ0017_SER001_FILESNO002.fif\n",
      "[done]\n",
      "Opening raw data file B:\\Data\\sub17\\PROJ0076_SUBJ0017_SER002_FILESNO001.fif...\n",
      "    Read a total of 8 projection items:\n",
      "        grad3v_ssp_upr.fif : PCA-v1 (1 x 306)  idle\n",
      "        grad3v_ssp_upr.fif : PCA-v2 (1 x 306)  idle\n",
      "        grad3v_ssp_upr.fif : PCA-v3 (1 x 306)  idle\n",
      "        mag5v_ssp_upr.fif : PCA-v1 (1 x 306)  idle\n",
      "        mag5v_ssp_upr.fif : PCA-v2 (1 x 306)  idle\n",
      "        mag5v_ssp_upr.fif : PCA-v3 (1 x 306)  idle\n",
      "        mag5v_ssp_upr.fif : PCA-v4 (1 x 306)  idle\n",
      "        mag5v_ssp_upr.fif : PCA-v5 (1 x 306)  idle\n"
     ]
    },
    {
     "name": "stderr",
     "output_type": "stream",
     "text": [
      "<ipython-input-73-967f35f85865>:17: RuntimeWarning: This filename (B:\\Data\\sub17\\PROJ0076_SUBJ0017_SER002_FILESNO001.fif) does not conform to MNE naming conventions. All raw files should end with raw.fif, raw_sss.fif, raw_tsss.fif, raw.fif.gz, raw_sss.fif.gz, raw_tsss.fif.gz or _meg.fif\n",
      "  raw = mne.io.read_raw_fif(f,preload=True)\n"
     ]
    },
    {
     "name": "stdout",
     "output_type": "stream",
     "text": [
      "    Range : 65000 ... 765999 =     65.000 ...   765.999 secs\n",
      "Ready.\n",
      "Reading 0 ... 700999  =      0.000 ...   700.999 secs...\n",
      "Created an SSP operator (subspace dimension = 3)\n",
      "3 projection items activated\n",
      "SSP projectors applied...\n",
      "Writing \\\\blur\\ECOABS\\Data\\sub17\\proj\\PROJ0076_SUBJ0017_SER002_FILESNO001.fif\n"
     ]
    },
    {
     "name": "stderr",
     "output_type": "stream",
     "text": [
      "<ipython-input-73-967f35f85865>:29: RuntimeWarning: This filename (\\\\blur\\ECOABS\\Data\\sub17\\proj\\PROJ0076_SUBJ0017_SER002_FILESNO001.fif) does not conform to MNE naming conventions. All raw files should end with raw.fif, raw_sss.fif, raw_tsss.fif, raw.fif.gz, raw_sss.fif.gz, raw_tsss.fif.gz or _meg.fif\n",
      "  raw.save(fname)\n"
     ]
    },
    {
     "name": "stdout",
     "output_type": "stream",
     "text": [
      "Closing \\\\blur\\ECOABS\\Data\\sub17\\proj\\PROJ0076_SUBJ0017_SER002_FILESNO001.fif\n",
      "[done]\n",
      "Opening raw data file B:\\Data\\sub17\\PROJ0076_SUBJ0017_SER003_FILESNO001.fif...\n",
      "    Read a total of 8 projection items:\n",
      "        grad3v_ssp_upr.fif : PCA-v1 (1 x 306)  idle\n",
      "        grad3v_ssp_upr.fif : PCA-v2 (1 x 306)  idle\n",
      "        grad3v_ssp_upr.fif : PCA-v3 (1 x 306)  idle\n",
      "        mag5v_ssp_upr.fif : PCA-v1 (1 x 306)  idle\n",
      "        mag5v_ssp_upr.fif : PCA-v2 (1 x 306)  idle\n",
      "        mag5v_ssp_upr.fif : PCA-v3 (1 x 306)  idle\n",
      "        mag5v_ssp_upr.fif : PCA-v4 (1 x 306)  idle\n",
      "        mag5v_ssp_upr.fif : PCA-v5 (1 x 306)  idle\n"
     ]
    },
    {
     "name": "stderr",
     "output_type": "stream",
     "text": [
      "<ipython-input-73-967f35f85865>:17: RuntimeWarning: This filename (B:\\Data\\sub17\\PROJ0076_SUBJ0017_SER003_FILESNO001.fif) does not conform to MNE naming conventions. All raw files should end with raw.fif, raw_sss.fif, raw_tsss.fif, raw.fif.gz, raw_sss.fif.gz, raw_tsss.fif.gz or _meg.fif\n",
      "  raw = mne.io.read_raw_fif(f,preload=True)\n"
     ]
    },
    {
     "name": "stdout",
     "output_type": "stream",
     "text": [
      "    Range : 54000 ... 720999 =     54.000 ...   720.999 secs\n",
      "Ready.\n",
      "Reading 0 ... 666999  =      0.000 ...   666.999 secs...\n",
      "Created an SSP operator (subspace dimension = 3)\n",
      "3 projection items activated\n",
      "SSP projectors applied...\n",
      "Writing \\\\blur\\ECOABS\\Data\\sub17\\proj\\PROJ0076_SUBJ0017_SER003_FILESNO001.fif\n"
     ]
    },
    {
     "name": "stderr",
     "output_type": "stream",
     "text": [
      "<ipython-input-73-967f35f85865>:29: RuntimeWarning: This filename (\\\\blur\\ECOABS\\Data\\sub17\\proj\\PROJ0076_SUBJ0017_SER003_FILESNO001.fif) does not conform to MNE naming conventions. All raw files should end with raw.fif, raw_sss.fif, raw_tsss.fif, raw.fif.gz, raw_sss.fif.gz, raw_tsss.fif.gz or _meg.fif\n",
      "  raw.save(fname)\n"
     ]
    },
    {
     "name": "stdout",
     "output_type": "stream",
     "text": [
      "Closing \\\\blur\\ECOABS\\Data\\sub17\\proj\\PROJ0076_SUBJ0017_SER003_FILESNO001.fif\n",
      "[done]\n",
      "Opening raw data file B:\\Data\\sub17\\PROJ0076_SUBJ0017_SER004_FILESNO001.fif...\n"
     ]
    },
    {
     "name": "stderr",
     "output_type": "stream",
     "text": [
      "<ipython-input-73-967f35f85865>:17: RuntimeWarning: This filename (B:\\Data\\sub17\\PROJ0076_SUBJ0017_SER004_FILESNO001.fif) does not conform to MNE naming conventions. All raw files should end with raw.fif, raw_sss.fif, raw_tsss.fif, raw.fif.gz, raw_sss.fif.gz, raw_tsss.fif.gz or _meg.fif\n",
      "  raw = mne.io.read_raw_fif(f,preload=True)\n"
     ]
    },
    {
     "name": "stdout",
     "output_type": "stream",
     "text": [
      "    Read a total of 8 projection items:\n",
      "        grad3v_ssp_upr.fif : PCA-v1 (1 x 306)  idle\n",
      "        grad3v_ssp_upr.fif : PCA-v2 (1 x 306)  idle\n",
      "        grad3v_ssp_upr.fif : PCA-v3 (1 x 306)  idle\n",
      "        mag5v_ssp_upr.fif : PCA-v1 (1 x 306)  idle\n",
      "        mag5v_ssp_upr.fif : PCA-v2 (1 x 306)  idle\n",
      "        mag5v_ssp_upr.fif : PCA-v3 (1 x 306)  idle\n",
      "        mag5v_ssp_upr.fif : PCA-v4 (1 x 306)  idle\n",
      "        mag5v_ssp_upr.fif : PCA-v5 (1 x 306)  idle\n",
      "    Range : 83000 ... 745999 =     83.000 ...   745.999 secs\n",
      "Ready.\n",
      "Reading 0 ... 662999  =      0.000 ...   662.999 secs...\n",
      "Created an SSP operator (subspace dimension = 3)\n",
      "3 projection items activated\n",
      "SSP projectors applied...\n",
      "Writing \\\\blur\\ECOABS\\Data\\sub17\\proj\\PROJ0076_SUBJ0017_SER004_FILESNO001.fif\n"
     ]
    },
    {
     "name": "stderr",
     "output_type": "stream",
     "text": [
      "<ipython-input-73-967f35f85865>:29: RuntimeWarning: This filename (\\\\blur\\ECOABS\\Data\\sub17\\proj\\PROJ0076_SUBJ0017_SER004_FILESNO001.fif) does not conform to MNE naming conventions. All raw files should end with raw.fif, raw_sss.fif, raw_tsss.fif, raw.fif.gz, raw_sss.fif.gz, raw_tsss.fif.gz or _meg.fif\n",
      "  raw.save(fname)\n"
     ]
    },
    {
     "name": "stdout",
     "output_type": "stream",
     "text": [
      "Closing \\\\blur\\ECOABS\\Data\\sub17\\proj\\PROJ0076_SUBJ0017_SER004_FILESNO001.fif\n",
      "[done]\n",
      "Opening raw data file B:\\Data\\sub17\\PROJ0076_SUBJ0017_SER005_FILESNO001.fif...\n"
     ]
    },
    {
     "name": "stderr",
     "output_type": "stream",
     "text": [
      "<ipython-input-73-967f35f85865>:17: RuntimeWarning: This filename (B:\\Data\\sub17\\PROJ0076_SUBJ0017_SER005_FILESNO001.fif) does not conform to MNE naming conventions. All raw files should end with raw.fif, raw_sss.fif, raw_tsss.fif, raw.fif.gz, raw_sss.fif.gz, raw_tsss.fif.gz or _meg.fif\n",
      "  raw = mne.io.read_raw_fif(f,preload=True)\n"
     ]
    },
    {
     "name": "stdout",
     "output_type": "stream",
     "text": [
      "    Read a total of 8 projection items:\n",
      "        grad3v_ssp_upr.fif : PCA-v1 (1 x 306)  idle\n",
      "        grad3v_ssp_upr.fif : PCA-v2 (1 x 306)  idle\n",
      "        grad3v_ssp_upr.fif : PCA-v3 (1 x 306)  idle\n",
      "        mag5v_ssp_upr.fif : PCA-v1 (1 x 306)  idle\n",
      "        mag5v_ssp_upr.fif : PCA-v2 (1 x 306)  idle\n",
      "        mag5v_ssp_upr.fif : PCA-v3 (1 x 306)  idle\n",
      "        mag5v_ssp_upr.fif : PCA-v4 (1 x 306)  idle\n",
      "        mag5v_ssp_upr.fif : PCA-v5 (1 x 306)  idle\n",
      "    Range : 279000 ... 932999 =    279.000 ...   932.999 secs\n",
      "Ready.\n",
      "Reading 0 ... 653999  =      0.000 ...   653.999 secs...\n",
      "Created an SSP operator (subspace dimension = 3)\n",
      "3 projection items activated\n",
      "SSP projectors applied...\n",
      "Writing \\\\blur\\ECOABS\\Data\\sub17\\proj\\PROJ0076_SUBJ0017_SER005_FILESNO001.fif\n"
     ]
    },
    {
     "name": "stderr",
     "output_type": "stream",
     "text": [
      "<ipython-input-73-967f35f85865>:29: RuntimeWarning: This filename (\\\\blur\\ECOABS\\Data\\sub17\\proj\\PROJ0076_SUBJ0017_SER005_FILESNO001.fif) does not conform to MNE naming conventions. All raw files should end with raw.fif, raw_sss.fif, raw_tsss.fif, raw.fif.gz, raw_sss.fif.gz, raw_tsss.fif.gz or _meg.fif\n",
      "  raw.save(fname)\n"
     ]
    },
    {
     "name": "stdout",
     "output_type": "stream",
     "text": [
      "Closing \\\\blur\\ECOABS\\Data\\sub17\\proj\\PROJ0076_SUBJ0017_SER005_FILESNO001.fif\n",
      "[done]\n",
      "sub18\n",
      "Opening raw data file B:\\Data\\sub18\\PROJ0076_SUBJ0018_SER001_FILESNO001.fif...\n",
      "    Read a total of 8 projection items:\n",
      "        grad3v_ssp_upr.fif : PCA-v1 (1 x 306)  idle\n",
      "        grad3v_ssp_upr.fif : PCA-v2 (1 x 306)  idle\n",
      "        grad3v_ssp_upr.fif : PCA-v3 (1 x 306)  idle\n",
      "        mag5v_ssp_upr.fif : PCA-v1 (1 x 306)  idle\n",
      "        mag5v_ssp_upr.fif : PCA-v2 (1 x 306)  idle\n",
      "        mag5v_ssp_upr.fif : PCA-v3 (1 x 306)  idle\n",
      "        mag5v_ssp_upr.fif : PCA-v4 (1 x 306)  idle\n",
      "        mag5v_ssp_upr.fif : PCA-v5 (1 x 306)  idle\n"
     ]
    },
    {
     "name": "stderr",
     "output_type": "stream",
     "text": [
      "<ipython-input-73-967f35f85865>:17: RuntimeWarning: This filename (B:\\Data\\sub18\\PROJ0076_SUBJ0018_SER001_FILESNO001.fif) does not conform to MNE naming conventions. All raw files should end with raw.fif, raw_sss.fif, raw_tsss.fif, raw.fif.gz, raw_sss.fif.gz, raw_tsss.fif.gz or _meg.fif\n",
      "  raw = mne.io.read_raw_fif(f,preload=True)\n"
     ]
    },
    {
     "name": "stdout",
     "output_type": "stream",
     "text": [
      "    Range : 405000 ... 1946999 =    405.000 ...  1946.999 secs\n",
      "Ready.\n",
      "Reading 0 ... 1541999  =      0.000 ...  1541.999 secs...\n",
      "Created an SSP operator (subspace dimension = 3)\n",
      "3 projection items activated\n",
      "SSP projectors applied...\n",
      "Writing \\\\blur\\ECOABS\\Data\\sub18\\proj\\PROJ0076_SUBJ0018_SER001_FILESNO001.fif\n"
     ]
    },
    {
     "name": "stderr",
     "output_type": "stream",
     "text": [
      "<ipython-input-73-967f35f85865>:29: RuntimeWarning: This filename (\\\\blur\\ECOABS\\Data\\sub18\\proj\\PROJ0076_SUBJ0018_SER001_FILESNO001.fif) does not conform to MNE naming conventions. All raw files should end with raw.fif, raw_sss.fif, raw_tsss.fif, raw.fif.gz, raw_sss.fif.gz, raw_tsss.fif.gz or _meg.fif\n",
      "  raw.save(fname)\n"
     ]
    },
    {
     "name": "stdout",
     "output_type": "stream",
     "text": [
      "Closing \\\\blur\\ECOABS\\Data\\sub18\\proj\\PROJ0076_SUBJ0018_SER001_FILESNO001.fif\n",
      "[done]\n",
      "Opening raw data file B:\\Data\\sub18\\PROJ0076_SUBJ0018_SER002_FILESNO001.fif...\n",
      "    Read a total of 8 projection items:\n",
      "        grad3v_ssp_upr.fif : PCA-v1 (1 x 306)  idle\n",
      "        grad3v_ssp_upr.fif : PCA-v2 (1 x 306)  idle\n",
      "        grad3v_ssp_upr.fif : PCA-v3 (1 x 306)  idle\n",
      "        mag5v_ssp_upr.fif : PCA-v1 (1 x 306)  idle\n",
      "        mag5v_ssp_upr.fif : PCA-v2 (1 x 306)  idle\n",
      "        mag5v_ssp_upr.fif : PCA-v3 (1 x 306)  idle\n",
      "        mag5v_ssp_upr.fif : PCA-v4 (1 x 306)  idle\n",
      "        mag5v_ssp_upr.fif : PCA-v5 (1 x 306)  idle\n"
     ]
    },
    {
     "name": "stderr",
     "output_type": "stream",
     "text": [
      "<ipython-input-73-967f35f85865>:17: RuntimeWarning: This filename (B:\\Data\\sub18\\PROJ0076_SUBJ0018_SER002_FILESNO001.fif) does not conform to MNE naming conventions. All raw files should end with raw.fif, raw_sss.fif, raw_tsss.fif, raw.fif.gz, raw_sss.fif.gz, raw_tsss.fif.gz or _meg.fif\n",
      "  raw = mne.io.read_raw_fif(f,preload=True)\n"
     ]
    },
    {
     "name": "stdout",
     "output_type": "stream",
     "text": [
      "    Range : 71000 ... 760999 =     71.000 ...   760.999 secs\n",
      "Ready.\n",
      "Reading 0 ... 689999  =      0.000 ...   689.999 secs...\n",
      "Created an SSP operator (subspace dimension = 3)\n",
      "3 projection items activated\n",
      "SSP projectors applied...\n",
      "Writing \\\\blur\\ECOABS\\Data\\sub18\\proj\\PROJ0076_SUBJ0018_SER002_FILESNO001.fif\n"
     ]
    },
    {
     "name": "stderr",
     "output_type": "stream",
     "text": [
      "<ipython-input-73-967f35f85865>:29: RuntimeWarning: This filename (\\\\blur\\ECOABS\\Data\\sub18\\proj\\PROJ0076_SUBJ0018_SER002_FILESNO001.fif) does not conform to MNE naming conventions. All raw files should end with raw.fif, raw_sss.fif, raw_tsss.fif, raw.fif.gz, raw_sss.fif.gz, raw_tsss.fif.gz or _meg.fif\n",
      "  raw.save(fname)\n"
     ]
    },
    {
     "name": "stdout",
     "output_type": "stream",
     "text": [
      "Closing \\\\blur\\ECOABS\\Data\\sub18\\proj\\PROJ0076_SUBJ0018_SER002_FILESNO001.fif\n",
      "[done]\n",
      "Opening raw data file B:\\Data\\sub18\\PROJ0076_SUBJ0018_SER003_FILESNO001.fif...\n",
      "    Read a total of 8 projection items:\n",
      "        grad3v_ssp_upr.fif : PCA-v1 (1 x 306)  idle\n",
      "        grad3v_ssp_upr.fif : PCA-v2 (1 x 306)  idle\n",
      "        grad3v_ssp_upr.fif : PCA-v3 (1 x 306)  idle\n",
      "        mag5v_ssp_upr.fif : PCA-v1 (1 x 306)  idle\n",
      "        mag5v_ssp_upr.fif : PCA-v2 (1 x 306)  idle\n",
      "        mag5v_ssp_upr.fif : PCA-v3 (1 x 306)  idle\n",
      "        mag5v_ssp_upr.fif : PCA-v4 (1 x 306)  idle\n",
      "        mag5v_ssp_upr.fif : PCA-v5 (1 x 306)  idle\n"
     ]
    },
    {
     "name": "stderr",
     "output_type": "stream",
     "text": [
      "<ipython-input-73-967f35f85865>:17: RuntimeWarning: This filename (B:\\Data\\sub18\\PROJ0076_SUBJ0018_SER003_FILESNO001.fif) does not conform to MNE naming conventions. All raw files should end with raw.fif, raw_sss.fif, raw_tsss.fif, raw.fif.gz, raw_sss.fif.gz, raw_tsss.fif.gz or _meg.fif\n",
      "  raw = mne.io.read_raw_fif(f,preload=True)\n"
     ]
    },
    {
     "name": "stdout",
     "output_type": "stream",
     "text": [
      "    Range : 97000 ... 740999 =     97.000 ...   740.999 secs\n",
      "Ready.\n",
      "Reading 0 ... 643999  =      0.000 ...   643.999 secs...\n",
      "Created an SSP operator (subspace dimension = 3)\n",
      "3 projection items activated\n",
      "SSP projectors applied...\n",
      "Writing \\\\blur\\ECOABS\\Data\\sub18\\proj\\PROJ0076_SUBJ0018_SER003_FILESNO001.fif\n"
     ]
    },
    {
     "name": "stderr",
     "output_type": "stream",
     "text": [
      "<ipython-input-73-967f35f85865>:29: RuntimeWarning: This filename (\\\\blur\\ECOABS\\Data\\sub18\\proj\\PROJ0076_SUBJ0018_SER003_FILESNO001.fif) does not conform to MNE naming conventions. All raw files should end with raw.fif, raw_sss.fif, raw_tsss.fif, raw.fif.gz, raw_sss.fif.gz, raw_tsss.fif.gz or _meg.fif\n",
      "  raw.save(fname)\n"
     ]
    },
    {
     "name": "stdout",
     "output_type": "stream",
     "text": [
      "Closing \\\\blur\\ECOABS\\Data\\sub18\\proj\\PROJ0076_SUBJ0018_SER003_FILESNO001.fif\n",
      "[done]\n",
      "Opening raw data file B:\\Data\\sub18\\PROJ0076_SUBJ0018_SER004_FILESNO001.fif...\n"
     ]
    },
    {
     "name": "stderr",
     "output_type": "stream",
     "text": [
      "<ipython-input-73-967f35f85865>:17: RuntimeWarning: This filename (B:\\Data\\sub18\\PROJ0076_SUBJ0018_SER004_FILESNO001.fif) does not conform to MNE naming conventions. All raw files should end with raw.fif, raw_sss.fif, raw_tsss.fif, raw.fif.gz, raw_sss.fif.gz, raw_tsss.fif.gz or _meg.fif\n",
      "  raw = mne.io.read_raw_fif(f,preload=True)\n"
     ]
    },
    {
     "name": "stdout",
     "output_type": "stream",
     "text": [
      "    Read a total of 8 projection items:\n",
      "        grad3v_ssp_upr.fif : PCA-v1 (1 x 306)  idle\n",
      "        grad3v_ssp_upr.fif : PCA-v2 (1 x 306)  idle\n",
      "        grad3v_ssp_upr.fif : PCA-v3 (1 x 306)  idle\n",
      "        mag5v_ssp_upr.fif : PCA-v1 (1 x 306)  idle\n",
      "        mag5v_ssp_upr.fif : PCA-v2 (1 x 306)  idle\n",
      "        mag5v_ssp_upr.fif : PCA-v3 (1 x 306)  idle\n",
      "        mag5v_ssp_upr.fif : PCA-v4 (1 x 306)  idle\n",
      "        mag5v_ssp_upr.fif : PCA-v5 (1 x 306)  idle\n",
      "    Range : 121000 ... 731999 =    121.000 ...   731.999 secs\n",
      "Ready.\n",
      "Reading 0 ... 610999  =      0.000 ...   610.999 secs...\n",
      "Created an SSP operator (subspace dimension = 3)\n",
      "3 projection items activated\n",
      "SSP projectors applied...\n",
      "Writing \\\\blur\\ECOABS\\Data\\sub18\\proj\\PROJ0076_SUBJ0018_SER004_FILESNO001.fif\n"
     ]
    },
    {
     "name": "stderr",
     "output_type": "stream",
     "text": [
      "<ipython-input-73-967f35f85865>:29: RuntimeWarning: This filename (\\\\blur\\ECOABS\\Data\\sub18\\proj\\PROJ0076_SUBJ0018_SER004_FILESNO001.fif) does not conform to MNE naming conventions. All raw files should end with raw.fif, raw_sss.fif, raw_tsss.fif, raw.fif.gz, raw_sss.fif.gz, raw_tsss.fif.gz or _meg.fif\n",
      "  raw.save(fname)\n"
     ]
    },
    {
     "name": "stdout",
     "output_type": "stream",
     "text": [
      "Closing \\\\blur\\ECOABS\\Data\\sub18\\proj\\PROJ0076_SUBJ0018_SER004_FILESNO001.fif\n",
      "[done]\n",
      "Opening raw data file B:\\Data\\sub18\\PROJ0076_SUBJ0018_SER005_FILESNO001.fif...\n",
      "    Read a total of 8 projection items:\n",
      "        grad3v_ssp_upr.fif : PCA-v1 (1 x 306)  idle\n",
      "        grad3v_ssp_upr.fif : PCA-v2 (1 x 306)  idle\n",
      "        grad3v_ssp_upr.fif : PCA-v3 (1 x 306)  idle\n",
      "        mag5v_ssp_upr.fif : PCA-v1 (1 x 306)  idle\n",
      "        mag5v_ssp_upr.fif : PCA-v2 (1 x 306)  idle\n",
      "        mag5v_ssp_upr.fif : PCA-v3 (1 x 306)  idle\n",
      "        mag5v_ssp_upr.fif : PCA-v4 (1 x 306)  idle\n",
      "        mag5v_ssp_upr.fif : PCA-v5 (1 x 306)  idle\n"
     ]
    },
    {
     "name": "stderr",
     "output_type": "stream",
     "text": [
      "<ipython-input-73-967f35f85865>:17: RuntimeWarning: This filename (B:\\Data\\sub18\\PROJ0076_SUBJ0018_SER005_FILESNO001.fif) does not conform to MNE naming conventions. All raw files should end with raw.fif, raw_sss.fif, raw_tsss.fif, raw.fif.gz, raw_sss.fif.gz, raw_tsss.fif.gz or _meg.fif\n",
      "  raw = mne.io.read_raw_fif(f,preload=True)\n"
     ]
    },
    {
     "name": "stdout",
     "output_type": "stream",
     "text": [
      "    Range : 209000 ... 843999 =    209.000 ...   843.999 secs\n",
      "Ready.\n",
      "Reading 0 ... 634999  =      0.000 ...   634.999 secs...\n",
      "Created an SSP operator (subspace dimension = 3)\n",
      "3 projection items activated\n",
      "SSP projectors applied...\n",
      "Writing \\\\blur\\ECOABS\\Data\\sub18\\proj\\PROJ0076_SUBJ0018_SER005_FILESNO001.fif\n"
     ]
    },
    {
     "name": "stderr",
     "output_type": "stream",
     "text": [
      "<ipython-input-73-967f35f85865>:29: RuntimeWarning: This filename (\\\\blur\\ECOABS\\Data\\sub18\\proj\\PROJ0076_SUBJ0018_SER005_FILESNO001.fif) does not conform to MNE naming conventions. All raw files should end with raw.fif, raw_sss.fif, raw_tsss.fif, raw.fif.gz, raw_sss.fif.gz, raw_tsss.fif.gz or _meg.fif\n",
      "  raw.save(fname)\n"
     ]
    },
    {
     "name": "stdout",
     "output_type": "stream",
     "text": [
      "Closing \\\\blur\\ECOABS\\Data\\sub18\\proj\\PROJ0076_SUBJ0018_SER005_FILESNO001.fif\n",
      "[done]\n",
      "sub19\n",
      "Opening raw data file B:\\Data\\sub19\\PROJ0076_SUBJ0019_SER001_FILESNO001.fif...\n",
      "    Read a total of 8 projection items:\n",
      "        grad3v_ssp_upr.fif : PCA-v1 (1 x 306)  idle\n",
      "        grad3v_ssp_upr.fif : PCA-v2 (1 x 306)  idle\n",
      "        grad3v_ssp_upr.fif : PCA-v3 (1 x 306)  idle\n",
      "        mag5v_ssp_upr.fif : PCA-v1 (1 x 306)  idle\n",
      "        mag5v_ssp_upr.fif : PCA-v2 (1 x 306)  idle\n",
      "        mag5v_ssp_upr.fif : PCA-v3 (1 x 306)  idle\n",
      "        mag5v_ssp_upr.fif : PCA-v4 (1 x 306)  idle\n",
      "        mag5v_ssp_upr.fif : PCA-v5 (1 x 306)  idle\n"
     ]
    },
    {
     "name": "stderr",
     "output_type": "stream",
     "text": [
      "<ipython-input-73-967f35f85865>:17: RuntimeWarning: This filename (B:\\Data\\sub19\\PROJ0076_SUBJ0019_SER001_FILESNO001.fif) does not conform to MNE naming conventions. All raw files should end with raw.fif, raw_sss.fif, raw_tsss.fif, raw.fif.gz, raw_sss.fif.gz, raw_tsss.fif.gz or _meg.fif\n",
      "  raw = mne.io.read_raw_fif(f,preload=True)\n"
     ]
    },
    {
     "name": "stdout",
     "output_type": "stream",
     "text": [
      "    Range : 120000 ... 1676999 =    120.000 ...  1676.999 secs\n",
      "Ready.\n",
      "Reading 0 ... 1556999  =      0.000 ...  1556.999 secs...\n"
     ]
    },
    {
     "name": "stderr",
     "output_type": "stream",
     "text": [
      "<ipython-input-73-967f35f85865>:17: DeprecationWarning: The default for on_split_missing is \"warn\" in 0.22 but will change to \"raise\" in 0.23, set it explicitly to avoid this message\n",
      "  raw = mne.io.read_raw_fif(f,preload=True)\n",
      "<ipython-input-73-967f35f85865>:17: RuntimeWarning: Split raw file detected but next file \\\\blur\\ECOABS\\Data\\sub19\\PROJ0076_SUBJ0019_SER001_FILESNO001-1.fif does not exist. Ensure all files were transferred properly and that split and original files were not manually renamed on disk (split files should be renamed by loading and re-saving with MNE-Python to preserve proper filename linkage).\n",
      "  raw = mne.io.read_raw_fif(f,preload=True)\n"
     ]
    },
    {
     "name": "stdout",
     "output_type": "stream",
     "text": [
      "Created an SSP operator (subspace dimension = 3)\n",
      "3 projection items activated\n",
      "SSP projectors applied...\n",
      "Writing \\\\blur\\ECOABS\\Data\\sub19\\proj\\PROJ0076_SUBJ0019_SER001_FILESNO001.fif\n"
     ]
    },
    {
     "name": "stderr",
     "output_type": "stream",
     "text": [
      "<ipython-input-73-967f35f85865>:29: RuntimeWarning: This filename (\\\\blur\\ECOABS\\Data\\sub19\\proj\\PROJ0076_SUBJ0019_SER001_FILESNO001.fif) does not conform to MNE naming conventions. All raw files should end with raw.fif, raw_sss.fif, raw_tsss.fif, raw.fif.gz, raw_sss.fif.gz, raw_tsss.fif.gz or _meg.fif\n",
      "  raw.save(fname)\n"
     ]
    },
    {
     "name": "stdout",
     "output_type": "stream",
     "text": [
      "Closing \\\\blur\\ECOABS\\Data\\sub19\\proj\\PROJ0076_SUBJ0019_SER001_FILESNO001.fif\n",
      "[done]\n",
      "Opening raw data file B:\\Data\\sub19\\PROJ0076_SUBJ0019_SER001_FILESNO002.fif...\n",
      "    Read a total of 8 projection items:\n",
      "        grad3v_ssp_upr.fif : PCA-v1 (1 x 306)  idle\n",
      "        grad3v_ssp_upr.fif : PCA-v2 (1 x 306)  idle\n",
      "        grad3v_ssp_upr.fif : PCA-v3 (1 x 306)  idle\n",
      "        mag5v_ssp_upr.fif : PCA-v1 (1 x 306)  idle\n",
      "        mag5v_ssp_upr.fif : PCA-v2 (1 x 306)  idle\n",
      "        mag5v_ssp_upr.fif : PCA-v3 (1 x 306)  idle\n",
      "        mag5v_ssp_upr.fif : PCA-v4 (1 x 306)  idle\n",
      "        mag5v_ssp_upr.fif : PCA-v5 (1 x 306)  idle\n",
      "    Range : 1677000 ... 1704999 =   1677.000 ...  1704.999 secs\n"
     ]
    },
    {
     "name": "stderr",
     "output_type": "stream",
     "text": [
      "<ipython-input-73-967f35f85865>:17: RuntimeWarning: This filename (B:\\Data\\sub19\\PROJ0076_SUBJ0019_SER001_FILESNO002.fif) does not conform to MNE naming conventions. All raw files should end with raw.fif, raw_sss.fif, raw_tsss.fif, raw.fif.gz, raw_sss.fif.gz, raw_tsss.fif.gz or _meg.fif\n",
      "  raw = mne.io.read_raw_fif(f,preload=True)\n"
     ]
    },
    {
     "name": "stdout",
     "output_type": "stream",
     "text": [
      "Ready.\n",
      "Reading 0 ... 27999  =      0.000 ...    27.999 secs...\n",
      "Created an SSP operator (subspace dimension = 3)\n",
      "3 projection items activated\n",
      "SSP projectors applied...\n",
      "Writing \\\\blur\\ECOABS\\Data\\sub19\\proj\\PROJ0076_SUBJ0019_SER001_FILESNO002.fif\n"
     ]
    },
    {
     "name": "stderr",
     "output_type": "stream",
     "text": [
      "<ipython-input-73-967f35f85865>:29: RuntimeWarning: This filename (\\\\blur\\ECOABS\\Data\\sub19\\proj\\PROJ0076_SUBJ0019_SER001_FILESNO002.fif) does not conform to MNE naming conventions. All raw files should end with raw.fif, raw_sss.fif, raw_tsss.fif, raw.fif.gz, raw_sss.fif.gz, raw_tsss.fif.gz or _meg.fif\n",
      "  raw.save(fname)\n"
     ]
    },
    {
     "name": "stdout",
     "output_type": "stream",
     "text": [
      "Closing \\\\blur\\ECOABS\\Data\\sub19\\proj\\PROJ0076_SUBJ0019_SER001_FILESNO002.fif\n",
      "[done]\n",
      "Opening raw data file B:\\Data\\sub19\\PROJ0076_SUBJ0019_SER002_FILESNO001.fif...\n",
      "    Read a total of 8 projection items:\n",
      "        grad3v_ssp_upr.fif : PCA-v1 (1 x 306)  idle\n",
      "        grad3v_ssp_upr.fif : PCA-v2 (1 x 306)  idle\n",
      "        grad3v_ssp_upr.fif : PCA-v3 (1 x 306)  idle\n",
      "        mag5v_ssp_upr.fif : PCA-v1 (1 x 306)  idle\n",
      "        mag5v_ssp_upr.fif : PCA-v2 (1 x 306)  idle\n",
      "        mag5v_ssp_upr.fif : PCA-v3 (1 x 306)  idle\n",
      "        mag5v_ssp_upr.fif : PCA-v4 (1 x 306)  idle\n",
      "        mag5v_ssp_upr.fif : PCA-v5 (1 x 306)  idle\n"
     ]
    },
    {
     "name": "stderr",
     "output_type": "stream",
     "text": [
      "<ipython-input-73-967f35f85865>:17: RuntimeWarning: This filename (B:\\Data\\sub19\\PROJ0076_SUBJ0019_SER002_FILESNO001.fif) does not conform to MNE naming conventions. All raw files should end with raw.fif, raw_sss.fif, raw_tsss.fif, raw.fif.gz, raw_sss.fif.gz, raw_tsss.fif.gz or _meg.fif\n",
      "  raw = mne.io.read_raw_fif(f,preload=True)\n"
     ]
    },
    {
     "name": "stdout",
     "output_type": "stream",
     "text": [
      "    Range : 125000 ... 799999 =    125.000 ...   799.999 secs\n",
      "Ready.\n",
      "Reading 0 ... 674999  =      0.000 ...   674.999 secs...\n",
      "Created an SSP operator (subspace dimension = 3)\n",
      "3 projection items activated\n",
      "SSP projectors applied...\n",
      "Writing \\\\blur\\ECOABS\\Data\\sub19\\proj\\PROJ0076_SUBJ0019_SER002_FILESNO001.fif\n"
     ]
    },
    {
     "name": "stderr",
     "output_type": "stream",
     "text": [
      "<ipython-input-73-967f35f85865>:29: RuntimeWarning: This filename (\\\\blur\\ECOABS\\Data\\sub19\\proj\\PROJ0076_SUBJ0019_SER002_FILESNO001.fif) does not conform to MNE naming conventions. All raw files should end with raw.fif, raw_sss.fif, raw_tsss.fif, raw.fif.gz, raw_sss.fif.gz, raw_tsss.fif.gz or _meg.fif\n",
      "  raw.save(fname)\n"
     ]
    },
    {
     "name": "stdout",
     "output_type": "stream",
     "text": [
      "Closing \\\\blur\\ECOABS\\Data\\sub19\\proj\\PROJ0076_SUBJ0019_SER002_FILESNO001.fif\n",
      "[done]\n",
      "Opening raw data file B:\\Data\\sub19\\PROJ0076_SUBJ0019_SER003_FILESNO001.fif...\n",
      "    Read a total of 8 projection items:\n",
      "        grad3v_ssp_upr.fif : PCA-v1 (1 x 306)  idle\n",
      "        grad3v_ssp_upr.fif : PCA-v2 (1 x 306)  idle\n",
      "        grad3v_ssp_upr.fif : PCA-v3 (1 x 306)  idle\n",
      "        mag5v_ssp_upr.fif : PCA-v1 (1 x 306)  idle\n",
      "        mag5v_ssp_upr.fif : PCA-v2 (1 x 306)  idle\n",
      "        mag5v_ssp_upr.fif : PCA-v3 (1 x 306)  idle\n",
      "        mag5v_ssp_upr.fif : PCA-v4 (1 x 306)  idle\n",
      "        mag5v_ssp_upr.fif : PCA-v5 (1 x 306)  idle\n",
      "    Range : 171000 ... 833999 =    171.000 ...   833.999 secs\n"
     ]
    },
    {
     "name": "stderr",
     "output_type": "stream",
     "text": [
      "<ipython-input-73-967f35f85865>:17: RuntimeWarning: This filename (B:\\Data\\sub19\\PROJ0076_SUBJ0019_SER003_FILESNO001.fif) does not conform to MNE naming conventions. All raw files should end with raw.fif, raw_sss.fif, raw_tsss.fif, raw.fif.gz, raw_sss.fif.gz, raw_tsss.fif.gz or _meg.fif\n",
      "  raw = mne.io.read_raw_fif(f,preload=True)\n"
     ]
    },
    {
     "name": "stdout",
     "output_type": "stream",
     "text": [
      "Ready.\n",
      "Reading 0 ... 662999  =      0.000 ...   662.999 secs...\n",
      "Created an SSP operator (subspace dimension = 3)\n",
      "3 projection items activated\n",
      "SSP projectors applied...\n",
      "Writing \\\\blur\\ECOABS\\Data\\sub19\\proj\\PROJ0076_SUBJ0019_SER003_FILESNO001.fif\n"
     ]
    },
    {
     "name": "stderr",
     "output_type": "stream",
     "text": [
      "<ipython-input-73-967f35f85865>:29: RuntimeWarning: This filename (\\\\blur\\ECOABS\\Data\\sub19\\proj\\PROJ0076_SUBJ0019_SER003_FILESNO001.fif) does not conform to MNE naming conventions. All raw files should end with raw.fif, raw_sss.fif, raw_tsss.fif, raw.fif.gz, raw_sss.fif.gz, raw_tsss.fif.gz or _meg.fif\n",
      "  raw.save(fname)\n"
     ]
    },
    {
     "name": "stdout",
     "output_type": "stream",
     "text": [
      "Closing \\\\blur\\ECOABS\\Data\\sub19\\proj\\PROJ0076_SUBJ0019_SER003_FILESNO001.fif\n",
      "[done]\n",
      "Opening raw data file B:\\Data\\sub19\\PROJ0076_SUBJ0019_SER004_FILESNO001.fif...\n",
      "    Read a total of 8 projection items:\n",
      "        grad3v_ssp_upr.fif : PCA-v1 (1 x 306)  idle\n",
      "        grad3v_ssp_upr.fif : PCA-v2 (1 x 306)  idle\n",
      "        grad3v_ssp_upr.fif : PCA-v3 (1 x 306)  idle\n",
      "        mag5v_ssp_upr.fif : PCA-v1 (1 x 306)  idle\n",
      "        mag5v_ssp_upr.fif : PCA-v2 (1 x 306)  idle\n",
      "        mag5v_ssp_upr.fif : PCA-v3 (1 x 306)  idle\n",
      "        mag5v_ssp_upr.fif : PCA-v4 (1 x 306)  idle\n",
      "        mag5v_ssp_upr.fif : PCA-v5 (1 x 306)  idle\n"
     ]
    },
    {
     "name": "stderr",
     "output_type": "stream",
     "text": [
      "<ipython-input-73-967f35f85865>:17: RuntimeWarning: This filename (B:\\Data\\sub19\\PROJ0076_SUBJ0019_SER004_FILESNO001.fif) does not conform to MNE naming conventions. All raw files should end with raw.fif, raw_sss.fif, raw_tsss.fif, raw.fif.gz, raw_sss.fif.gz, raw_tsss.fif.gz or _meg.fif\n",
      "  raw = mne.io.read_raw_fif(f,preload=True)\n"
     ]
    },
    {
     "name": "stdout",
     "output_type": "stream",
     "text": [
      "    Range : 104000 ... 764999 =    104.000 ...   764.999 secs\n",
      "Ready.\n",
      "Reading 0 ... 660999  =      0.000 ...   660.999 secs...\n",
      "Created an SSP operator (subspace dimension = 3)\n",
      "3 projection items activated\n",
      "SSP projectors applied...\n",
      "Writing \\\\blur\\ECOABS\\Data\\sub19\\proj\\PROJ0076_SUBJ0019_SER004_FILESNO001.fif\n"
     ]
    },
    {
     "name": "stderr",
     "output_type": "stream",
     "text": [
      "<ipython-input-73-967f35f85865>:29: RuntimeWarning: This filename (\\\\blur\\ECOABS\\Data\\sub19\\proj\\PROJ0076_SUBJ0019_SER004_FILESNO001.fif) does not conform to MNE naming conventions. All raw files should end with raw.fif, raw_sss.fif, raw_tsss.fif, raw.fif.gz, raw_sss.fif.gz, raw_tsss.fif.gz or _meg.fif\n",
      "  raw.save(fname)\n"
     ]
    },
    {
     "name": "stdout",
     "output_type": "stream",
     "text": [
      "Closing \\\\blur\\ECOABS\\Data\\sub19\\proj\\PROJ0076_SUBJ0019_SER004_FILESNO001.fif\n",
      "[done]\n",
      "Opening raw data file B:\\Data\\sub19\\PROJ0076_SUBJ0019_SER005_FILESNO001.fif...\n",
      "    Read a total of 8 projection items:\n",
      "        grad3v_ssp_upr.fif : PCA-v1 (1 x 306)  idle\n",
      "        grad3v_ssp_upr.fif : PCA-v2 (1 x 306)  idle\n",
      "        grad3v_ssp_upr.fif : PCA-v3 (1 x 306)  idle\n",
      "        mag5v_ssp_upr.fif : PCA-v1 (1 x 306)  idle\n",
      "        mag5v_ssp_upr.fif : PCA-v2 (1 x 306)  idle\n",
      "        mag5v_ssp_upr.fif : PCA-v3 (1 x 306)  idle\n",
      "        mag5v_ssp_upr.fif : PCA-v4 (1 x 306)  idle\n",
      "        mag5v_ssp_upr.fif : PCA-v5 (1 x 306)  idle\n"
     ]
    },
    {
     "name": "stderr",
     "output_type": "stream",
     "text": [
      "<ipython-input-73-967f35f85865>:17: RuntimeWarning: This filename (B:\\Data\\sub19\\PROJ0076_SUBJ0019_SER005_FILESNO001.fif) does not conform to MNE naming conventions. All raw files should end with raw.fif, raw_sss.fif, raw_tsss.fif, raw.fif.gz, raw_sss.fif.gz, raw_tsss.fif.gz or _meg.fif\n",
      "  raw = mne.io.read_raw_fif(f,preload=True)\n"
     ]
    },
    {
     "name": "stdout",
     "output_type": "stream",
     "text": [
      "    Range : 43000 ... 687999 =     43.000 ...   687.999 secs\n",
      "Ready.\n",
      "Reading 0 ... 644999  =      0.000 ...   644.999 secs...\n",
      "Created an SSP operator (subspace dimension = 3)\n",
      "3 projection items activated\n",
      "SSP projectors applied...\n",
      "Writing \\\\blur\\ECOABS\\Data\\sub19\\proj\\PROJ0076_SUBJ0019_SER005_FILESNO001.fif\n"
     ]
    },
    {
     "name": "stderr",
     "output_type": "stream",
     "text": [
      "<ipython-input-73-967f35f85865>:29: RuntimeWarning: This filename (\\\\blur\\ECOABS\\Data\\sub19\\proj\\PROJ0076_SUBJ0019_SER005_FILESNO001.fif) does not conform to MNE naming conventions. All raw files should end with raw.fif, raw_sss.fif, raw_tsss.fif, raw.fif.gz, raw_sss.fif.gz, raw_tsss.fif.gz or _meg.fif\n",
      "  raw.save(fname)\n"
     ]
    },
    {
     "name": "stdout",
     "output_type": "stream",
     "text": [
      "Closing \\\\blur\\ECOABS\\Data\\sub19\\proj\\PROJ0076_SUBJ0019_SER005_FILESNO001.fif\n",
      "[done]\n",
      "sub20\n",
      "Opening raw data file B:\\Data\\sub20\\PROJ0076_SUBJ0020_SER001_FILESNO001.fif...\n"
     ]
    },
    {
     "name": "stderr",
     "output_type": "stream",
     "text": [
      "<ipython-input-73-967f35f85865>:17: RuntimeWarning: This filename (B:\\Data\\sub20\\PROJ0076_SUBJ0020_SER001_FILESNO001.fif) does not conform to MNE naming conventions. All raw files should end with raw.fif, raw_sss.fif, raw_tsss.fif, raw.fif.gz, raw_sss.fif.gz, raw_tsss.fif.gz or _meg.fif\n",
      "  raw = mne.io.read_raw_fif(f,preload=True)\n"
     ]
    },
    {
     "name": "stdout",
     "output_type": "stream",
     "text": [
      "    Read a total of 8 projection items:\n",
      "        grad3v_ssp_upr.fif : PCA-v1 (1 x 306)  idle\n",
      "        grad3v_ssp_upr.fif : PCA-v2 (1 x 306)  idle\n",
      "        grad3v_ssp_upr.fif : PCA-v3 (1 x 306)  idle\n",
      "        mag5v_ssp_upr.fif : PCA-v1 (1 x 306)  idle\n",
      "        mag5v_ssp_upr.fif : PCA-v2 (1 x 306)  idle\n",
      "        mag5v_ssp_upr.fif : PCA-v3 (1 x 306)  idle\n",
      "        mag5v_ssp_upr.fif : PCA-v4 (1 x 306)  idle\n",
      "        mag5v_ssp_upr.fif : PCA-v5 (1 x 306)  idle\n",
      "    Range : 160000 ... 1716999 =    160.000 ...  1716.999 secs\n",
      "Ready.\n",
      "Reading 0 ... 1556999  =      0.000 ...  1556.999 secs...\n"
     ]
    },
    {
     "name": "stderr",
     "output_type": "stream",
     "text": [
      "<ipython-input-73-967f35f85865>:17: DeprecationWarning: The default for on_split_missing is \"warn\" in 0.22 but will change to \"raise\" in 0.23, set it explicitly to avoid this message\n",
      "  raw = mne.io.read_raw_fif(f,preload=True)\n",
      "<ipython-input-73-967f35f85865>:17: RuntimeWarning: Split raw file detected but next file \\\\blur\\ECOABS\\Data\\sub20\\PROJ0076_SUBJ0020_SER001_FILESNO001-1.fif does not exist. Ensure all files were transferred properly and that split and original files were not manually renamed on disk (split files should be renamed by loading and re-saving with MNE-Python to preserve proper filename linkage).\n",
      "  raw = mne.io.read_raw_fif(f,preload=True)\n"
     ]
    },
    {
     "name": "stdout",
     "output_type": "stream",
     "text": [
      "Created an SSP operator (subspace dimension = 3)\n",
      "3 projection items activated\n",
      "SSP projectors applied...\n",
      "Writing \\\\blur\\ECOABS\\Data\\sub20\\proj\\PROJ0076_SUBJ0020_SER001_FILESNO001.fif\n"
     ]
    },
    {
     "name": "stderr",
     "output_type": "stream",
     "text": [
      "<ipython-input-73-967f35f85865>:29: RuntimeWarning: This filename (\\\\blur\\ECOABS\\Data\\sub20\\proj\\PROJ0076_SUBJ0020_SER001_FILESNO001.fif) does not conform to MNE naming conventions. All raw files should end with raw.fif, raw_sss.fif, raw_tsss.fif, raw.fif.gz, raw_sss.fif.gz, raw_tsss.fif.gz or _meg.fif\n",
      "  raw.save(fname)\n"
     ]
    },
    {
     "name": "stdout",
     "output_type": "stream",
     "text": [
      "Closing \\\\blur\\ECOABS\\Data\\sub20\\proj\\PROJ0076_SUBJ0020_SER001_FILESNO001.fif\n",
      "[done]\n",
      "Opening raw data file B:\\Data\\sub20\\PROJ0076_SUBJ0020_SER001_FILESNO002.fif...\n"
     ]
    },
    {
     "name": "stderr",
     "output_type": "stream",
     "text": [
      "<ipython-input-73-967f35f85865>:17: RuntimeWarning: This filename (B:\\Data\\sub20\\PROJ0076_SUBJ0020_SER001_FILESNO002.fif) does not conform to MNE naming conventions. All raw files should end with raw.fif, raw_sss.fif, raw_tsss.fif, raw.fif.gz, raw_sss.fif.gz, raw_tsss.fif.gz or _meg.fif\n",
      "  raw = mne.io.read_raw_fif(f,preload=True)\n"
     ]
    },
    {
     "name": "stdout",
     "output_type": "stream",
     "text": [
      "    Read a total of 8 projection items:\n",
      "        grad3v_ssp_upr.fif : PCA-v1 (1 x 306)  idle\n",
      "        grad3v_ssp_upr.fif : PCA-v2 (1 x 306)  idle\n",
      "        grad3v_ssp_upr.fif : PCA-v3 (1 x 306)  idle\n",
      "        mag5v_ssp_upr.fif : PCA-v1 (1 x 306)  idle\n",
      "        mag5v_ssp_upr.fif : PCA-v2 (1 x 306)  idle\n",
      "        mag5v_ssp_upr.fif : PCA-v3 (1 x 306)  idle\n",
      "        mag5v_ssp_upr.fif : PCA-v4 (1 x 306)  idle\n",
      "        mag5v_ssp_upr.fif : PCA-v5 (1 x 306)  idle\n",
      "    Range : 1717000 ... 1722999 =   1717.000 ...  1722.999 secs\n",
      "Ready.\n",
      "Reading 0 ... 5999  =      0.000 ...     5.999 secs...\n",
      "Created an SSP operator (subspace dimension = 3)\n",
      "3 projection items activated\n",
      "SSP projectors applied...\n",
      "Writing \\\\blur\\ECOABS\\Data\\sub20\\proj\\PROJ0076_SUBJ0020_SER001_FILESNO002.fif\n"
     ]
    },
    {
     "name": "stderr",
     "output_type": "stream",
     "text": [
      "<ipython-input-73-967f35f85865>:29: RuntimeWarning: This filename (\\\\blur\\ECOABS\\Data\\sub20\\proj\\PROJ0076_SUBJ0020_SER001_FILESNO002.fif) does not conform to MNE naming conventions. All raw files should end with raw.fif, raw_sss.fif, raw_tsss.fif, raw.fif.gz, raw_sss.fif.gz, raw_tsss.fif.gz or _meg.fif\n",
      "  raw.save(fname)\n"
     ]
    },
    {
     "name": "stdout",
     "output_type": "stream",
     "text": [
      "Closing \\\\blur\\ECOABS\\Data\\sub20\\proj\\PROJ0076_SUBJ0020_SER001_FILESNO002.fif\n",
      "[done]\n",
      "Opening raw data file B:\\Data\\sub20\\PROJ0076_SUBJ0020_SER002_FILESNO001.fif...\n",
      "    Read a total of 8 projection items:\n",
      "        grad3v_ssp_upr.fif : PCA-v1 (1 x 306)  idle\n",
      "        grad3v_ssp_upr.fif : PCA-v2 (1 x 306)  idle\n",
      "        grad3v_ssp_upr.fif : PCA-v3 (1 x 306)  idle\n",
      "        mag5v_ssp_upr.fif : PCA-v1 (1 x 306)  idle\n",
      "        mag5v_ssp_upr.fif : PCA-v2 (1 x 306)  idle\n",
      "        mag5v_ssp_upr.fif : PCA-v3 (1 x 306)  idle\n",
      "        mag5v_ssp_upr.fif : PCA-v4 (1 x 306)  idle\n",
      "        mag5v_ssp_upr.fif : PCA-v5 (1 x 306)  idle\n"
     ]
    },
    {
     "name": "stderr",
     "output_type": "stream",
     "text": [
      "<ipython-input-73-967f35f85865>:17: RuntimeWarning: This filename (B:\\Data\\sub20\\PROJ0076_SUBJ0020_SER002_FILESNO001.fif) does not conform to MNE naming conventions. All raw files should end with raw.fif, raw_sss.fif, raw_tsss.fif, raw.fif.gz, raw_sss.fif.gz, raw_tsss.fif.gz or _meg.fif\n",
      "  raw = mne.io.read_raw_fif(f,preload=True)\n"
     ]
    },
    {
     "name": "stdout",
     "output_type": "stream",
     "text": [
      "    Range : 322000 ... 1036999 =    322.000 ...  1036.999 secs\n",
      "Ready.\n",
      "Reading 0 ... 714999  =      0.000 ...   714.999 secs...\n",
      "Created an SSP operator (subspace dimension = 3)\n",
      "3 projection items activated\n",
      "SSP projectors applied...\n",
      "Writing \\\\blur\\ECOABS\\Data\\sub20\\proj\\PROJ0076_SUBJ0020_SER002_FILESNO001.fif\n"
     ]
    },
    {
     "name": "stderr",
     "output_type": "stream",
     "text": [
      "<ipython-input-73-967f35f85865>:29: RuntimeWarning: This filename (\\\\blur\\ECOABS\\Data\\sub20\\proj\\PROJ0076_SUBJ0020_SER002_FILESNO001.fif) does not conform to MNE naming conventions. All raw files should end with raw.fif, raw_sss.fif, raw_tsss.fif, raw.fif.gz, raw_sss.fif.gz, raw_tsss.fif.gz or _meg.fif\n",
      "  raw.save(fname)\n"
     ]
    },
    {
     "name": "stdout",
     "output_type": "stream",
     "text": [
      "Closing \\\\blur\\ECOABS\\Data\\sub20\\proj\\PROJ0076_SUBJ0020_SER002_FILESNO001.fif\n",
      "[done]\n",
      "Opening raw data file B:\\Data\\sub20\\PROJ0076_SUBJ0020_SER003_FILESNO001.fif...\n",
      "    Read a total of 8 projection items:\n",
      "        grad3v_ssp_upr.fif : PCA-v1 (1 x 306)  idle\n",
      "        grad3v_ssp_upr.fif : PCA-v2 (1 x 306)  idle\n",
      "        grad3v_ssp_upr.fif : PCA-v3 (1 x 306)  idle\n",
      "        mag5v_ssp_upr.fif : PCA-v1 (1 x 306)  idle\n",
      "        mag5v_ssp_upr.fif : PCA-v2 (1 x 306)  idle\n",
      "        mag5v_ssp_upr.fif : PCA-v3 (1 x 306)  idle\n",
      "        mag5v_ssp_upr.fif : PCA-v4 (1 x 306)  idle\n",
      "        mag5v_ssp_upr.fif : PCA-v5 (1 x 306)  idle\n"
     ]
    },
    {
     "name": "stderr",
     "output_type": "stream",
     "text": [
      "<ipython-input-73-967f35f85865>:17: RuntimeWarning: This filename (B:\\Data\\sub20\\PROJ0076_SUBJ0020_SER003_FILESNO001.fif) does not conform to MNE naming conventions. All raw files should end with raw.fif, raw_sss.fif, raw_tsss.fif, raw.fif.gz, raw_sss.fif.gz, raw_tsss.fif.gz or _meg.fif\n",
      "  raw = mne.io.read_raw_fif(f,preload=True)\n"
     ]
    },
    {
     "name": "stdout",
     "output_type": "stream",
     "text": [
      "    Range : 107000 ... 762999 =    107.000 ...   762.999 secs\n",
      "Ready.\n",
      "Reading 0 ... 655999  =      0.000 ...   655.999 secs...\n",
      "Created an SSP operator (subspace dimension = 3)\n",
      "3 projection items activated\n",
      "SSP projectors applied...\n",
      "Writing \\\\blur\\ECOABS\\Data\\sub20\\proj\\PROJ0076_SUBJ0020_SER003_FILESNO001.fif\n"
     ]
    },
    {
     "name": "stderr",
     "output_type": "stream",
     "text": [
      "<ipython-input-73-967f35f85865>:29: RuntimeWarning: This filename (\\\\blur\\ECOABS\\Data\\sub20\\proj\\PROJ0076_SUBJ0020_SER003_FILESNO001.fif) does not conform to MNE naming conventions. All raw files should end with raw.fif, raw_sss.fif, raw_tsss.fif, raw.fif.gz, raw_sss.fif.gz, raw_tsss.fif.gz or _meg.fif\n",
      "  raw.save(fname)\n"
     ]
    },
    {
     "name": "stdout",
     "output_type": "stream",
     "text": [
      "Closing \\\\blur\\ECOABS\\Data\\sub20\\proj\\PROJ0076_SUBJ0020_SER003_FILESNO001.fif\n",
      "[done]\n",
      "Opening raw data file B:\\Data\\sub20\\PROJ0076_SUBJ0020_SER004_FILESNO001.fif...\n",
      "    Read a total of 8 projection items:\n",
      "        grad3v_ssp_upr.fif : PCA-v1 (1 x 306)  idle\n",
      "        grad3v_ssp_upr.fif : PCA-v2 (1 x 306)  idle\n",
      "        grad3v_ssp_upr.fif : PCA-v3 (1 x 306)  idle\n",
      "        mag5v_ssp_upr.fif : PCA-v1 (1 x 306)  idle\n",
      "        mag5v_ssp_upr.fif : PCA-v2 (1 x 306)  idle\n",
      "        mag5v_ssp_upr.fif : PCA-v3 (1 x 306)  idle\n",
      "        mag5v_ssp_upr.fif : PCA-v4 (1 x 306)  idle\n",
      "        mag5v_ssp_upr.fif : PCA-v5 (1 x 306)  idle\n"
     ]
    },
    {
     "name": "stderr",
     "output_type": "stream",
     "text": [
      "<ipython-input-73-967f35f85865>:17: RuntimeWarning: This filename (B:\\Data\\sub20\\PROJ0076_SUBJ0020_SER004_FILESNO001.fif) does not conform to MNE naming conventions. All raw files should end with raw.fif, raw_sss.fif, raw_tsss.fif, raw.fif.gz, raw_sss.fif.gz, raw_tsss.fif.gz or _meg.fif\n",
      "  raw = mne.io.read_raw_fif(f,preload=True)\n"
     ]
    },
    {
     "name": "stdout",
     "output_type": "stream",
     "text": [
      "    Range : 276000 ... 940999 =    276.000 ...   940.999 secs\n",
      "Ready.\n",
      "Reading 0 ... 664999  =      0.000 ...   664.999 secs...\n",
      "Created an SSP operator (subspace dimension = 3)\n",
      "3 projection items activated\n",
      "SSP projectors applied...\n",
      "Writing \\\\blur\\ECOABS\\Data\\sub20\\proj\\PROJ0076_SUBJ0020_SER004_FILESNO001.fif\n"
     ]
    },
    {
     "name": "stderr",
     "output_type": "stream",
     "text": [
      "<ipython-input-73-967f35f85865>:29: RuntimeWarning: This filename (\\\\blur\\ECOABS\\Data\\sub20\\proj\\PROJ0076_SUBJ0020_SER004_FILESNO001.fif) does not conform to MNE naming conventions. All raw files should end with raw.fif, raw_sss.fif, raw_tsss.fif, raw.fif.gz, raw_sss.fif.gz, raw_tsss.fif.gz or _meg.fif\n",
      "  raw.save(fname)\n"
     ]
    },
    {
     "name": "stdout",
     "output_type": "stream",
     "text": [
      "Closing \\\\blur\\ECOABS\\Data\\sub20\\proj\\PROJ0076_SUBJ0020_SER004_FILESNO001.fif\n",
      "[done]\n",
      "Opening raw data file B:\\Data\\sub20\\PROJ0076_SUBJ0020_SER005_FILESNO001.fif...\n",
      "    Read a total of 8 projection items:\n",
      "        grad3v_ssp_upr.fif : PCA-v1 (1 x 306)  idle\n",
      "        grad3v_ssp_upr.fif : PCA-v2 (1 x 306)  idle\n",
      "        grad3v_ssp_upr.fif : PCA-v3 (1 x 306)  idle\n",
      "        mag5v_ssp_upr.fif : PCA-v1 (1 x 306)  idle\n",
      "        mag5v_ssp_upr.fif : PCA-v2 (1 x 306)  idle\n",
      "        mag5v_ssp_upr.fif : PCA-v3 (1 x 306)  idle\n",
      "        mag5v_ssp_upr.fif : PCA-v4 (1 x 306)  idle\n",
      "        mag5v_ssp_upr.fif : PCA-v5 (1 x 306)  idle\n",
      "    Range : 86000 ... 748999 =     86.000 ...   748.999 secs\n"
     ]
    },
    {
     "name": "stderr",
     "output_type": "stream",
     "text": [
      "<ipython-input-73-967f35f85865>:17: RuntimeWarning: This filename (B:\\Data\\sub20\\PROJ0076_SUBJ0020_SER005_FILESNO001.fif) does not conform to MNE naming conventions. All raw files should end with raw.fif, raw_sss.fif, raw_tsss.fif, raw.fif.gz, raw_sss.fif.gz, raw_tsss.fif.gz or _meg.fif\n",
      "  raw = mne.io.read_raw_fif(f,preload=True)\n"
     ]
    },
    {
     "name": "stdout",
     "output_type": "stream",
     "text": [
      "Ready.\n",
      "Reading 0 ... 662999  =      0.000 ...   662.999 secs...\n",
      "Created an SSP operator (subspace dimension = 3)\n",
      "3 projection items activated\n",
      "SSP projectors applied...\n",
      "Writing \\\\blur\\ECOABS\\Data\\sub20\\proj\\PROJ0076_SUBJ0020_SER005_FILESNO001.fif\n"
     ]
    },
    {
     "name": "stderr",
     "output_type": "stream",
     "text": [
      "<ipython-input-73-967f35f85865>:29: RuntimeWarning: This filename (\\\\blur\\ECOABS\\Data\\sub20\\proj\\PROJ0076_SUBJ0020_SER005_FILESNO001.fif) does not conform to MNE naming conventions. All raw files should end with raw.fif, raw_sss.fif, raw_tsss.fif, raw.fif.gz, raw_sss.fif.gz, raw_tsss.fif.gz or _meg.fif\n",
      "  raw.save(fname)\n"
     ]
    },
    {
     "name": "stdout",
     "output_type": "stream",
     "text": [
      "Closing \\\\blur\\ECOABS\\Data\\sub20\\proj\\PROJ0076_SUBJ0020_SER005_FILESNO001.fif\n",
      "[done]\n"
     ]
    }
   ],
   "source": [
    "\n",
    "## apply a subset of  projs\n",
    "\n",
    "# just an example\n",
    "for subj_folder in glob('B:\\Data\\sub*'):\n",
    "    \n",
    "    if subj_folder[-1] =='F' or subj_folder[-1] =='1':\n",
    "        continue\n",
    "    \n",
    "    \n",
    "    subject = subj_folder[-5:]\n",
    "    print(subject)\n",
    "    \n",
    "    \n",
    "    for f in glob(subj_folder+'\\*.fif'):\n",
    "    \n",
    "\n",
    "        raw = mne.io.read_raw_fif(f,preload=True)\n",
    "        ## only removing x, y and z gradients                           \n",
    "        raw.info['projs'] = raw.info['projs'][3:4] + raw.info['projs'][5:7] \n",
    "        raw.apply_proj()\n",
    "        output_dir= \"B:\\Data\"\n",
    "    \n",
    "        \n",
    "        fname = os.path.join(output_dir,subject,'proj',f.split('\\\\')[-1])\n",
    "        \n",
    "        if not os.path.isdir(os.path.join(output_dir,subject,'proj')):\n",
    "            os.mkdir(os.path.join(output_dir,subject,'proj'))\n",
    "        \n",
    "        raw.save(fname)"
   ]
  },
  {
   "cell_type": "code",
   "execution_count": 21,
   "metadata": {},
   "outputs": [],
   "source": [
    "output_dir= 'B:\\Data\\sub02\\proj"
   ]
  },
  {
   "cell_type": "code",
   "execution_count": 30,
   "metadata": {},
   "outputs": [
    {
     "data": {
      "text/plain": [
       "'B:\\\\Data\\\\sub02\\\\proj'"
      ]
     },
     "execution_count": 30,
     "metadata": {},
     "output_type": "execute_result"
    }
   ],
   "source": [
    "output_dir"
   ]
  },
  {
   "cell_type": "code",
   "execution_count": 48,
   "metadata": {},
   "outputs": [
    {
     "name": "stdout",
     "output_type": "stream",
     "text": [
      "B:\\Data\\sub02\\proj\\PROJ0076_SUBJ0002_SER001_FILESNO001.fif\n"
     ]
    }
   ],
   "source": [
    "output_dir= \"B:\\Data\\sub02\\proj\"\n",
    "print(os.path.join(output_dir,f.split('\\\\')[-1]))"
   ]
  },
  {
   "cell_type": "code",
   "execution_count": 43,
   "metadata": {},
   "outputs": [
    {
     "name": "stdout",
     "output_type": "stream",
     "text": [
      "B:\\Data\\sub02\\PROJ0076_SUBJ0002_SER001_FILESNO001.fif\n"
     ]
    }
   ],
   "source": [
    "print(fname)"
   ]
  },
  {
   "cell_type": "code",
   "execution_count": 40,
   "metadata": {},
   "outputs": [
    {
     "data": {
      "text/plain": [
       "'B:/Data/sub02/proj'"
      ]
     },
     "execution_count": 40,
     "metadata": {},
     "output_type": "execute_result"
    }
   ],
   "source": [
    "output_dir"
   ]
  },
  {
   "cell_type": "code",
   "execution_count": 45,
   "metadata": {},
   "outputs": [
    {
     "data": {
      "text/plain": [
       "'B:\\\\Data\\\\sub02\\\\PROJ0076_SUBJ0002_SER001_FILESNO001.fif'"
      ]
     },
     "execution_count": 45,
     "metadata": {},
     "output_type": "execute_result"
    }
   ],
   "source": [
    "f"
   ]
  },
  {
   "cell_type": "code",
   "execution_count": null,
   "metadata": {},
   "outputs": [],
   "source": []
  }
 ],
 "metadata": {
  "kernelspec": {
   "display_name": "Python 3",
   "language": "python",
   "name": "python3"
  },
  "language_info": {
   "codemirror_mode": {
    "name": "ipython",
    "version": 3
   },
   "file_extension": ".py",
   "mimetype": "text/x-python",
   "name": "python",
   "nbconvert_exporter": "python",
   "pygments_lexer": "ipython3",
   "version": "3.8.5"
  }
 },
 "nbformat": 4,
 "nbformat_minor": 4
}
