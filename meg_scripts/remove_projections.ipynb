{
 "cells": [
  {
   "cell_type": "code",
   "execution_count": 1,
   "metadata": {},
   "outputs": [],
   "source": [
    "import mne\n",
    "from glob import glob\n",
    "import os"
   ]
  },
  {
   "cell_type": "code",
   "execution_count": 3,
   "metadata": {
    "scrolled": true
   },
   "outputs": [
    {
     "name": "stdout",
     "output_type": "stream",
     "text": [
      "sub11\n",
      "Opening raw data file B:\\Data\\sub11\\PROJ0076_SUBJ0011_SER001_FILESNO001.fif...\n"
     ]
    },
    {
     "name": "stderr",
     "output_type": "stream",
     "text": [
      "<ipython-input-3-61c07cc77cdc>:17: RuntimeWarning: This filename (B:\\Data\\sub11\\PROJ0076_SUBJ0011_SER001_FILESNO001.fif) does not conform to MNE naming conventions. All raw files should end with raw.fif, raw_sss.fif, raw_tsss.fif, raw.fif.gz, raw_sss.fif.gz, raw_tsss.fif.gz or _meg.fif\n",
      "  raw = mne.io.read_raw_fif(f,preload=True)\n"
     ]
    },
    {
     "name": "stdout",
     "output_type": "stream",
     "text": [
      "    Read a total of 8 projection items:\n",
      "        grad3v_ssp_upr.fif : PCA-v1 (1 x 306)  idle\n",
      "        grad3v_ssp_upr.fif : PCA-v2 (1 x 306)  idle\n",
      "        grad3v_ssp_upr.fif : PCA-v3 (1 x 306)  idle\n",
      "        mag5v_ssp_upr.fif : PCA-v1 (1 x 306)  idle\n",
      "        mag5v_ssp_upr.fif : PCA-v2 (1 x 306)  idle\n",
      "        mag5v_ssp_upr.fif : PCA-v3 (1 x 306)  idle\n",
      "        mag5v_ssp_upr.fif : PCA-v4 (1 x 306)  idle\n",
      "        mag5v_ssp_upr.fif : PCA-v5 (1 x 306)  idle\n",
      "    Range : 300000 ... 1745999 =    300.000 ...  1745.999 secs\n",
      "Ready.\n",
      "Reading 0 ... 1445999  =      0.000 ...  1445.999 secs...\n",
      "Created an SSP operator (subspace dimension = 3)\n",
      "3 projection items activated\n",
      "SSP projectors applied...\n",
      "Writing \\\\blur\\ECOABS\\Data\\sub11\\proj\\PROJ0076_SUBJ0011_SER001_FILESNO001.fif\n"
     ]
    },
    {
     "name": "stderr",
     "output_type": "stream",
     "text": [
      "<ipython-input-3-61c07cc77cdc>:29: RuntimeWarning: This filename (\\\\blur\\ECOABS\\Data\\sub11\\proj\\PROJ0076_SUBJ0011_SER001_FILESNO001.fif) does not conform to MNE naming conventions. All raw files should end with raw.fif, raw_sss.fif, raw_tsss.fif, raw.fif.gz, raw_sss.fif.gz, raw_tsss.fif.gz or _meg.fif\n",
      "  raw.save(fname)\n"
     ]
    },
    {
     "name": "stdout",
     "output_type": "stream",
     "text": [
      "Closing \\\\blur\\ECOABS\\Data\\sub11\\proj\\PROJ0076_SUBJ0011_SER001_FILESNO001.fif\n",
      "[done]\n",
      "Opening raw data file B:\\Data\\sub11\\PROJ0076_SUBJ0011_SER002_FILESNO001.fif...\n",
      "    Read a total of 8 projection items:\n",
      "        grad3v_ssp_upr.fif : PCA-v1 (1 x 306)  idle\n",
      "        grad3v_ssp_upr.fif : PCA-v2 (1 x 306)  idle\n",
      "        grad3v_ssp_upr.fif : PCA-v3 (1 x 306)  idle\n",
      "        mag5v_ssp_upr.fif : PCA-v1 (1 x 306)  idle\n",
      "        mag5v_ssp_upr.fif : PCA-v2 (1 x 306)  idle\n"
     ]
    },
    {
     "name": "stderr",
     "output_type": "stream",
     "text": [
      "<ipython-input-3-61c07cc77cdc>:17: RuntimeWarning: This filename (B:\\Data\\sub11\\PROJ0076_SUBJ0011_SER002_FILESNO001.fif) does not conform to MNE naming conventions. All raw files should end with raw.fif, raw_sss.fif, raw_tsss.fif, raw.fif.gz, raw_sss.fif.gz, raw_tsss.fif.gz or _meg.fif\n",
      "  raw = mne.io.read_raw_fif(f,preload=True)\n"
     ]
    },
    {
     "name": "stdout",
     "output_type": "stream",
     "text": [
      "        mag5v_ssp_upr.fif : PCA-v3 (1 x 306)  idle\n",
      "        mag5v_ssp_upr.fif : PCA-v4 (1 x 306)  idle\n",
      "        mag5v_ssp_upr.fif : PCA-v5 (1 x 306)  idle\n",
      "    Range : 63000 ... 693999 =     63.000 ...   693.999 secs\n",
      "Ready.\n",
      "Reading 0 ... 630999  =      0.000 ...   630.999 secs...\n",
      "Created an SSP operator (subspace dimension = 3)\n",
      "3 projection items activated\n",
      "SSP projectors applied...\n",
      "Writing \\\\blur\\ECOABS\\Data\\sub11\\proj\\PROJ0076_SUBJ0011_SER002_FILESNO001.fif\n"
     ]
    },
    {
     "name": "stderr",
     "output_type": "stream",
     "text": [
      "<ipython-input-3-61c07cc77cdc>:29: RuntimeWarning: This filename (\\\\blur\\ECOABS\\Data\\sub11\\proj\\PROJ0076_SUBJ0011_SER002_FILESNO001.fif) does not conform to MNE naming conventions. All raw files should end with raw.fif, raw_sss.fif, raw_tsss.fif, raw.fif.gz, raw_sss.fif.gz, raw_tsss.fif.gz or _meg.fif\n",
      "  raw.save(fname)\n"
     ]
    },
    {
     "name": "stdout",
     "output_type": "stream",
     "text": [
      "Closing \\\\blur\\ECOABS\\Data\\sub11\\proj\\PROJ0076_SUBJ0011_SER002_FILESNO001.fif\n",
      "[done]\n",
      "Opening raw data file B:\\Data\\sub11\\PROJ0076_SUBJ0011_SER003_FILESNO001.fif...\n",
      "    Read a total of 8 projection items:\n",
      "        grad3v_ssp_upr.fif : PCA-v1 (1 x 306)  idle\n",
      "        grad3v_ssp_upr.fif : PCA-v2 (1 x 306)  idle\n",
      "        grad3v_ssp_upr.fif : PCA-v3 (1 x 306)  idle\n",
      "        mag5v_ssp_upr.fif : PCA-v1 (1 x 306)  idle\n",
      "        mag5v_ssp_upr.fif : PCA-v2 (1 x 306)  idle\n",
      "        mag5v_ssp_upr.fif : PCA-v3 (1 x 306)  idle\n",
      "        mag5v_ssp_upr.fif : PCA-v4 (1 x 306)  idle\n",
      "        mag5v_ssp_upr.fif : PCA-v5 (1 x 306)  idle\n"
     ]
    },
    {
     "name": "stderr",
     "output_type": "stream",
     "text": [
      "<ipython-input-3-61c07cc77cdc>:17: RuntimeWarning: This filename (B:\\Data\\sub11\\PROJ0076_SUBJ0011_SER003_FILESNO001.fif) does not conform to MNE naming conventions. All raw files should end with raw.fif, raw_sss.fif, raw_tsss.fif, raw.fif.gz, raw_sss.fif.gz, raw_tsss.fif.gz or _meg.fif\n",
      "  raw = mne.io.read_raw_fif(f,preload=True)\n"
     ]
    },
    {
     "name": "stdout",
     "output_type": "stream",
     "text": [
      "    Range : 176000 ... 866999 =    176.000 ...   866.999 secs\n",
      "Ready.\n",
      "Reading 0 ... 690999  =      0.000 ...   690.999 secs...\n",
      "Created an SSP operator (subspace dimension = 3)\n",
      "3 projection items activated\n",
      "SSP projectors applied...\n",
      "Writing \\\\blur\\ECOABS\\Data\\sub11\\proj\\PROJ0076_SUBJ0011_SER003_FILESNO001.fif\n"
     ]
    },
    {
     "name": "stderr",
     "output_type": "stream",
     "text": [
      "<ipython-input-3-61c07cc77cdc>:29: RuntimeWarning: This filename (\\\\blur\\ECOABS\\Data\\sub11\\proj\\PROJ0076_SUBJ0011_SER003_FILESNO001.fif) does not conform to MNE naming conventions. All raw files should end with raw.fif, raw_sss.fif, raw_tsss.fif, raw.fif.gz, raw_sss.fif.gz, raw_tsss.fif.gz or _meg.fif\n",
      "  raw.save(fname)\n"
     ]
    },
    {
     "name": "stdout",
     "output_type": "stream",
     "text": [
      "Closing \\\\blur\\ECOABS\\Data\\sub11\\proj\\PROJ0076_SUBJ0011_SER003_FILESNO001.fif\n",
      "[done]\n",
      "Opening raw data file B:\\Data\\sub11\\PROJ0076_SUBJ0011_SER004_FILESNO001.fif...\n",
      "    Read a total of 8 projection items:\n",
      "        grad3v_ssp_upr.fif : PCA-v1 (1 x 306)  idle\n",
      "        grad3v_ssp_upr.fif : PCA-v2 (1 x 306)  idle\n",
      "        grad3v_ssp_upr.fif : PCA-v3 (1 x 306)  idle\n",
      "        mag5v_ssp_upr.fif : PCA-v1 (1 x 306)  idle\n",
      "        mag5v_ssp_upr.fif : PCA-v2 (1 x 306)  idle\n",
      "        mag5v_ssp_upr.fif : PCA-v3 (1 x 306)  idle\n",
      "        mag5v_ssp_upr.fif : PCA-v4 (1 x 306)  idle\n",
      "        mag5v_ssp_upr.fif : PCA-v5 (1 x 306)  idle\n"
     ]
    },
    {
     "name": "stderr",
     "output_type": "stream",
     "text": [
      "<ipython-input-3-61c07cc77cdc>:17: RuntimeWarning: This filename (B:\\Data\\sub11\\PROJ0076_SUBJ0011_SER004_FILESNO001.fif) does not conform to MNE naming conventions. All raw files should end with raw.fif, raw_sss.fif, raw_tsss.fif, raw.fif.gz, raw_sss.fif.gz, raw_tsss.fif.gz or _meg.fif\n",
      "  raw = mne.io.read_raw_fif(f,preload=True)\n"
     ]
    },
    {
     "name": "stdout",
     "output_type": "stream",
     "text": [
      "    Range : 100000 ... 734999 =    100.000 ...   734.999 secs\n",
      "Ready.\n",
      "Reading 0 ... 634999  =      0.000 ...   634.999 secs...\n",
      "Created an SSP operator (subspace dimension = 3)\n",
      "3 projection items activated\n",
      "SSP projectors applied...\n",
      "Writing \\\\blur\\ECOABS\\Data\\sub11\\proj\\PROJ0076_SUBJ0011_SER004_FILESNO001.fif\n"
     ]
    },
    {
     "name": "stderr",
     "output_type": "stream",
     "text": [
      "<ipython-input-3-61c07cc77cdc>:29: RuntimeWarning: This filename (\\\\blur\\ECOABS\\Data\\sub11\\proj\\PROJ0076_SUBJ0011_SER004_FILESNO001.fif) does not conform to MNE naming conventions. All raw files should end with raw.fif, raw_sss.fif, raw_tsss.fif, raw.fif.gz, raw_sss.fif.gz, raw_tsss.fif.gz or _meg.fif\n",
      "  raw.save(fname)\n"
     ]
    },
    {
     "name": "stdout",
     "output_type": "stream",
     "text": [
      "Closing \\\\blur\\ECOABS\\Data\\sub11\\proj\\PROJ0076_SUBJ0011_SER004_FILESNO001.fif\n",
      "[done]\n",
      "Opening raw data file B:\\Data\\sub11\\PROJ0076_SUBJ0011_SER005_FILESNO001.fif...\n",
      "    Read a total of 8 projection items:\n",
      "        grad3v_ssp_upr.fif : PCA-v1 (1 x 306)  idle\n",
      "        grad3v_ssp_upr.fif : PCA-v2 (1 x 306)  idle\n",
      "        grad3v_ssp_upr.fif : PCA-v3 (1 x 306)  idle\n",
      "        mag5v_ssp_upr.fif : PCA-v1 (1 x 306)  idle\n",
      "        mag5v_ssp_upr.fif : PCA-v2 (1 x 306)  idle\n"
     ]
    },
    {
     "name": "stderr",
     "output_type": "stream",
     "text": [
      "<ipython-input-3-61c07cc77cdc>:17: RuntimeWarning: This filename (B:\\Data\\sub11\\PROJ0076_SUBJ0011_SER005_FILESNO001.fif) does not conform to MNE naming conventions. All raw files should end with raw.fif, raw_sss.fif, raw_tsss.fif, raw.fif.gz, raw_sss.fif.gz, raw_tsss.fif.gz or _meg.fif\n",
      "  raw = mne.io.read_raw_fif(f,preload=True)\n"
     ]
    },
    {
     "name": "stdout",
     "output_type": "stream",
     "text": [
      "        mag5v_ssp_upr.fif : PCA-v3 (1 x 306)  idle\n",
      "        mag5v_ssp_upr.fif : PCA-v4 (1 x 306)  idle\n",
      "        mag5v_ssp_upr.fif : PCA-v5 (1 x 306)  idle\n",
      "    Range : 158000 ... 787999 =    158.000 ...   787.999 secs\n",
      "Ready.\n",
      "Reading 0 ... 629999  =      0.000 ...   629.999 secs...\n",
      "Created an SSP operator (subspace dimension = 3)\n",
      "3 projection items activated\n",
      "SSP projectors applied...\n",
      "Writing \\\\blur\\ECOABS\\Data\\sub11\\proj\\PROJ0076_SUBJ0011_SER005_FILESNO001.fif\n"
     ]
    },
    {
     "name": "stderr",
     "output_type": "stream",
     "text": [
      "<ipython-input-3-61c07cc77cdc>:29: RuntimeWarning: This filename (\\\\blur\\ECOABS\\Data\\sub11\\proj\\PROJ0076_SUBJ0011_SER005_FILESNO001.fif) does not conform to MNE naming conventions. All raw files should end with raw.fif, raw_sss.fif, raw_tsss.fif, raw.fif.gz, raw_sss.fif.gz, raw_tsss.fif.gz or _meg.fif\n",
      "  raw.save(fname)\n"
     ]
    },
    {
     "name": "stdout",
     "output_type": "stream",
     "text": [
      "Closing \\\\blur\\ECOABS\\Data\\sub11\\proj\\PROJ0076_SUBJ0011_SER005_FILESNO001.fif\n",
      "[done]\n"
     ]
    }
   ],
   "source": [
    "\n",
    "## apply a subset of  projs\n",
    "\n",
    "# just an example\n",
    "for subj_folder in glob('B:\\Data\\sub*'):\n",
    "    \n",
    "    if not subj_folder[-2:] =='11':\n",
    "        continue\n",
    "    \n",
    "    \n",
    "    subject = subj_folder[-5:]\n",
    "    print(subject)\n",
    "    \n",
    "    \n",
    "    for f in glob(subj_folder+'\\*.fif'):\n",
    "    \n",
    "\n",
    "        raw = mne.io.read_raw_fif(f,preload=True)\n",
    "        ## only removing x, y and z gradients                           \n",
    "        raw.info['projs'] = raw.info['projs'][3:4] + raw.info['projs'][5:7] \n",
    "        raw.apply_proj()\n",
    "        output_dir= \"B:\\Data\"\n",
    "    \n",
    "        \n",
    "        fname = os.path.join(output_dir,subject,'proj',f.split('\\\\')[-1])\n",
    "        \n",
    "        if not os.path.isdir(os.path.join(output_dir,subject,'proj')):\n",
    "            os.mkdir(os.path.join(output_dir,subject,'proj'))\n",
    "        \n",
    "        raw.save(fname)"
   ]
  },
  {
   "cell_type": "code",
   "execution_count": 21,
   "metadata": {},
   "outputs": [],
   "source": [
    "output_dir= 'B:\\Data\\sub02\\proj"
   ]
  },
  {
   "cell_type": "code",
   "execution_count": 30,
   "metadata": {},
   "outputs": [
    {
     "data": {
      "text/plain": [
       "'B:\\\\Data\\\\sub02\\\\proj'"
      ]
     },
     "execution_count": 30,
     "metadata": {},
     "output_type": "execute_result"
    }
   ],
   "source": [
    "output_dir"
   ]
  },
  {
   "cell_type": "code",
   "execution_count": 48,
   "metadata": {},
   "outputs": [
    {
     "name": "stdout",
     "output_type": "stream",
     "text": [
      "B:\\Data\\sub02\\proj\\PROJ0076_SUBJ0002_SER001_FILESNO001.fif\n"
     ]
    }
   ],
   "source": [
    "output_dir= \"B:\\Data\\sub02\\proj\"\n",
    "print(os.path.join(output_dir,f.split('\\\\')[-1]))"
   ]
  },
  {
   "cell_type": "code",
   "execution_count": 43,
   "metadata": {},
   "outputs": [
    {
     "name": "stdout",
     "output_type": "stream",
     "text": [
      "B:\\Data\\sub02\\PROJ0076_SUBJ0002_SER001_FILESNO001.fif\n"
     ]
    }
   ],
   "source": [
    "print(fname)"
   ]
  },
  {
   "cell_type": "code",
   "execution_count": 40,
   "metadata": {},
   "outputs": [
    {
     "data": {
      "text/plain": [
       "'B:/Data/sub02/proj'"
      ]
     },
     "execution_count": 40,
     "metadata": {},
     "output_type": "execute_result"
    }
   ],
   "source": [
    "output_dir"
   ]
  },
  {
   "cell_type": "code",
   "execution_count": 45,
   "metadata": {},
   "outputs": [
    {
     "data": {
      "text/plain": [
       "'B:\\\\Data\\\\sub02\\\\PROJ0076_SUBJ0002_SER001_FILESNO001.fif'"
      ]
     },
     "execution_count": 45,
     "metadata": {},
     "output_type": "execute_result"
    }
   ],
   "source": [
    "f"
   ]
  },
  {
   "cell_type": "code",
   "execution_count": null,
   "metadata": {},
   "outputs": [],
   "source": []
  }
 ],
 "metadata": {
  "kernelspec": {
   "display_name": "Python 3",
   "language": "python",
   "name": "python3"
  },
  "language_info": {
   "codemirror_mode": {
    "name": "ipython",
    "version": 3
   },
   "file_extension": ".py",
   "mimetype": "text/x-python",
   "name": "python",
   "nbconvert_exporter": "python",
   "pygments_lexer": "ipython3",
   "version": "3.8.5"
  }
 },
 "nbformat": 4,
 "nbformat_minor": 4
}
